{
 "cells": [
  {
   "cell_type": "markdown",
   "metadata": {},
   "source": [
    "### Proyecto Final Grupal HENRY\n",
    "\n",
    "**ML_prepro**  \n",
    "Pre procesamiento de datos para posterior utilización en los algoritmos de ML\n",
    "\n",
    "**Autores:**\n",
    "\n",
    "**Camino Federico**  \n",
    "**Londero Walter**  \n",
    "**Pizarro Hernan**  \n",
    "**Urteaga Facundo**  \n",
    "**Veron Cintia**   \n",
    "\n",
    "**Resumen:** \n",
    "\n",
    "1.  **Carga de librerías y datos**\n",
    "2.  **Tratamiento de categorías generales**\n",
    "3.  **Tratamiento de categorías de locales**\n",
    "4.  **Filtrado de categorías de locales y chequeo con otras fuentes**\n",
    "5.  **Comportamiento de usuarios**\n",
    "5.  **Guardar datos como .csv**"
   ]
  },
  {
   "cell_type": "markdown",
   "metadata": {},
   "source": [
    "#### 1. Carga de librerías y datos"
   ]
  },
  {
   "cell_type": "code",
   "execution_count": 9,
   "metadata": {},
   "outputs": [],
   "source": [
    "# Carga de librerías\n",
    "\n",
    "import pandas as pd\n",
    "import numpy as np\n",
    "import matplotlib.pyplot as plt\n",
    "import warnings\n",
    "warnings.filterwarnings('ignore') # Para evitar los molestos avisos."
   ]
  },
  {
   "cell_type": "code",
   "execution_count": 10,
   "metadata": {},
   "outputs": [],
   "source": [
    "# Carga  de archivos\n",
    "\n",
    "df_businessGOOGLE = pd.read_csv(\"business_ML.csv\") # Negocios GOOGLE 7 datos\n",
    "df_businessYELP = pd.read_csv(\"BusinesslistYELPML.csv\") # 7 business_id\n",
    "df_categoriasCA = pd.read_csv(\"categoriasCA.csv\") # 3854 CAT de CA\n",
    "df_metadatos = pd.read_csv(\"metadatos_ML.csv\") # 18776 filas x 9 columnas\n",
    "df_negociosciudad = pd.read_csv(\"negociosciudad.csv\") # 18776 gmap_id\n",
    "df_reviewsGoogle = pd.read_csv(\"reviewsGoogle_ML.csv\") # 154586 reviews con  gmap_id\n",
    "df_reviewsYELP = pd.read_csv(\"ReviewsYELP_ML.csv\") # 216 reviews con business_id\n",
    "df_user = pd.read_csv(\"user_ML.csv\") # 207 usuarios\n",
    "df_yelpCA = pd.read_csv(\"yelpCA.csv\") # 3948 business_id\n"
   ]
  },
  {
   "cell_type": "markdown",
   "metadata": {},
   "source": [
    "#### 2. Tratamiento de categorías generales"
   ]
  },
  {
   "cell_type": "code",
   "execution_count": 11,
   "metadata": {},
   "outputs": [],
   "source": [
    "# Se estableceran las siguientes categorías: Auto, Beauty, Clothes, Health, Home, Food,\n",
    "# Entertainment, Education, Services, Sports, Technology, Religion, Stores, Buildings.\n",
    "\n",
    "# Esta clasificación es útil para el análisis posterior de calidad de usuarios. No confundir con las categorías de interfaz de usuario."
   ]
  },
  {
   "cell_type": "code",
   "execution_count": 12,
   "metadata": {},
   "outputs": [],
   "source": [
    "# Se definen palabras clave que se encuentran en la lista de palabras de la columna \"category\" de los locales, para poder realizar esta clasificación.\n",
    "\n",
    "def generalize_category(category):\n",
    "    auto_keywords = [\"auto\", \"car\", \"gas station\", \"parking\", \"vehicle\", \"tire\"]\n",
    "    beauty_keywords = [\"beauty\", \"hair\", \"nail\", \"cosmetic\", \"spa\", \"salon\", \"massage\"]\n",
    "    clothes_keywords = [\"clothing\", \"shoe\", \"boutique\", \"fashion\"]\n",
    "    health_keywords = [\"hospital\", \"clinic\", \"doctor\", \"pharmacy\", \"dental\", \"health\", \"medical\", \"nurse\", \"vet\", \"veterinary\",'dentist']\n",
    "    home_keywords = [\"home\", \"furniture\", \"garden\", \"real estate\", \"property\", \"plumber\", \"electrician\", \"construction\",'laundromat',\"dry cleaner\"]\n",
    "    food_keywords = [\"restaurant\", \"cafe\", \"bakery\", \"grocery\", \"supermarket\", \"food\", \"bar\", \"pub\"]\n",
    "    entertainment_keywords = [\"theater\", \"cinema\", \"museum\", \"park\", \"zoo\", \"amusement\", \"casino\",'art gallery']\n",
    "    education_keywords = [\"school\", \"university\", \"college\", \"library\", \"education\", \"learning\", \"academy\"]\n",
    "    services_keywords = [\"bank\", \"insurance\", \"consulting\", \"lawyer\", \"attorney\", \"service\", \"repair\", \"maintenance\", \"laundry\", \"post office\"]\n",
    "    sports_keywords = [\"gym\", \"fitness\", \"sport\", \"stadium\", \"arena\", \"athletic\"]\n",
    "    technology_keywords = [\"it\", \"tech\", \"technology\", \"computer\", \"software\", \"hardware\", \"electronics\", \"telecom\"]\n",
    "    religion_keywords = [\"synagogue\", \"church\", \"buddhist\", \"mosque\",\"religious\"]\n",
    "    stores_keywords = ['liquor store','convenience store','Store','store','coffee shop','shopping mall','cell phone store','florist',\"fabric store\",\"shop\",'jeweler']\n",
    "    buildings_keywords = ['corporate office','apartment','condominium','hotel','store','coffee shop','shopping mall','cell phone store','florist',\"fabric store\",\"shop\"]\n",
    "\n",
    "    if isinstance(category, str):\n",
    "        \n",
    "        # Convertir la categoría a minúsculas para la comparación\n",
    "        category_lower = category.lower()\n",
    "\n",
    "        if any(keyword in category_lower for keyword in auto_keywords):\n",
    "            return \"Auto\"\n",
    "        if any(keyword in category_lower for keyword in beauty_keywords):\n",
    "            return \"Beauty\"\n",
    "        if any(keyword in category_lower for keyword in clothes_keywords):\n",
    "            return \"Clothes\"\n",
    "        if any(keyword in category_lower for keyword in health_keywords):\n",
    "            return \"Health\"\n",
    "        if any(keyword in category_lower for keyword in home_keywords):\n",
    "            return \"Home\"\n",
    "        if any(keyword in category_lower for keyword in food_keywords):\n",
    "            return \"Food\"\n",
    "        if any(keyword in category_lower for keyword in entertainment_keywords):\n",
    "            return \"Entertainment\"\n",
    "        if any(keyword in category_lower for keyword in education_keywords):\n",
    "            return \"Education\"\n",
    "        if any(keyword in category_lower for keyword in services_keywords):\n",
    "            return \"Services\"\n",
    "        if any(keyword in category_lower for keyword in sports_keywords):\n",
    "            return \"Sports\"\n",
    "        if any(keyword in category_lower for keyword in technology_keywords):\n",
    "            return \"Technology\"\n",
    "        if any(keyword in category_lower for keyword in religion_keywords):\n",
    "            return \"Religion\"\n",
    "        if any(keyword in category_lower for keyword in stores_keywords):\n",
    "            return \"Stores\"\n",
    "        if any(keyword in category_lower for keyword in buildings_keywords):\n",
    "            return \"Buildings\"\n",
    "        \n",
    "        return \"Other\"\n",
    "    \n",
    "    return \"Other\"\n",
    "\n",
    "# Aplicar la función al DataFrame\n",
    "df_metadatos['general_category'] = df_metadatos['category'].apply(generalize_category)"
   ]
  },
  {
   "cell_type": "code",
   "execution_count": 13,
   "metadata": {},
   "outputs": [
    {
     "data": {
      "text/plain": [
       "general_category\n",
       "Food             3421\n",
       "Other            2998\n",
       "Stores           2181\n",
       "Services         1888\n",
       "Auto             1888\n",
       "Beauty           1270\n",
       "Home              865\n",
       "Health            757\n",
       "Clothes           754\n",
       "Technology        720\n",
       "Buildings         547\n",
       "Religion          531\n",
       "Entertainment     404\n",
       "Education         344\n",
       "Sports            208\n",
       "Name: count, dtype: int64"
      ]
     },
     "execution_count": 13,
     "metadata": {},
     "output_type": "execute_result"
    }
   ],
   "source": [
    "# Exploramos las categorías. En \"Other\" se alojan aquellos locales que no pudieron ser clasificados\n",
    "df_metadatos[\"general_category\"].value_counts()"
   ]
  },
  {
   "cell_type": "code",
   "execution_count": 14,
   "metadata": {},
   "outputs": [
    {
     "data": {
      "text/plain": [
       "category\n",
       "['Bus stop']                       282\n",
       "['Historical landmark']             65\n",
       "['Smog inspection station']         64\n",
       "['Association or organization']     53\n",
       "['ATM']                             49\n",
       "['Recording studio']                46\n",
       "['Bus station']                     42\n",
       "['Airline']                         38\n",
       "['Pet groomer']                     37\n",
       "['Law firm']                        36\n",
       "Name: count, dtype: int64"
      ]
     },
     "execution_count": 14,
     "metadata": {},
     "output_type": "execute_result"
    }
   ],
   "source": [
    "# Filtrar el DataFrame donde general_category es igual a \"Other\"\n",
    "filtered_df = df_metadatos[df_metadatos[\"general_category\"] == \"Other\"]\n",
    "\n",
    "# Contar los valores de la columna \"category\" en el DataFrame filtrado\n",
    "category_counts = filtered_df[\"category\"].value_counts()\n",
    "\n",
    "# Mostrar los resultados\n",
    "category_counts.head(10)\n",
    "\n",
    "# Encontramos que la mayoría de las etiquetas de \"Other\" pueden despreciarse debido a la naturaleza, la variedad y la cantidad."
   ]
  },
  {
   "cell_type": "markdown",
   "metadata": {},
   "source": [
    "#### 3. Tratamiento de categorías de locales"
   ]
  },
  {
   "cell_type": "code",
   "execution_count": 15,
   "metadata": {},
   "outputs": [],
   "source": [
    "# Se estableceran las siguientes categorías de elección con sus sub-categorías:\n",
    "\n",
    "#     Restaurant: - Comida asiática\n",
    "#                 - Comida latinoamericana\n",
    "#                 - Comida europea\n",
    "#                 - Comida norteamericana y fast food\n",
    "#                 - Comida vegana y vegetariana\n",
    "\n",
    "#     Religion:   - Protestanismo (cat 1)\n",
    "#                 - Catolisismo (cat 2)\n",
    "#                 - Judaísmo (cat 3)\n",
    "#                 - Budismo (cat 4)\n",
    "#                 - Islam (cat 5)\n",
    "#     Recreation:\n",
    "#                 - Arte, música, teatro, cine, bibliotecas (cat 1)\n",
    "#                 - Clubes nocturnos (cat 2)\n",
    "#                 - Salas de Bowling, pool, dardos, casino (cat 3)\n",
    "\n",
    "# Se establece la categoría general de bienestar:\n",
    "\n",
    "#     Bienestar: - Lugares públicos de esparcimiento\n",
    "#                - Centros asistenciales de salud\n",
    "#                - Estaciones policiales\n",
    "#                - Estaciones de bomberos\n",
    "#                - Gimnasios y centros de actividad física\n",
    "#                - Farmacias"
   ]
  },
  {
   "cell_type": "code",
   "execution_count": 16,
   "metadata": {},
   "outputs": [],
   "source": [
    "# Funciones para seleccionar categorías de restaurants a partir de etiquetas en categories\n",
    "\n",
    "# Función para verificar y asignar res_asian\n",
    "def categorize_res_asian(categories):\n",
    "    if isinstance(categories, str):\n",
    "        if any(keyword in categories for keyword in [\"Asian restaurant\", \"Vietnamese restaurant\",\"Chinese restaurant\", \n",
    "                                                     \"Sushi restaurant\", \"Ramen restaurant\", \"Korean restaurant\", \n",
    "                                                     \"Japanese restaurant\",\"Sushi takeaway\",\"Chinese takeaway\",\n",
    "                                                     \"Asian fusion restaurant\", \"Southeast Asian restaurant\", \"South Asian restaurant\",\n",
    "                                                     \"Thai restaurant\", \"Korean barbecue restaurant\"]):\n",
    "            return 1\n",
    "    return 0\n",
    "\n",
    "# Función para verificar y asignar res_latin\n",
    "def categorize_res_latin(categories):\n",
    "    if isinstance(categories, str):\n",
    "        if any(keyword in categories for keyword in [\"Mexican restaurant\", \"Tex-Mex restaurant\",\"Mexican torta restaurant\", \n",
    "                                                     \"Taco restaurant\", \"Burrito restaurant\", \"Salvadoran restaurant\", \n",
    "                                                     \"South American restaurant\",\"Latin American restaurant\",\"Nuevo Latino restaurant\",\n",
    "                                                     \"Pan-Latin restaurant\", \"Argentinian restaurant\", \"Brazilian restaurant\",\n",
    "                                                     \"Colombian restaurant\", \"Venezuelan restaurant\", \"Peruvian restaurant\",\n",
    "                                                     \"Central American restaurant\"]):\n",
    "            return 1\n",
    "    return 0\n",
    "\n",
    "# Función para verificar y asignar res_euro\n",
    "def categorize_res_euro(categories):\n",
    "    if isinstance(categories, str):\n",
    "        if any(keyword in categories for keyword in [\"Greek restaurant\", \"Italian restaurant\", \"Northern Italian restaurant\", \n",
    "                                                     \"Southern Italian restaurant\", \"Spanish restaurant\", \"Mediterranean restaurant\", \n",
    "                                                     \"French restaurant\",\"Modern French restaurant\",\"Haute French restaurant\",\n",
    "                                                     \"French steakhouse restaurant\", \"German restaurant\", \"British restaurant\",\n",
    "                                                     \"Russian restaurant\", \"European restaurant\", \"Modern European restaurant\"]):\n",
    "            return 1\n",
    "    return 0\n",
    "\n",
    "# Función para verificar y asignar res_latin\n",
    "def categorize_res_fast(categories):\n",
    "    if isinstance(categories, str):\n",
    "        if any(keyword in categories for keyword in [\"Fast food restaurant\", \"Hamburguer restaurant\", \"American restaurant\", \n",
    "                                                     \"Sandwich shop\", \"Pizza restaurant\", \"Pizza delivery\", \n",
    "                                                     \"Pizza takeout\",\"Pizza takeaway\",\"Hot dog restaurant\",\n",
    "                                                     \"Hot dog stand\", \"Chicken wings restaurant\", \"Chicken restaurant\",\n",
    "                                                     \"Fried Chicken takeaway\", \"Barbecue restaurant\", \"Salad shop\"]):\n",
    "            return 1\n",
    "    return 0\n",
    "\n",
    "# Función para verificar y asignar res_latin\n",
    "def categorize_res_vegan(categories):\n",
    "    if isinstance(categories, str):\n",
    "        if any(keyword in categories for keyword in [\"Vegan restaurant\", \"Salad shop\", \"Vegetarian restaurant\", \n",
    "                                                     \"Vegetarian cafe and deli\"]):\n",
    "            return 1\n",
    "    return 0"
   ]
  },
  {
   "cell_type": "code",
   "execution_count": 17,
   "metadata": {},
   "outputs": [],
   "source": [
    "# Aplicar la función a cada fila\n",
    "\n",
    "df_metadatos[\"res_asian\"] = df_metadatos[\"category\"].apply(categorize_res_asian)\n",
    "df_metadatos[\"res_latin\"] = df_metadatos[\"category\"].apply(categorize_res_latin)\n",
    "df_metadatos[\"res_euro\"] = df_metadatos[\"category\"].apply(categorize_res_euro)\n",
    "df_metadatos[\"res_fast\"] = df_metadatos[\"category\"].apply(categorize_res_fast)\n",
    "df_metadatos[\"res_vegan\"] = df_metadatos[\"category\"].apply(categorize_res_vegan)\n"
   ]
  },
  {
   "cell_type": "code",
   "execution_count": 18,
   "metadata": {},
   "outputs": [],
   "source": [
    "# Funciones para seleccionar categorías de religion. Se separan en 5 categorías religiosas a partir de un estudio de los grupos religiosos\n",
    "# mayoritarios en la zona. Se definen: protestanismo, catolicismo, judaísmo, budismo e islamismo\n",
    "\n",
    "# Función para verificar y asignar rel_pro\n",
    "def categorize_rel(categories):\n",
    "    if isinstance(categories, str):\n",
    "        \n",
    "        if any(keyword in categories for keyword in [\"Gospel church\", \"Reformed church\", \"Foursquare church\",\n",
    "                                                     \"Church of the Nazarene\", \"Apostolic church\", \"Evangelical church\", \n",
    "                                                     \"Assemblies of God church\", \"Calvary Chapel church\", \"Pentecostal church\", \n",
    "                                                     \"Methodist church\", \"Church of Christ\", \"Non-denominational church\", \n",
    "                                                     \"Presbyterian church\", \"Lutheran church\", \"Baptist church\", \n",
    "                                                     \"Christian church\", \"Protestant church\"]):\n",
    "            return 1\n",
    "        \n",
    "        if any(keyword in categories for keyword in [\"Catholic church\", \"Cathedral\",\"Catholic Cathedral\"]):\n",
    "            return 2\n",
    "\n",
    "        if any(keyword in categories for keyword in [\"Synagogue\", \"Orthodox synagogue\",\"Reform synagogue\",\n",
    "                                                     \"Conservative synagogue\",\"Messianic synagogue\"]):\n",
    "            return 3\n",
    "\n",
    "        if any(keyword in categories for keyword in [\"Buddhist temple\"]):\n",
    "            return 4\n",
    "\n",
    "        if any(keyword in categories for keyword in [\"Mosque\"]):\n",
    "            return 5\n",
    "\n",
    "    return 0\n"
   ]
  },
  {
   "cell_type": "code",
   "execution_count": 19,
   "metadata": {},
   "outputs": [],
   "source": [
    "# Aplicar la función a cada fila\n",
    "\n",
    "df_metadatos[\"religion\"] = df_metadatos[\"category\"].apply(categorize_rel)"
   ]
  },
  {
   "cell_type": "code",
   "execution_count": 20,
   "metadata": {},
   "outputs": [],
   "source": [
    "# Funciones para seleccionar categorías de recreacion\n",
    "\n",
    "# Función para verificar y asignar rel_pro\n",
    "\n",
    "def categorize_rec(categories):\n",
    "    if isinstance(categories, str):\n",
    "        \n",
    "        if any(keyword in categories for keyword in [\"Performing arts theater\", \"Movie theater\", \"Amphitheater\",\n",
    "                                                     \"Drama theater\", \"Outdoor movie theater\", \"Drive-in movie theater\", \n",
    "                                                     \"Ballet theater\", \"Live music venue\", \"Live music bar\", \n",
    "                                                     \"Musical club\", \"Public library\"]):\n",
    "            return 1\n",
    "        \n",
    "        if any(keyword in categories for keyword in [\"Night club\", \"Disco club\",\"Dance hall\", \n",
    "                                                     \"Pub\", \"Brewpub\", \"Gastropub\", \"Irish pub\"]):\n",
    "            return 2\n",
    "\n",
    "        if any(keyword in categories for keyword in [\"Bowling alley\", \"Sports bar\",\"Pool hall\",\n",
    "                                                     \"Pool billard club\",\"Video arcade\", \"Dart bar\",\n",
    "                                                     \"Casino\"]):\n",
    "            return 3\n",
    "        \n",
    "    return 0"
   ]
  },
  {
   "cell_type": "code",
   "execution_count": 21,
   "metadata": {},
   "outputs": [],
   "source": [
    "# Aplicar la función a cada fila\n",
    "df_metadatos[\"recreation\"] = df_metadatos[\"category\"].apply(categorize_rec)"
   ]
  },
  {
   "cell_type": "code",
   "execution_count": 22,
   "metadata": {},
   "outputs": [],
   "source": [
    "# Funciones para seleccionar categorías de bienestar\n",
    "\n",
    "# Función para verificar y asignar bien\n",
    "def categorize_bien(categories):\n",
    "    if isinstance(categories, str):\n",
    "        if any(keyword in categories for keyword in [\"Public beach\", \"public swimming pool\", \"Public educational institution\",\n",
    "                                                      \"Medical center\", \"Medical clinic\", \"Hospital\",\n",
    "                                                      \"General hospital\", \"Fire station\", \"Police department\",\n",
    "                                                      \"Police station\", \"State police\", \"Civil police\",\n",
    "                                                      \"Park\", \"Gym\", \"Pharmacy\", \"Fitness center\"]):\n",
    "            return 1\n",
    "    return 0"
   ]
  },
  {
   "cell_type": "code",
   "execution_count": 23,
   "metadata": {},
   "outputs": [],
   "source": [
    "# Aplicar la función a cada fila\n",
    "\n",
    "df_metadatos[\"bienestar\"] = df_metadatos[\"category\"].apply(categorize_bien)"
   ]
  },
  {
   "cell_type": "code",
   "execution_count": 24,
   "metadata": {},
   "outputs": [
    {
     "data": {
      "text/plain": [
       "recreation\n",
       "0    18468\n",
       "2      145\n",
       "1      137\n",
       "3       26\n",
       "Name: count, dtype: int64"
      ]
     },
     "execution_count": 24,
     "metadata": {},
     "output_type": "execute_result"
    }
   ],
   "source": [
    "# Mostrar las primeras filas del DataFrame\n",
    "\n",
    "df_metadatos[\"recreation\"].value_counts()"
   ]
  },
  {
   "cell_type": "markdown",
   "metadata": {},
   "source": [
    "#### 4. Filtrado de categorías de locales y chequeo con otras fuentes"
   ]
  },
  {
   "cell_type": "code",
   "execution_count": 25,
   "metadata": {},
   "outputs": [],
   "source": [
    "# Lista de columnas a verificar\n",
    "columns_to_check = ['res_asian', 'res_euro', 'res_latin', 'res_fast', 'res_vegan', 'religion', 'recreation', 'bienestar']\n",
    "\n",
    "# Filtrar el DataFrame\n",
    "df_metadatos_filtered = df_metadatos[df_metadatos[columns_to_check].any(axis=1)]"
   ]
  },
  {
   "cell_type": "code",
   "execution_count": 26,
   "metadata": {},
   "outputs": [
    {
     "name": "stdout",
     "output_type": "stream",
     "text": [
      "<class 'pandas.core.frame.DataFrame'>\n",
      "Index: 2814 entries, 1 to 18775\n",
      "Data columns (total 18 columns):\n",
      " #   Column            Non-Null Count  Dtype  \n",
      "---  ------            --------------  -----  \n",
      " 0   address           2814 non-null   object \n",
      " 1   gmap_id           2814 non-null   object \n",
      " 2   latitude          2814 non-null   float64\n",
      " 3   longitude         2814 non-null   float64\n",
      " 4   category          2814 non-null   object \n",
      " 5   avg_rating        2814 non-null   float64\n",
      " 6   num_of_reviews    2814 non-null   int64  \n",
      " 7   Hours_day         2814 non-null   int64  \n",
      " 8   Hours_night       2814 non-null   int64  \n",
      " 9   general_category  2814 non-null   object \n",
      " 10  res_asian         2814 non-null   int64  \n",
      " 11  res_latin         2814 non-null   int64  \n",
      " 12  res_euro          2814 non-null   int64  \n",
      " 13  res_fast          2814 non-null   int64  \n",
      " 14  res_vegan         2814 non-null   int64  \n",
      " 15  religion          2814 non-null   int64  \n",
      " 16  recreation        2814 non-null   int64  \n",
      " 17  bienestar         2814 non-null   int64  \n",
      "dtypes: float64(3), int64(11), object(4)\n",
      "memory usage: 417.7+ KB\n"
     ]
    }
   ],
   "source": [
    "df_metadatos_filtered.info() # De 18776 a 2814\n",
    "\n",
    "# Esto significa que de las 18776 ubicaciones quedan 2814 para el algoritmo"
   ]
  },
  {
   "cell_type": "code",
   "execution_count": 27,
   "metadata": {},
   "outputs": [],
   "source": [
    "# Obtener los \"gmap_id\" únicos de df_metadatos_filtered\n",
    "gmap_ids_filtered = df_metadatos_filtered['gmap_id'].unique()\n",
    "\n",
    "# Filtrar df_reviewsGoogle\n",
    "df_reviewsGoogle_filtered = df_reviewsGoogle[df_reviewsGoogle['gmap_id'].isin(gmap_ids_filtered)]"
   ]
  },
  {
   "cell_type": "code",
   "execution_count": 28,
   "metadata": {},
   "outputs": [
    {
     "name": "stdout",
     "output_type": "stream",
     "text": [
      "<class 'pandas.core.frame.DataFrame'>\n",
      "Index: 52407 entries, 0 to 154443\n",
      "Data columns (total 4 columns):\n",
      " #   Column   Non-Null Count  Dtype  \n",
      "---  ------   --------------  -----  \n",
      " 0   user_id  52407 non-null  float64\n",
      " 1   time     52407 non-null  int64  \n",
      " 2   rating   52407 non-null  int64  \n",
      " 3   gmap_id  52407 non-null  object \n",
      "dtypes: float64(1), int64(2), object(1)\n",
      "memory usage: 2.0+ MB\n"
     ]
    }
   ],
   "source": [
    "df_reviewsGoogle_filtered.info() # De 154586 a 52407\n",
    "\n",
    "# Esto significa que de las 154586 reviews quedan 52407 para el algoritmo"
   ]
  },
  {
   "cell_type": "code",
   "execution_count": 29,
   "metadata": {},
   "outputs": [
    {
     "data": {
      "text/html": [
       "<div>\n",
       "<style scoped>\n",
       "    .dataframe tbody tr th:only-of-type {\n",
       "        vertical-align: middle;\n",
       "    }\n",
       "\n",
       "    .dataframe tbody tr th {\n",
       "        vertical-align: top;\n",
       "    }\n",
       "\n",
       "    .dataframe thead th {\n",
       "        text-align: right;\n",
       "    }\n",
       "</style>\n",
       "<table border=\"1\" class=\"dataframe\">\n",
       "  <thead>\n",
       "    <tr style=\"text-align: right;\">\n",
       "      <th></th>\n",
       "      <th>user_id</th>\n",
       "      <th>time</th>\n",
       "      <th>rating</th>\n",
       "      <th>gmap_id</th>\n",
       "      <th>date</th>\n",
       "    </tr>\n",
       "  </thead>\n",
       "  <tbody>\n",
       "    <tr>\n",
       "      <th>0</th>\n",
       "      <td>1.089912e+20</td>\n",
       "      <td>1609909927056</td>\n",
       "      <td>5</td>\n",
       "      <td>0x80c2c778e3b73d33:0xbdc58662a4a97d49</td>\n",
       "      <td>2021-01-06 05:12:07.056</td>\n",
       "    </tr>\n",
       "    <tr>\n",
       "      <th>1</th>\n",
       "      <td>1.112903e+20</td>\n",
       "      <td>1612849648663</td>\n",
       "      <td>5</td>\n",
       "      <td>0x80c2c778e3b73d33:0xbdc58662a4a97d49</td>\n",
       "      <td>2021-02-09 05:47:28.663</td>\n",
       "    </tr>\n",
       "    <tr>\n",
       "      <th>2</th>\n",
       "      <td>1.126404e+20</td>\n",
       "      <td>1583643882296</td>\n",
       "      <td>4</td>\n",
       "      <td>0x80c2c778e3b73d33:0xbdc58662a4a97d49</td>\n",
       "      <td>2020-03-08 05:04:42.296</td>\n",
       "    </tr>\n",
       "    <tr>\n",
       "      <th>3</th>\n",
       "      <td>1.174403e+20</td>\n",
       "      <td>1551938216355</td>\n",
       "      <td>5</td>\n",
       "      <td>0x80c2c778e3b73d33:0xbdc58662a4a97d49</td>\n",
       "      <td>2019-03-07 05:56:56.355</td>\n",
       "    </tr>\n",
       "    <tr>\n",
       "      <th>4</th>\n",
       "      <td>1.005808e+20</td>\n",
       "      <td>1494910901933</td>\n",
       "      <td>5</td>\n",
       "      <td>0x80c2c778e3b73d33:0xbdc58662a4a97d49</td>\n",
       "      <td>2017-05-16 05:01:41.933</td>\n",
       "    </tr>\n",
       "    <tr>\n",
       "      <th>...</th>\n",
       "      <td>...</td>\n",
       "      <td>...</td>\n",
       "      <td>...</td>\n",
       "      <td>...</td>\n",
       "      <td>...</td>\n",
       "    </tr>\n",
       "    <tr>\n",
       "      <th>154439</th>\n",
       "      <td>1.064552e+20</td>\n",
       "      <td>1563494706323</td>\n",
       "      <td>5</td>\n",
       "      <td>0x80c2b82e593589a1:0x35602b6daadce0d7</td>\n",
       "      <td>2019-07-19 00:05:06.323</td>\n",
       "    </tr>\n",
       "    <tr>\n",
       "      <th>154440</th>\n",
       "      <td>1.164411e+20</td>\n",
       "      <td>1560529465601</td>\n",
       "      <td>3</td>\n",
       "      <td>0x80c2b82e593589a1:0x35602b6daadce0d7</td>\n",
       "      <td>2019-06-14 16:24:25.601</td>\n",
       "    </tr>\n",
       "    <tr>\n",
       "      <th>154441</th>\n",
       "      <td>1.011934e+20</td>\n",
       "      <td>1571624221742</td>\n",
       "      <td>4</td>\n",
       "      <td>0x80c2b82e593589a1:0x35602b6daadce0d7</td>\n",
       "      <td>2019-10-21 02:17:01.742</td>\n",
       "    </tr>\n",
       "    <tr>\n",
       "      <th>154442</th>\n",
       "      <td>1.100051e+20</td>\n",
       "      <td>1555389818932</td>\n",
       "      <td>3</td>\n",
       "      <td>0x80c2b82e593589a1:0x35602b6daadce0d7</td>\n",
       "      <td>2019-04-16 04:43:38.932</td>\n",
       "    </tr>\n",
       "    <tr>\n",
       "      <th>154443</th>\n",
       "      <td>1.112266e+20</td>\n",
       "      <td>1525328435633</td>\n",
       "      <td>3</td>\n",
       "      <td>0x80c2b82e593589a1:0x35602b6daadce0d7</td>\n",
       "      <td>2018-05-03 06:20:35.633</td>\n",
       "    </tr>\n",
       "  </tbody>\n",
       "</table>\n",
       "<p>52407 rows × 5 columns</p>\n",
       "</div>"
      ],
      "text/plain": [
       "             user_id           time  rating  \\\n",
       "0       1.089912e+20  1609909927056       5   \n",
       "1       1.112903e+20  1612849648663       5   \n",
       "2       1.126404e+20  1583643882296       4   \n",
       "3       1.174403e+20  1551938216355       5   \n",
       "4       1.005808e+20  1494910901933       5   \n",
       "...              ...            ...     ...   \n",
       "154439  1.064552e+20  1563494706323       5   \n",
       "154440  1.164411e+20  1560529465601       3   \n",
       "154441  1.011934e+20  1571624221742       4   \n",
       "154442  1.100051e+20  1555389818932       3   \n",
       "154443  1.112266e+20  1525328435633       3   \n",
       "\n",
       "                                      gmap_id                    date  \n",
       "0       0x80c2c778e3b73d33:0xbdc58662a4a97d49 2021-01-06 05:12:07.056  \n",
       "1       0x80c2c778e3b73d33:0xbdc58662a4a97d49 2021-02-09 05:47:28.663  \n",
       "2       0x80c2c778e3b73d33:0xbdc58662a4a97d49 2020-03-08 05:04:42.296  \n",
       "3       0x80c2c778e3b73d33:0xbdc58662a4a97d49 2019-03-07 05:56:56.355  \n",
       "4       0x80c2c778e3b73d33:0xbdc58662a4a97d49 2017-05-16 05:01:41.933  \n",
       "...                                       ...                     ...  \n",
       "154439  0x80c2b82e593589a1:0x35602b6daadce0d7 2019-07-19 00:05:06.323  \n",
       "154440  0x80c2b82e593589a1:0x35602b6daadce0d7 2019-06-14 16:24:25.601  \n",
       "154441  0x80c2b82e593589a1:0x35602b6daadce0d7 2019-10-21 02:17:01.742  \n",
       "154442  0x80c2b82e593589a1:0x35602b6daadce0d7 2019-04-16 04:43:38.932  \n",
       "154443  0x80c2b82e593589a1:0x35602b6daadce0d7 2018-05-03 06:20:35.633  \n",
       "\n",
       "[52407 rows x 5 columns]"
      ]
     },
     "execution_count": 29,
     "metadata": {},
     "output_type": "execute_result"
    }
   ],
   "source": [
    "# Conversión de la variable temporal\n",
    "\n",
    "df_reviewsGoogle_filtered['date'] = pd.to_datetime(df_reviewsGoogle['time'], unit='ms')\n",
    "df_reviewsGoogle_filtered"
   ]
  },
  {
   "cell_type": "markdown",
   "metadata": {},
   "source": [
    "#### 5. Tratamiento de usuarios"
   ]
  },
  {
   "cell_type": "code",
   "execution_count": 30,
   "metadata": {},
   "outputs": [
    {
     "data": {
      "image/png": "[encoded data removed]",
      "text/plain": [
       "<Figure size 1000x300 with 1 Axes>"
      ]
     },
     "metadata": {},
     "output_type": "display_data"
    }
   ],
   "source": [
    "# Contar la cantidad de reseñas por user_id\n",
    "reviews_count = df_reviewsGoogle['user_id'].value_counts()\n",
    "\n",
    "# Filtrar los usuarios con más de 4 reseñas\n",
    "filtered_reviews_count = reviews_count[reviews_count > 3]\n",
    "\n",
    "# Limitar la cantidad de reseñas a un máximo de 30 para agrupar en el histograma\n",
    "filtered_reviews_count_clipped = filtered_reviews_count.clip(upper=30)\n",
    "\n",
    "# Crear el histograma\n",
    "plt.figure(figsize=(10, 3))\n",
    "plt.hist(filtered_reviews_count_clipped, bins=list(range(4, 31)) + [31], edgecolor='black', align='left')\n",
    "plt.title('Histograma de la Cantidad de Reseñas por Usuario (Al menos 4 reseñas)')\n",
    "plt.xlabel('Cantidad de Reseñas')\n",
    "plt.ylabel('Cantidad de usuarios')\n",
    "plt.xticks(list(range(4, 31)) + [30])\n",
    "plt.grid(axis='y', linestyle='--', alpha=0.7)\n",
    "\n",
    "# Añadir leyenda\n",
    "handles, labels = plt.gca().get_legend_handles_labels()\n",
    "custom_labels = list(range(4, 30)) + ['30+']\n",
    "plt.legend(handles, custom_labels, title=\"Cantidad de Reseñas\")\n",
    "\n",
    "# Mostrar el histograma\n",
    "plt.show()"
   ]
  },
  {
   "cell_type": "code",
   "execution_count": 32,
   "metadata": {},
   "outputs": [],
   "source": [
    "# Guardar los dataframes modificados hasta el momento para la posterior etapa de ML\n",
    "\n",
    "# Guardar df_metadatos_filtered como un archivo CSV\n",
    "df_metadatos.to_csv('postpro_df_metadatos.csv', index=False)\n",
    "\n",
    "# Guardar df_metadatos_filtered como un archivo CSV\n",
    "df_reviewsGoogle.to_csv('postpro_df_reviewsGoogle.csv', index=False)\n",
    "\n",
    "# Guardar df_metadatos_filtered como un archivo CSV\n",
    "df_metadatos_filtered.to_csv('postpro_df_metadatos_filtered.csv', index=False)\n",
    "\n",
    "# Guardar df_metadatos_filtered como un archivo CSV\n",
    "df_reviewsGoogle_filtered.to_csv('postpro_df_reviewsGoogle_filtered.csv', index=False)"
   ]
  }
 ],
 "metadata": {
  "kernelspec": {
   "display_name": "Python 3",
   "language": "python",
   "name": "python3"
  },
  "language_info": {
   "codemirror_mode": {
    "name": "ipython",
    "version": 3
   },
   "file_extension": ".py",
   "mimetype": "text/x-python",
   "name": "python",
   "nbconvert_exporter": "python",
   "pygments_lexer": "ipython3",
   "version": "3.11.9"
  }
 },
 "nbformat": 4,
 "nbformat_minor": 2
}
