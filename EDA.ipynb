{
 "cells": [
  {
   "cell_type": "markdown",
   "metadata": {},
   "source": [
    "# Importación Librerías"
   ]
  },
  {
   "cell_type": "code",
   "execution_count": 1,
   "metadata": {},
   "outputs": [],
   "source": [
    "import pandas as pd\n",
    "from io import StringIO\n",
    "import json\n",
    "import os\n",
    "import matplotlib.pyplot as plt\n",
    "import matplotlib.ticker as ticker\n",
    "import ast\n",
    "from collections import Counter"
   ]
  },
  {
   "cell_type": "markdown",
   "metadata": {},
   "source": [
    "# Importación Archivos"
   ]
  },
  {
   "cell_type": "markdown",
   "metadata": {},
   "source": [
    "## Reviews Estados - Google"
   ]
  },
  {
   "cell_type": "code",
   "execution_count": 22,
   "metadata": {},
   "outputs": [],
   "source": [
    "# Leer el archivo y almacenar cada línea en una lista\n",
    "lines = []\n",
    "\n",
    "for i in range (18):\n",
    "    file='reviews-estados/review-California/'+str(i+1)+'.json'\n",
    "    with open(file, 'r') as file:\n",
    "        for line in file:\n",
    "            lines.append(line)"
   ]
  },
  {
   "cell_type": "code",
   "execution_count": 23,
   "metadata": {},
   "outputs": [],
   "source": [
    "# Unir todas las líneas en un solo string y leerlo como un DataFrame\n",
    "all_lines = ''.join(lines)\n",
    "df_reviews = pd.read_json(StringIO(all_lines), lines=True)"
   ]
  },
  {
   "cell_type": "code",
   "execution_count": 24,
   "metadata": {},
   "outputs": [],
   "source": [
    "del lines\n",
    "del all_lines\n",
    "del file\n",
    "del line"
   ]
  },
  {
   "cell_type": "code",
   "execution_count": 5,
   "metadata": {},
   "outputs": [
    {
     "name": "stdout",
     "output_type": "stream",
     "text": [
      "<class 'pandas.core.frame.DataFrame'>\n",
      "RangeIndex: 2700000 entries, 0 to 2699999\n",
      "Data columns (total 8 columns):\n",
      " #   Column   Dtype  \n",
      "---  ------   -----  \n",
      " 0   user_id  float64\n",
      " 1   name     object \n",
      " 2   time     int64  \n",
      " 3   rating   int64  \n",
      " 4   text     object \n",
      " 5   pics     object \n",
      " 6   resp     object \n",
      " 7   gmap_id  object \n",
      "dtypes: float64(1), int64(2), object(5)\n",
      "memory usage: 164.8+ MB\n"
     ]
    }
   ],
   "source": [
    "df_reviews.info()"
   ]
  },
  {
   "cell_type": "markdown",
   "metadata": {},
   "source": [
    "Espacio que ocupan\n",
    "Carpeta: 763 Mb (3,8 segundos en importar para una lista, 48,44 segundos para pasarlo a dataframe)\n",
    "Dataframe: 164,8 Mb\n",
    "CSV: 545 Mbs"
   ]
  },
  {
   "cell_type": "markdown",
   "metadata": {},
   "source": [
    "## Metadata  - Google"
   ]
  },
  {
   "cell_type": "markdown",
   "metadata": {},
   "source": [
    "tamaño:\n",
    "carpeta: 2,76 Gb\n",
    "dataframe 370 Mb\n",
    "csv 2,3 Gb"
   ]
  },
  {
   "cell_type": "code",
   "execution_count": 2,
   "metadata": {},
   "outputs": [],
   "source": [
    "# Lista para almacenar los DataFrames\n",
    "dfs = []\n",
    "\n",
    "# Ruta de la carpeta donde se encuentran tus archivos JSON\n",
    "folder_path = 'metadata-sitios/'\n",
    "\n",
    "# Itera sobre los archivos JSON y lee cada uno en un DataFrame\n",
    "for i in range(1, 12):\n",
    "    file_path = os.path.join(folder_path, f'{i}.json')\n",
    "    df = pd.read_json(file_path, lines=True)\n",
    "    dfs.append(df)"
   ]
  },
  {
   "cell_type": "code",
   "execution_count": 3,
   "metadata": {},
   "outputs": [],
   "source": [
    "# Concatena todos los DataFrames en uno solo\n",
    "df_final = pd.concat(dfs, ignore_index=True)"
   ]
  },
  {
   "cell_type": "code",
   "execution_count": 8,
   "metadata": {},
   "outputs": [],
   "source": [
    "#eliminar archivos innecesarios para liberar memoria\n",
    "del df\n",
    "del dfs\n",
    "del file_path\n",
    "del folder_path"
   ]
  },
  {
   "cell_type": "code",
   "execution_count": 4,
   "metadata": {},
   "outputs": [],
   "source": [
    "#extraer el estado de la dirección\n",
    "df_final['estado'] = df_final['address'].str.extract(r', ([A-Z]{2}) \\d{5}')\n"
   ]
  },
  {
   "cell_type": "code",
   "execution_count": 6,
   "metadata": {},
   "outputs": [],
   "source": [
    "#exporto a csv\n",
    "df_final.to_parquet('')"
   ]
  },
  {
   "cell_type": "code",
   "execution_count": 5,
   "metadata": {},
   "outputs": [],
   "source": [
    "#filtro los datos de California, para liberar espacio\n",
    "df_metadatosCA = df_final[df_final['estado'] == 'CA']"
   ]
  },
  {
   "cell_type": "code",
   "execution_count": 6,
   "metadata": {},
   "outputs": [],
   "source": [
    "df_metadatosCA.reset_index(inplace=True)"
   ]
  },
  {
   "cell_type": "code",
   "execution_count": 7,
   "metadata": {},
   "outputs": [
    {
     "name": "stderr",
     "output_type": "stream",
     "text": [
      "C:\\Users\\feder\\AppData\\Local\\Temp\\ipykernel_25372\\1024337664.py:1: SettingWithCopyWarning: \n",
      "A value is trying to be set on a copy of a slice from a DataFrame\n",
      "\n",
      "See the caveats in the documentation: https://pandas.pydata.org/pandas-docs/stable/user_guide/indexing.html#returning-a-view-versus-a-copy\n",
      "  df_metadatosCA.drop('index', axis='columns', inplace=True)\n"
     ]
    }
   ],
   "source": [
    "df_metadatosCA.drop('index', axis='columns', inplace=True)"
   ]
  },
  {
   "cell_type": "code",
   "execution_count": 10,
   "metadata": {},
   "outputs": [],
   "source": [
    "df_metadatosCA.to_parquet('metadatosCA.parquet', engine='pyarrow')"
   ]
  },
  {
   "cell_type": "code",
   "execution_count": 9,
   "metadata": {},
   "outputs": [],
   "source": [
    "del df_final\n"
   ]
  },
  {
   "cell_type": "markdown",
   "metadata": {},
   "source": [
    "## Business - YELP"
   ]
  },
  {
   "cell_type": "markdown",
   "metadata": {},
   "source": [
    "## User - YELP"
   ]
  },
  {
   "cell_type": "markdown",
   "metadata": {},
   "source": [
    "## Review - YELP"
   ]
  },
  {
   "cell_type": "markdown",
   "metadata": {},
   "source": [
    "## Tips/Checkin - YELP"
   ]
  },
  {
   "cell_type": "markdown",
   "metadata": {},
   "source": [
    "# EDA"
   ]
  },
  {
   "cell_type": "markdown",
   "metadata": {},
   "source": [
    "## Reviews Estados - Google"
   ]
  },
  {
   "cell_type": "code",
   "execution_count": 48,
   "metadata": {},
   "outputs": [
    {
     "name": "stdout",
     "output_type": "stream",
     "text": [
      "<class 'pandas.core.frame.DataFrame'>\n",
      "RangeIndex: 2700000 entries, 0 to 2699999\n",
      "Data columns (total 8 columns):\n",
      " #   Column   Dtype  \n",
      "---  ------   -----  \n",
      " 0   user_id  float64\n",
      " 1   name     object \n",
      " 2   time     int64  \n",
      " 3   rating   int64  \n",
      " 4   text     object \n",
      " 5   pics     object \n",
      " 6   resp     object \n",
      " 7   gmap_id  object \n",
      "dtypes: float64(1), int64(2), object(5)\n",
      "memory usage: 164.8+ MB\n"
     ]
    }
   ],
   "source": [
    "df_reviews.info()"
   ]
  },
  {
   "cell_type": "markdown",
   "metadata": {},
   "source": [
    "### Requerimientos de Data Warehouse"
   ]
  },
  {
   "cell_type": "markdown",
   "metadata": {},
   "source": [
    "#### user_id"
   ]
  },
  {
   "cell_type": "markdown",
   "metadata": {},
   "source": [
    "Es una entero de 21 cifras. No lo soporta en int de pandas, hay que pasar al int nativo de Python.\n",
    "Para Pandas va a ser un object entonces, pero para Python un entero.\n",
    "Sin nulos."
   ]
  },
  {
   "cell_type": "code",
   "execution_count": 25,
   "metadata": {},
   "outputs": [
    {
     "data": {
      "text/plain": [
       "0          1.089912e+20\n",
       "1          1.112903e+20\n",
       "2          1.126404e+20\n",
       "3          1.174403e+20\n",
       "4          1.005808e+20\n",
       "               ...     \n",
       "2699995    1.139124e+20\n",
       "2699996    1.180461e+20\n",
       "2699997    1.071072e+20\n",
       "2699998    1.172404e+20\n",
       "2699999    1.117537e+20\n",
       "Name: user_id, Length: 2700000, dtype: float64"
      ]
     },
     "execution_count": 25,
     "metadata": {},
     "output_type": "execute_result"
    }
   ],
   "source": [
    "df_reviews['user_id']"
   ]
  },
  {
   "cell_type": "code",
   "execution_count": 34,
   "metadata": {},
   "outputs": [],
   "source": [
    "df_reviews['user_id']=df_reviews['user_id'].apply(int)"
   ]
  },
  {
   "cell_type": "code",
   "execution_count": 66,
   "metadata": {},
   "outputs": [
    {
     "data": {
      "text/plain": [
       "0"
      ]
     },
     "execution_count": 66,
     "metadata": {},
     "output_type": "execute_result"
    }
   ],
   "source": [
    "df_reviews['user_id'].isna().sum()"
   ]
  },
  {
   "cell_type": "markdown",
   "metadata": {},
   "source": [
    "#### name"
   ]
  },
  {
   "cell_type": "markdown",
   "metadata": {},
   "source": [
    "Es un texto. El que más valor tiene, tiene 77 caracteres.\n",
    "Hay caracteres en todos los idiomas (chino, japonés, etc).\n",
    "Sin nulos."
   ]
  },
  {
   "cell_type": "code",
   "execution_count": 43,
   "metadata": {},
   "outputs": [],
   "source": [
    "cual=df_reviews['name'].apply(len)"
   ]
  },
  {
   "cell_type": "code",
   "execution_count": 46,
   "metadata": {},
   "outputs": [
    {
     "data": {
      "text/plain": [
       "181901     77\n",
       "864517     74\n",
       "1574832    74\n",
       "658053     74\n",
       "1720881    74\n",
       "           ..\n",
       "1580582     1\n",
       "1669924     1\n",
       "1540558     1\n",
       "2091968     1\n",
       "133906      1\n",
       "Name: name, Length: 2700000, dtype: int64"
      ]
     },
     "execution_count": 46,
     "metadata": {},
     "output_type": "execute_result"
    }
   ],
   "source": [
    "cual.sort_values(ascending=False)"
   ]
  },
  {
   "cell_type": "code",
   "execution_count": 47,
   "metadata": {},
   "outputs": [
    {
     "data": {
      "text/plain": [
       "'image system photographie Cruseilles Annecy Genève (Photographe Haute Savoie)'"
      ]
     },
     "execution_count": 47,
     "metadata": {},
     "output_type": "execute_result"
    }
   ],
   "source": [
    "df_reviews['name'][181901]"
   ]
  },
  {
   "cell_type": "code",
   "execution_count": 65,
   "metadata": {},
   "outputs": [
    {
     "data": {
      "text/plain": [
       "0"
      ]
     },
     "execution_count": 65,
     "metadata": {},
     "output_type": "execute_result"
    }
   ],
   "source": [
    "df_reviews['name'].isna().sum()"
   ]
  },
  {
   "cell_type": "code",
   "execution_count": 173,
   "metadata": {},
   "outputs": [
    {
     "name": "stdout",
     "output_type": "stream",
     "text": [
      "<class 'pandas.core.series.Series'>\n",
      "Index: 2624758 entries, 0 to 2699999\n",
      "Series name: name\n",
      "Non-Null Count    Dtype \n",
      "--------------    ----- \n",
      "2624758 non-null  object\n",
      "dtypes: object(1)\n",
      "memory usage: 40.1+ MB\n"
     ]
    }
   ],
   "source": [
    "df_reviews['name'].info()"
   ]
  },
  {
   "cell_type": "markdown",
   "metadata": {},
   "source": [
    "#### time"
   ]
  },
  {
   "cell_type": "markdown",
   "metadata": {},
   "source": [
    "Valores enteros de 13 cifras.\n",
    "Marcas de tiempo en milisegundos desde la época Unix (1970-01-01).\n",
    "Sin nulos."
   ]
  },
  {
   "cell_type": "code",
   "execution_count": 48,
   "metadata": {},
   "outputs": [
    {
     "data": {
      "text/plain": [
       "0          1609909927056\n",
       "1          1612849648663\n",
       "2          1583643882296\n",
       "3          1551938216355\n",
       "4          1494910901933\n",
       "               ...      \n",
       "2699995    1553382802382\n",
       "2699996    1509453169393\n",
       "2699997    1614453586811\n",
       "2699998    1569739943903\n",
       "2699999    1521661727317\n",
       "Name: time, Length: 2700000, dtype: int64"
      ]
     },
     "execution_count": 48,
     "metadata": {},
     "output_type": "execute_result"
    }
   ],
   "source": [
    "df_reviews['time']"
   ]
  },
  {
   "cell_type": "code",
   "execution_count": 63,
   "metadata": {},
   "outputs": [
    {
     "data": {
      "text/plain": [
       "0"
      ]
     },
     "execution_count": 63,
     "metadata": {},
     "output_type": "execute_result"
    }
   ],
   "source": [
    "df_reviews['time'].isna().sum()"
   ]
  },
  {
   "cell_type": "code",
   "execution_count": 171,
   "metadata": {},
   "outputs": [
    {
     "name": "stdout",
     "output_type": "stream",
     "text": [
      "<class 'pandas.core.series.Series'>\n",
      "Index: 2624758 entries, 0 to 2699999\n",
      "Series name: time\n",
      "Non-Null Count    Dtype\n",
      "--------------    -----\n",
      "2624758 non-null  int64\n",
      "dtypes: int64(1)\n",
      "memory usage: 40.1 MB\n"
     ]
    }
   ],
   "source": [
    "df_reviews['time'].info()"
   ]
  },
  {
   "cell_type": "markdown",
   "metadata": {},
   "source": [
    "#### rating"
   ]
  },
  {
   "cell_type": "markdown",
   "metadata": {},
   "source": [
    "Enteros del 1 al 5.\n",
    "Sin nulos."
   ]
  },
  {
   "cell_type": "code",
   "execution_count": 54,
   "metadata": {},
   "outputs": [
    {
     "data": {
      "text/plain": [
       "array([5, 4, 1, 2, 3], dtype=int64)"
      ]
     },
     "execution_count": 54,
     "metadata": {},
     "output_type": "execute_result"
    }
   ],
   "source": [
    "df_reviews['rating'].unique()"
   ]
  },
  {
   "cell_type": "code",
   "execution_count": 62,
   "metadata": {},
   "outputs": [
    {
     "data": {
      "text/plain": [
       "0"
      ]
     },
     "execution_count": 62,
     "metadata": {},
     "output_type": "execute_result"
    }
   ],
   "source": [
    "df_reviews['rating'].isna().sum()"
   ]
  },
  {
   "cell_type": "code",
   "execution_count": 172,
   "metadata": {},
   "outputs": [
    {
     "name": "stdout",
     "output_type": "stream",
     "text": [
      "<class 'pandas.core.series.Series'>\n",
      "Index: 2624758 entries, 0 to 2699999\n",
      "Series name: rating\n",
      "Non-Null Count    Dtype\n",
      "--------------    -----\n",
      "2624758 non-null  int64\n",
      "dtypes: int64(1)\n",
      "memory usage: 40.1 MB\n"
     ]
    }
   ],
   "source": [
    "df_reviews['rating'].info()"
   ]
  },
  {
   "cell_type": "markdown",
   "metadata": {},
   "source": [
    "#### text"
   ]
  },
  {
   "cell_type": "markdown",
   "metadata": {},
   "source": [
    "1170964 nulos (previo a eliminar los datos duplicados)"
   ]
  },
  {
   "cell_type": "code",
   "execution_count": 76,
   "metadata": {},
   "outputs": [
    {
     "data": {
      "text/html": [
       "<div>\n",
       "<style scoped>\n",
       "    .dataframe tbody tr th:only-of-type {\n",
       "        vertical-align: middle;\n",
       "    }\n",
       "\n",
       "    .dataframe tbody tr th {\n",
       "        vertical-align: top;\n",
       "    }\n",
       "\n",
       "    .dataframe thead th {\n",
       "        text-align: right;\n",
       "    }\n",
       "</style>\n",
       "<table border=\"1\" class=\"dataframe\">\n",
       "  <thead>\n",
       "    <tr style=\"text-align: right;\">\n",
       "      <th></th>\n",
       "      <th>user_id</th>\n",
       "      <th>name</th>\n",
       "      <th>time</th>\n",
       "      <th>rating</th>\n",
       "      <th>text</th>\n",
       "      <th>pics</th>\n",
       "      <th>resp</th>\n",
       "      <th>gmap_id</th>\n",
       "    </tr>\n",
       "  </thead>\n",
       "  <tbody>\n",
       "  </tbody>\n",
       "</table>\n",
       "</div>"
      ],
      "text/plain": [
       "Empty DataFrame\n",
       "Columns: [user_id, name, time, rating, text, pics, resp, gmap_id]\n",
       "Index: []"
      ]
     },
     "execution_count": 76,
     "metadata": {},
     "output_type": "execute_result"
    }
   ],
   "source": [
    "df_reviews[df_reviews['text']==' ']"
   ]
  },
  {
   "cell_type": "code",
   "execution_count": 70,
   "metadata": {},
   "outputs": [],
   "source": [
    "cual = df_reviews['text'].fillna('').apply(len)"
   ]
  },
  {
   "cell_type": "code",
   "execution_count": 81,
   "metadata": {},
   "outputs": [
    {
     "data": {
      "text/plain": [
       "739381     8360\n",
       "1123967    6558\n",
       "379508     5706\n",
       "982612     5357\n",
       "457539     4901\n",
       "2440085    4847\n",
       "83241      4558\n",
       "869971     4513\n",
       "1899203    4501\n",
       "310166     4441\n",
       "2176644    4423\n",
       "187057     4362\n",
       "1171707    4357\n",
       "1780872    4353\n",
       "1780879    4353\n",
       "271700     4328\n",
       "85666      4299\n",
       "2622263    4298\n",
       "2094237    4289\n",
       "2119331    4266\n",
       "Name: text, dtype: int64"
      ]
     },
     "execution_count": 81,
     "metadata": {},
     "output_type": "execute_result"
    }
   ],
   "source": [
    "cual.sort_values(ascending= False).head(20)"
   ]
  },
  {
   "cell_type": "code",
   "execution_count": 84,
   "metadata": {},
   "outputs": [],
   "source": [
    "cual=cual[cual != 0]"
   ]
  },
  {
   "cell_type": "code",
   "execution_count": 86,
   "metadata": {},
   "outputs": [
    {
     "data": {
      "text/plain": [
       "count    1.529036e+06\n",
       "mean     1.324193e+02\n",
       "std      2.007083e+02\n",
       "min      1.000000e+00\n",
       "25%      3.200000e+01\n",
       "50%      7.000000e+01\n",
       "75%      1.540000e+02\n",
       "max      8.360000e+03\n",
       "Name: text, dtype: float64"
      ]
     },
     "execution_count": 86,
     "metadata": {},
     "output_type": "execute_result"
    }
   ],
   "source": [
    "cual.describe()"
   ]
  },
  {
   "cell_type": "code",
   "execution_count": 67,
   "metadata": {},
   "outputs": [
    {
     "data": {
      "text/plain": [
       "1170964"
      ]
     },
     "execution_count": 67,
     "metadata": {},
     "output_type": "execute_result"
    }
   ],
   "source": [
    "df_reviews['text'].isna().sum()"
   ]
  },
  {
   "cell_type": "code",
   "execution_count": 174,
   "metadata": {},
   "outputs": [
    {
     "name": "stdout",
     "output_type": "stream",
     "text": [
      "<class 'pandas.core.series.Series'>\n",
      "Index: 2624758 entries, 0 to 2699999\n",
      "Series name: text\n",
      "Non-Null Count    Dtype \n",
      "--------------    ----- \n",
      "1460935 non-null  object\n",
      "dtypes: object(1)\n",
      "memory usage: 40.1+ MB\n"
     ]
    }
   ],
   "source": [
    "df_reviews['text'].info()"
   ]
  },
  {
   "cell_type": "markdown",
   "metadata": {},
   "source": [
    "#### pics"
   ]
  },
  {
   "cell_type": "code",
   "execution_count": 88,
   "metadata": {},
   "outputs": [
    {
     "data": {
      "text/plain": [
       "24         [{'url': ['https://lh5.googleusercontent.com/p...\n",
       "126        [{'url': ['https://lh5.googleusercontent.com/p...\n",
       "128        [{'url': ['https://lh5.googleusercontent.com/p...\n",
       "129        [{'url': ['https://lh5.googleusercontent.com/p...\n",
       "130        [{'url': ['https://lh5.googleusercontent.com/p...\n",
       "                                 ...                        \n",
       "2699573    [{'url': ['https://lh5.googleusercontent.com/p...\n",
       "2699656    [{'url': ['https://lh5.googleusercontent.com/p...\n",
       "2699919    [{'url': ['https://lh5.googleusercontent.com/p...\n",
       "2699939    [{'url': ['https://lh5.googleusercontent.com/p...\n",
       "2699960    [{'url': ['https://lh5.googleusercontent.com/p...\n",
       "Name: pics, Length: 99290, dtype: object"
      ]
     },
     "execution_count": 88,
     "metadata": {},
     "output_type": "execute_result"
    }
   ],
   "source": [
    "df_reviews['pics'][df_reviews['pics'].isna() == False]"
   ]
  },
  {
   "cell_type": "code",
   "execution_count": 90,
   "metadata": {},
   "outputs": [
    {
     "data": {
      "text/plain": [
       "[{'url': ['https://lh5.googleusercontent.com/p/AF1QipNBpj0NUQ3GblfewsZxQX_OrXs9QlW8R2yHB2eP=w150-h150-k-no-p']}]"
      ]
     },
     "execution_count": 90,
     "metadata": {},
     "output_type": "execute_result"
    }
   ],
   "source": [
    "df_reviews['pics'][24]"
   ]
  },
  {
   "cell_type": "code",
   "execution_count": 91,
   "metadata": {},
   "outputs": [
    {
     "data": {
      "text/plain": [
       "2600710"
      ]
     },
     "execution_count": 91,
     "metadata": {},
     "output_type": "execute_result"
    }
   ],
   "source": [
    "df_reviews['pics'].isna().sum()"
   ]
  },
  {
   "cell_type": "code",
   "execution_count": 107,
   "metadata": {},
   "outputs": [],
   "source": [
    "cual2 = df_reviews['pics'].fillna('').apply(lambda x: len(str(x)))"
   ]
  },
  {
   "cell_type": "code",
   "execution_count": 110,
   "metadata": {},
   "outputs": [
    {
     "data": {
      "text/plain": [
       "array([5600, 5550, 5488, 5376, 5264, 5152, 5040, 4995, 4928, 4816, 4704,\n",
       "       4662, 4592, 4480, 4368, 4256, 4144, 4032, 3920, 3808, 3696, 3584,\n",
       "       3472, 3441, 3360, 3248, 3136, 3024, 2997, 2912, 2886, 2800, 2688,\n",
       "       2664, 2576, 2464, 2442, 2352, 2331, 2240, 2220, 2128, 2109, 2016,\n",
       "       1998, 1904, 1887, 1792, 1776, 1680, 1665, 1568, 1554, 1456, 1443,\n",
       "       1344, 1332, 1232, 1221, 1120, 1110, 1008,  999,  990,  896,  888,\n",
       "        784,  777,  770,  672,  666,  660,  648,  560,  555,  550,  448,\n",
       "        444,  336,  333,  330,  324,  224,  222,  220,  112,  111,  110,\n",
       "          0], dtype=int64)"
      ]
     },
     "execution_count": 110,
     "metadata": {},
     "output_type": "execute_result"
    }
   ],
   "source": [
    "cual2.sort_values(ascending=False).unique()"
   ]
  },
  {
   "cell_type": "code",
   "execution_count": 111,
   "metadata": {},
   "outputs": [
    {
     "data": {
      "text/plain": [
       "count    99290.000000\n",
       "mean       337.833447\n",
       "std        499.738985\n",
       "min        110.000000\n",
       "25%        112.000000\n",
       "50%        224.000000\n",
       "75%        336.000000\n",
       "max       5600.000000\n",
       "Name: pics, dtype: float64"
      ]
     },
     "execution_count": 111,
     "metadata": {},
     "output_type": "execute_result"
    }
   ],
   "source": [
    "cual2[cual2 != 0].describe()"
   ]
  },
  {
   "cell_type": "markdown",
   "metadata": {},
   "source": [
    "#### resp"
   ]
  },
  {
   "cell_type": "code",
   "execution_count": 96,
   "metadata": {},
   "outputs": [
    {
     "data": {
      "text/plain": [
       "{'time': 1631072651706,\n",
       " 'text': 'Thanks so much for your business and for taking the time to post a great review. Glad to hear our crew was so helpful and friendly and that we were able to get the family outfitted quickly and efficiently. Look forward to hearing from you in the future.'}"
      ]
     },
     "execution_count": 96,
     "metadata": {},
     "output_type": "execute_result"
    }
   ],
   "source": [
    "df_reviews['resp'][df_reviews['resp'].isna() == False][30]"
   ]
  },
  {
   "cell_type": "code",
   "execution_count": 92,
   "metadata": {},
   "outputs": [
    {
     "data": {
      "text/plain": [
       "2454831"
      ]
     },
     "execution_count": 92,
     "metadata": {},
     "output_type": "execute_result"
    }
   ],
   "source": [
    "df_reviews['resp'].isna().sum()"
   ]
  },
  {
   "cell_type": "code",
   "execution_count": 100,
   "metadata": {},
   "outputs": [],
   "source": [
    "cual2 = df_reviews['resp'].fillna('').apply(lambda x: len(str(x)))"
   ]
  },
  {
   "cell_type": "code",
   "execution_count": 104,
   "metadata": {},
   "outputs": [
    {
     "data": {
      "text/plain": [
       "132531     4041\n",
       "90668      4040\n",
       "237605     4017\n",
       "692469     4001\n",
       "1358752    3923\n",
       "1033090    3873\n",
       "259455     3819\n",
       "1150136    3798\n",
       "330673     3794\n",
       "506628     3775\n",
       "1083758    3768\n",
       "657500     3765\n",
       "532441     3724\n",
       "1670422    3706\n",
       "247223     3700\n",
       "334364     3639\n",
       "835899     3579\n",
       "880217     3431\n",
       "1537546    3421\n",
       "291859     3320\n",
       "Name: resp, dtype: int64"
      ]
     },
     "execution_count": 104,
     "metadata": {},
     "output_type": "execute_result"
    }
   ],
   "source": [
    "cual2.sort_values(ascending=False).head(20)"
   ]
  },
  {
   "cell_type": "code",
   "execution_count": 106,
   "metadata": {},
   "outputs": [
    {
     "data": {
      "text/plain": [
       "count    245169.000000\n",
       "mean        174.725773\n",
       "std         147.989795\n",
       "min          36.000000\n",
       "25%          83.000000\n",
       "50%         136.000000\n",
       "75%         223.000000\n",
       "max        4041.000000\n",
       "Name: resp, dtype: float64"
      ]
     },
     "execution_count": 106,
     "metadata": {},
     "output_type": "execute_result"
    }
   ],
   "source": [
    "cual2[cual2 != 0].describe()"
   ]
  },
  {
   "cell_type": "code",
   "execution_count": 176,
   "metadata": {},
   "outputs": [
    {
     "name": "stdout",
     "output_type": "stream",
     "text": [
      "<class 'pandas.core.series.Series'>\n",
      "Index: 2624758 entries, 0 to 2699999\n",
      "Series name: resp_text\n",
      "Non-Null Count   Dtype \n",
      "--------------   ----- \n",
      "238457 non-null  object\n",
      "dtypes: object(1)\n",
      "memory usage: 40.1+ MB\n"
     ]
    }
   ],
   "source": [
    "df_reviews['resp_text'].info()"
   ]
  },
  {
   "cell_type": "markdown",
   "metadata": {},
   "source": [
    "#### gmap_id"
   ]
  },
  {
   "cell_type": "code",
   "execution_count": 93,
   "metadata": {},
   "outputs": [
    {
     "data": {
      "text/plain": [
       "0"
      ]
     },
     "execution_count": 93,
     "metadata": {},
     "output_type": "execute_result"
    }
   ],
   "source": [
    "df_reviews['gmap_id'].isna().sum()"
   ]
  },
  {
   "cell_type": "code",
   "execution_count": 113,
   "metadata": {},
   "outputs": [],
   "source": [
    "cual2 = df_reviews['gmap_id'].apply(len)"
   ]
  },
  {
   "cell_type": "code",
   "execution_count": 118,
   "metadata": {},
   "outputs": [
    {
     "data": {
      "text/plain": [
       "array([37, 36, 35, 34, 22, 33], dtype=int64)"
      ]
     },
     "execution_count": 118,
     "metadata": {},
     "output_type": "execute_result"
    }
   ],
   "source": [
    "cual2.unique()"
   ]
  },
  {
   "cell_type": "code",
   "execution_count": 119,
   "metadata": {},
   "outputs": [],
   "source": [
    "del cual\n",
    "del cual2\n",
    "del i"
   ]
  },
  {
   "cell_type": "markdown",
   "metadata": {},
   "source": [
    "### Duplicados"
   ]
  },
  {
   "cell_type": "markdown",
   "metadata": {},
   "source": [
    "Considerando que una persona no puede realizar dos reviews al mismo tiempo, se considera un dato duplicado aquel que tenga el mismo usuario y el mismo tiempo."
   ]
  },
  {
   "cell_type": "code",
   "execution_count": 128,
   "metadata": {},
   "outputs": [
    {
     "name": "stdout",
     "output_type": "stream",
     "text": [
      "Datos duplicados :12\n"
     ]
    }
   ],
   "source": [
    "print('Datos duplicados :'+str(df_reviews.duplicated(subset=['user_id','time','gmap_id'], keep='first').sum()))"
   ]
  },
  {
   "cell_type": "markdown",
   "metadata": {},
   "source": [
    "Los datos duplicados se eliminarán luego del tratamiento de la columna pics, que tiene una lista"
   ]
  },
  {
   "cell_type": "markdown",
   "metadata": {},
   "source": [
    "#### largo de pics (duplicados)"
   ]
  },
  {
   "cell_type": "code",
   "execution_count": 121,
   "metadata": {},
   "outputs": [],
   "source": [
    "df_reviews['largo_pics'] = df_reviews['pics'].apply(lambda x: len(x) if isinstance(x, list) else 0)"
   ]
  },
  {
   "cell_type": "code",
   "execution_count": 122,
   "metadata": {},
   "outputs": [],
   "source": [
    "df_reviews.drop(columns=['pics'], inplace=True)"
   ]
  },
  {
   "cell_type": "markdown",
   "metadata": {},
   "source": [
    "#### largo de resp (duplicados)"
   ]
  },
  {
   "cell_type": "code",
   "execution_count": 123,
   "metadata": {},
   "outputs": [],
   "source": [
    "#genero una función para extraer los datos del diccionario\n",
    "def extract_resp_values(resp):\n",
    "    if isinstance(resp, dict):\n",
    "        return resp.get('time', None), resp.get('text', None)\n",
    "    else:\n",
    "        return None, None"
   ]
  },
  {
   "cell_type": "code",
   "execution_count": 124,
   "metadata": {},
   "outputs": [],
   "source": [
    "#la aplico al dataframe\n",
    "df_reviews['resp_time'], df_reviews['resp_text'] = zip(*df_reviews['resp'].apply(extract_resp_values))"
   ]
  },
  {
   "cell_type": "code",
   "execution_count": 125,
   "metadata": {},
   "outputs": [],
   "source": [
    "#elimino la columna que ya no me sirve más\n",
    "df_reviews.drop(columns=['resp'], inplace=True)"
   ]
  },
  {
   "cell_type": "markdown",
   "metadata": {},
   "source": [
    "#### Eliminación de duplicados"
   ]
  },
  {
   "cell_type": "code",
   "execution_count": 126,
   "metadata": {},
   "outputs": [],
   "source": [
    "df_reviews.drop_duplicates(inplace= True)"
   ]
  },
  {
   "cell_type": "code",
   "execution_count": 127,
   "metadata": {},
   "outputs": [
    {
     "name": "stdout",
     "output_type": "stream",
     "text": [
      "Se eliminaron 75242 registros duplicados\n"
     ]
    }
   ],
   "source": [
    "print('Se eliminaron '+str(2700000-len(df_reviews))+' registros duplicados')"
   ]
  },
  {
   "cell_type": "markdown",
   "metadata": {},
   "source": [
    "### Nulos"
   ]
  },
  {
   "cell_type": "code",
   "execution_count": 129,
   "metadata": {},
   "outputs": [
    {
     "name": "stdout",
     "output_type": "stream",
     "text": [
      "Nulos de user_id: 0\n",
      "Nulos de name: 0\n",
      "Nulos de time: 0\n",
      "Nulos de rating: 0\n",
      "Nulos de text: 1163823\n",
      "Nulos de pics: 2530146\n",
      "Nulos de resp: 2386301\n"
     ]
    }
   ],
   "source": [
    "print('Nulos de user_id: '+str(df_reviews['user_id'].isnull().sum()))\n",
    "print('Nulos de name: '+str(df_reviews['name'].isnull().sum()))\n",
    "print('Nulos de time: '+str(df_reviews['time'].isnull().sum()))\n",
    "print('Nulos de rating: '+str(df_reviews['rating'].isnull().sum()))\n",
    "print('Nulos de text: '+str(df_reviews['text'].isnull().sum()))\n",
    "print('Nulos de pics: '+str(len(df_reviews[df_reviews['largo_pics']==0])))\n",
    "print('Nulos de resp: '+str(df_reviews['resp_text'].isnull().sum()))"
   ]
  },
  {
   "cell_type": "markdown",
   "metadata": {},
   "source": [
    "### Rating"
   ]
  },
  {
   "cell_type": "code",
   "execution_count": 170,
   "metadata": {},
   "outputs": [
    {
     "data": {
      "image/png": "[encoded data removed]",
      "text/plain": [
       "<Figure size 1000x600 with 1 Axes>"
      ]
     },
     "metadata": {},
     "output_type": "display_data"
    }
   ],
   "source": [
    "# Tamaño de la figura\n",
    "plt.figure(figsize=(10, 6))\n",
    "\n",
    "# Histograma con bins centrados en 1, 2, 3, 4 y 5\n",
    "plt.hist(df_reviews['rating'], bins=range(1, 7), align='left')\n",
    "\n",
    "# Título del gráfico y etiquetas de los ejes\n",
    "plt.title('Rating')\n",
    "plt.ylabel('Cantidad de usuarios')\n",
    "plt.xlabel('Rating')\n",
    "\n",
    "# Ajustar el formato del eje y a enteros\n",
    "plt.gca().get_yaxis().set_major_formatter(ticker.FormatStrFormatter('%d'))\n",
    "\n",
    "# Establecer los ticks del eje x para mostrar solo los números 1, 2, 3, 4 y 5\n",
    "plt.xticks(range(1, 6))\n",
    "\n",
    "#guarda archivo\n",
    "plt.savefig('Imagenes/EDA-GoogleMaps/ratingsxreviews.png')\n",
    "\n",
    "# Mostrar el gráfico\n",
    "plt.show()"
   ]
  },
  {
   "cell_type": "markdown",
   "metadata": {},
   "source": [
    "### pics"
   ]
  },
  {
   "cell_type": "code",
   "execution_count": 143,
   "metadata": {},
   "outputs": [
    {
     "data": {
      "image/png": "[encoded data removed]",
      "text/plain": [
       "<Figure size 1000x600 with 1 Axes>"
      ]
     },
     "metadata": {},
     "output_type": "display_data"
    }
   ],
   "source": [
    "# Tamaño de la figura\n",
    "plt.figure(figsize=(10, 6))\n",
    "\n",
    "# Histograma con 15 bins para representar cada valor individualmente en el eje x\n",
    "plt.hist(df_reviews['largo_pics'], bins=range(1, 17), align='left', rwidth=0.8)\n",
    "\n",
    "# Título del gráfico y etiquetas de los ejes\n",
    "plt.title('Cantidad de fotos por reviews')\n",
    "plt.ylabel('Cantidad de reviews')\n",
    "plt.xlabel('Cantidad de fotos')\n",
    "\n",
    "# Ajustar el formato del eje y a enteros\n",
    "plt.gca().get_yaxis().set_major_formatter(ticker.FormatStrFormatter('%d'))\n",
    "\n",
    "#guarda archivo\n",
    "plt.savefig('Imagenes/EDA-GoogleMaps/Fotosxreviews.png')\n",
    "\n",
    "# Mostrar el gráfico\n",
    "plt.show()"
   ]
  },
  {
   "cell_type": "markdown",
   "metadata": {},
   "source": [
    "### text"
   ]
  },
  {
   "cell_type": "code",
   "execution_count": 139,
   "metadata": {},
   "outputs": [],
   "source": [
    "counts=[len(df_reviews)-df_reviews['text'].isna().sum(),df_reviews['text'].isna().sum()]"
   ]
  },
  {
   "cell_type": "code",
   "execution_count": 142,
   "metadata": {},
   "outputs": [
    {
     "data": {
      "image/png": "[encoded data removed]",
      "text/plain": [
       "<Figure size 800x800 with 1 Axes>"
      ]
     },
     "metadata": {},
     "output_type": "display_data"
    }
   ],
   "source": [
    "plt.figure(figsize=(8, 8))\n",
    "plt.pie(counts, labels=['Con comentarios', 'Sin comentarios'])\n",
    "plt.title('Comentarios por reviews')\n",
    "plt.axis('equal')  # Equal aspect ratio ensures that pie is drawn as a circle.\n",
    "plt.savefig('Imagenes/EDA-GoogleMaps/Comentariosxreviews.png')\n",
    "plt.show()"
   ]
  },
  {
   "cell_type": "markdown",
   "metadata": {},
   "source": [
    "### resp"
   ]
  },
  {
   "cell_type": "code",
   "execution_count": 61,
   "metadata": {},
   "outputs": [],
   "source": [
    "counts=[len(df_reviews)-df_reviews['resp_text'].isna().sum(),df_reviews['resp_text'].isna().sum()]"
   ]
  },
  {
   "cell_type": "code",
   "execution_count": 145,
   "metadata": {},
   "outputs": [
    {
     "data": {
      "image/png": "[encoded data removed]",
      "text/plain": [
       "<Figure size 800x800 with 1 Axes>"
      ]
     },
     "metadata": {},
     "output_type": "display_data"
    }
   ],
   "source": [
    "plt.figure(figsize=(8, 8))\n",
    "plt.pie(counts, labels=['Con respuesta', 'Sin respuesta'])\n",
    "plt.title('Respuestas por reviews')\n",
    "plt.axis('equal')  # Equal aspect ratio ensures that pie is drawn as a circle.\n",
    "plt.savefig('Imagenes/EDA-GoogleMaps/Respuestasxreviews.png')\n",
    "plt.show()"
   ]
  },
  {
   "cell_type": "markdown",
   "metadata": {},
   "source": [
    "### user_id"
   ]
  },
  {
   "cell_type": "code",
   "execution_count": 147,
   "metadata": {},
   "outputs": [
    {
     "data": {
      "text/plain": [
       "973518"
      ]
     },
     "execution_count": 147,
     "metadata": {},
     "output_type": "execute_result"
    }
   ],
   "source": [
    "df_reviews['user_id'].nunique()"
   ]
  },
  {
   "cell_type": "markdown",
   "metadata": {},
   "source": [
    "Los 2.700.000 reviews fueron realizados por 973.518 usuarios"
   ]
  },
  {
   "cell_type": "code",
   "execution_count": 64,
   "metadata": {},
   "outputs": [
    {
     "data": {
      "text/plain": [
       "Index(['user_id', 'name', 'time', 'rating', 'text', 'gmap_id', 'largo_pics',\n",
       "       'resp_time', 'resp_text'],\n",
       "      dtype='object')"
      ]
     },
     "execution_count": 64,
     "metadata": {},
     "output_type": "execute_result"
    }
   ],
   "source": [
    "df_reviews.columns"
   ]
  },
  {
   "cell_type": "code",
   "execution_count": 148,
   "metadata": {},
   "outputs": [],
   "source": [
    "df_reviews_users = df_reviews.groupby('user_id').agg({\n",
    "    'time':'count',\n",
    "    'text': 'count',\n",
    "    'rating': 'mean',\n",
    "    'largo_pics': 'sum',\n",
    "    'resp_time': 'count',\n",
    "    # Para contar los valores únicos en una columna, se puede usar 'nunique'\n",
    "    'gmap_id': pd.Series.nunique\n",
    "}).reset_index()\n",
    "\n",
    "# Renombra las columnas para reflejar las métricas calculadas\n",
    "df_reviews_users.columns = ['user_id', 'count_reviews', 'count_text', 'avg_rating', 'total_pics', 'count_resp', 'count_unique_gmap_id']"
   ]
  },
  {
   "cell_type": "markdown",
   "metadata": {},
   "source": [
    "#### reviews by user"
   ]
  },
  {
   "cell_type": "code",
   "execution_count": 149,
   "metadata": {},
   "outputs": [
    {
     "data": {
      "text/plain": [
       "307"
      ]
     },
     "execution_count": 149,
     "metadata": {},
     "output_type": "execute_result"
    }
   ],
   "source": [
    "max(df_reviews_users['count_reviews'])"
   ]
  },
  {
   "cell_type": "code",
   "execution_count": 151,
   "metadata": {},
   "outputs": [
    {
     "data": {
      "image/png": "[encoded data removed]",
      "text/plain": [
       "<Figure size 1000x600 with 1 Axes>"
      ]
     },
     "metadata": {},
     "output_type": "display_data"
    }
   ],
   "source": [
    "plt.figure(figsize=(10, 6))\n",
    "plt.hist(df_reviews_users['count_reviews'],bins=307)  # Usa dropna() para excluir valores NaN\n",
    "plt.title('Distribución de reviews por usuario')  # Añade un título al gráfico\n",
    "plt.ylabel('cantidad de usuarios')  # Etiqueta para el eje Y\n",
    "plt.xlabel('cantidad de reviews')  # Etiqueta para el eje X\n",
    "plt.xlim(0,15)\n",
    "plt.savefig('Imagenes/EDA-GoogleMaps/reviewsxusuario.png')\n",
    "plt.show()"
   ]
  },
  {
   "cell_type": "markdown",
   "metadata": {},
   "source": [
    "#### average rating by user"
   ]
  },
  {
   "cell_type": "code",
   "execution_count": 156,
   "metadata": {},
   "outputs": [
    {
     "data": {
      "image/png": "[encoded data removed]",
      "text/plain": [
       "<Figure size 1000x600 with 1 Axes>"
      ]
     },
     "metadata": {},
     "output_type": "display_data"
    }
   ],
   "source": [
    "plt.figure(figsize=(10, 6))\n",
    "plt.hist(df_reviews_users['avg_rating'], bins=8)  # Usa dropna() para excluir valores NaN\n",
    "plt.title('Promedio de rating por usuario')  # Añade un título al gráfico\n",
    "plt.ylabel('Cantidad de usuarios')  # Etiqueta para el eje Y\n",
    "plt.xlabel('rating promedio')  # Etiqueta para el eje Y\n",
    "plt.savefig('Imagenes/EDA-GoogleMaps/Ratingxusuario.png')\n",
    "plt.show()"
   ]
  },
  {
   "cell_type": "markdown",
   "metadata": {},
   "source": [
    "### pictures by users"
   ]
  },
  {
   "cell_type": "code",
   "execution_count": 157,
   "metadata": {},
   "outputs": [
    {
     "data": {
      "text/plain": [
       "528"
      ]
     },
     "execution_count": 157,
     "metadata": {},
     "output_type": "execute_result"
    }
   ],
   "source": [
    "max(df_reviews_users['total_pics'])"
   ]
  },
  {
   "cell_type": "code",
   "execution_count": 159,
   "metadata": {},
   "outputs": [
    {
     "data": {
      "image/png": "[encoded data removed]",
      "text/plain": [
       "<Figure size 1000x600 with 1 Axes>"
      ]
     },
     "metadata": {},
     "output_type": "display_data"
    }
   ],
   "source": [
    "plt.figure(figsize=(10, 6))\n",
    "plt.hist(df_reviews_users['total_pics'].dropna(),bins=528)  # Usa dropna() para excluir valores NaN\n",
    "plt.title('Distribución de fotos por usuarios \\n sólo usuarios que tomaron fotos')  # Añade un título al gráfico\n",
    "plt.ylabel('Cantidad de usuarios')  # Etiqueta para el eje Y\n",
    "plt.ylim(0,40000) \n",
    "plt.xlabel('Cantidad de fotos')  # Etiqueta para el eje X\n",
    "plt.xlim(1,10) \n",
    "plt.savefig('Imagenes/EDA-GoogleMaps/Fotosxusuario.png')\n",
    "plt.show()"
   ]
  },
  {
   "cell_type": "markdown",
   "metadata": {},
   "source": [
    "### name"
   ]
  },
  {
   "cell_type": "markdown",
   "metadata": {},
   "source": [
    "### time"
   ]
  },
  {
   "cell_type": "markdown",
   "metadata": {},
   "source": [
    "### rating"
   ]
  },
  {
   "cell_type": "markdown",
   "metadata": {},
   "source": [
    "### text"
   ]
  },
  {
   "cell_type": "markdown",
   "metadata": {},
   "source": [
    "### pics"
   ]
  },
  {
   "cell_type": "markdown",
   "metadata": {},
   "source": [
    "### resp  "
   ]
  },
  {
   "cell_type": "markdown",
   "metadata": {},
   "source": [
    "### gmap_id"
   ]
  },
  {
   "cell_type": "markdown",
   "metadata": {},
   "source": [
    "## Metadata - Google"
   ]
  },
  {
   "cell_type": "markdown",
   "metadata": {},
   "source": [
    "### Duplicados"
   ]
  },
  {
   "cell_type": "code",
   "execution_count": null,
   "metadata": {},
   "outputs": [],
   "source": [
    "df_metadatosCA.drop_duplicates(subset='gmap_id', inplace=True)\n",
    "df_metadatosCA.reset_index(inplace=True)\n",
    "df_metadatosCA.drop(columns='index', inplace=True)"
   ]
  },
  {
   "cell_type": "markdown",
   "metadata": {},
   "source": [
    "### Requerimientos para datawarehouse"
   ]
  },
  {
   "cell_type": "code",
   "execution_count": 11,
   "metadata": {},
   "outputs": [
    {
     "name": "stdout",
     "output_type": "stream",
     "text": [
      "<class 'pandas.core.frame.DataFrame'>\n",
      "RangeIndex: 297293 entries, 0 to 297292\n",
      "Data columns (total 16 columns):\n",
      " #   Column            Non-Null Count   Dtype  \n",
      "---  ------            --------------   -----  \n",
      " 0   name              297293 non-null  object \n",
      " 1   address           297293 non-null  object \n",
      " 2   gmap_id           297293 non-null  object \n",
      " 3   description       31902 non-null   object \n",
      " 4   latitude          297293 non-null  float64\n",
      " 5   longitude         297293 non-null  float64\n",
      " 6   category          295387 non-null  object \n",
      " 7   avg_rating        297293 non-null  float64\n",
      " 8   num_of_reviews    297293 non-null  int64  \n",
      " 9   price             31580 non-null   object \n",
      " 10  hours             230103 non-null  object \n",
      " 11  MISC              244162 non-null  object \n",
      " 12  state             233398 non-null  object \n",
      " 13  relative_results  273256 non-null  object \n",
      " 14  url               297293 non-null  object \n",
      " 15  estado            297293 non-null  object \n",
      "dtypes: float64(3), int64(1), object(12)\n",
      "memory usage: 36.3+ MB\n"
     ]
    }
   ],
   "source": [
    "df_metadatosCA.info()"
   ]
  },
  {
   "cell_type": "markdown",
   "metadata": {},
   "source": [
    "#### name"
   ]
  },
  {
   "cell_type": "code",
   "execution_count": 24,
   "metadata": {},
   "outputs": [
    {
     "data": {
      "text/plain": [
       "0"
      ]
     },
     "execution_count": 24,
     "metadata": {},
     "output_type": "execute_result"
    }
   ],
   "source": [
    "(df_metadatosCA['name']==' ').sum()"
   ]
  },
  {
   "cell_type": "code",
   "execution_count": 63,
   "metadata": {},
   "outputs": [
    {
     "data": {
      "text/plain": [
       "63983     246\n",
       "141799    245\n",
       "151737    240\n",
       "58397     230\n",
       "60292     215\n",
       "114916    215\n",
       "85862     212\n",
       "144878    212\n",
       "223446    210\n",
       "239818    209\n",
       "123832    209\n",
       "91173     208\n",
       "115746    204\n",
       "61241     201\n",
       "235618    177\n",
       "Name: name, dtype: int64"
      ]
     },
     "execution_count": 63,
     "metadata": {},
     "output_type": "execute_result"
    }
   ],
   "source": [
    "df_metadatosCA['name'].apply(len).sort_values(ascending=False).head(15)"
   ]
  },
  {
   "cell_type": "markdown",
   "metadata": {},
   "source": [
    "#### address"
   ]
  },
  {
   "cell_type": "code",
   "execution_count": 32,
   "metadata": {},
   "outputs": [
    {
     "name": "stdout",
     "output_type": "stream",
     "text": [
      "0\n"
     ]
    },
    {
     "data": {
      "text/plain": [
       "63983     297\n",
       "58397     288\n",
       "141799    288\n",
       "151737    272\n",
       "85862     255\n",
       "144878    254\n",
       "114916    252\n",
       "123832    251\n",
       "60292     249\n",
       "223446    249\n",
       "91173     247\n",
       "239818    247\n",
       "95248     246\n",
       "115746    245\n",
       "246985    245\n",
       "Name: address, dtype: int64"
      ]
     },
     "execution_count": 32,
     "metadata": {},
     "output_type": "execute_result"
    }
   ],
   "source": [
    "print((df_metadatosCA['address']==' ').sum())\n",
    "df_metadatosCA['address'].apply(len).sort_values(ascending=False).head(5)\n",
    "print(df_metadatosCA['address'][df_metadatosCA['address'].apply(len).idxmin()])"
   ]
  },
  {
   "cell_type": "code",
   "execution_count": 108,
   "metadata": {},
   "outputs": [
    {
     "name": "stdout",
     "output_type": "stream",
     "text": [
      "Weed, CA 96094\n"
     ]
    }
   ],
   "source": [
    "print(df_metadatosCA['address'][df_metadatosCA['address'].apply(len).idxmin()])"
   ]
  },
  {
   "cell_type": "code",
   "execution_count": 133,
   "metadata": {},
   "outputs": [
    {
     "data": {
      "text/plain": [
       "'Green Hills Park, Millbrae, CA 94030'"
      ]
     },
     "execution_count": 133,
     "metadata": {},
     "output_type": "execute_result"
    }
   ],
   "source": [
    "df_metadatosCA['address'][294423]"
   ]
  },
  {
   "cell_type": "code",
   "execution_count": 135,
   "metadata": {},
   "outputs": [
    {
     "data": {
      "text/plain": [
       "16        2\n",
       "39        2\n",
       "50        2\n",
       "68        2\n",
       "106       2\n",
       "         ..\n",
       "294423    2\n",
       "294476    2\n",
       "294521    2\n",
       "294576    2\n",
       "294585    2\n",
       "Name: address, Length: 8476, dtype: int64"
      ]
     },
     "execution_count": 135,
     "metadata": {},
     "output_type": "execute_result"
    }
   ],
   "source": []
  },
  {
   "cell_type": "code",
   "execution_count": 110,
   "metadata": {},
   "outputs": [],
   "source": [
    "comas = df_metadatosCA['address'].apply(lambda x: str(x).count(','))"
   ]
  },
  {
   "cell_type": "code",
   "execution_count": 120,
   "metadata": {},
   "outputs": [
    {
     "data": {
      "text/plain": [
       "'Imperial Jewelry & Loan Pawn Shop Norwalk CA (Loan, Sell & Buy Gold, Silver, Diamonds, Coins, Bullion, Jewelry, Watches, Guns, Hand Bags, Guitars & Musical Instruments, Electronics, Sports Equipment, Power Tools), 11405 Firestone Blvd E, Norwalk, CA 90650'"
      ]
     },
     "execution_count": 120,
     "metadata": {},
     "output_type": "execute_result"
    }
   ],
   "source": [
    "df_metadatosCA['address'][85862]"
   ]
  },
  {
   "cell_type": "code",
   "execution_count": 119,
   "metadata": {},
   "outputs": [
    {
     "data": {
      "text/plain": [
       "85862"
      ]
     },
     "execution_count": 119,
     "metadata": {},
     "output_type": "execute_result"
    }
   ],
   "source": [
    "comas.idxmax()"
   ]
  },
  {
   "cell_type": "code",
   "execution_count": 121,
   "metadata": {},
   "outputs": [
    {
     "name": "stdout",
     "output_type": "stream",
     "text": [
      "0: 0\n",
      "1: 70\n",
      "2: 8476\n",
      "3: 265794\n",
      "4: 18423\n",
      "5: 1455\n",
      "6: 254\n",
      "7: 66\n",
      "8: 24\n",
      "9: 15\n",
      "10: 3\n",
      "11: 5\n",
      "12: 3\n",
      "13: 1\n",
      "14: 1\n",
      "15: 2\n",
      "16: 1\n",
      "17: 0\n",
      "18: 0\n",
      "19: 0\n"
     ]
    }
   ],
   "source": [
    "for i in range(20):\n",
    "    print(str(i)+': '+str((comas == i).sum()))"
   ]
  },
  {
   "cell_type": "markdown",
   "metadata": {},
   "source": [
    "#### gmap_id"
   ]
  },
  {
   "cell_type": "code",
   "execution_count": 41,
   "metadata": {},
   "outputs": [
    {
     "name": "stdout",
     "output_type": "stream",
     "text": [
      "0\n",
      "0x0:0x13154eabf70b4b93\n",
      "0x80c2c98c0e3c16fd:0x29ec8a728764fdf9\n",
      "0         37\n",
      "193271    37\n",
      "193278    37\n",
      "193277    37\n",
      "193276    37\n",
      "Name: gmap_id, dtype: int64\n",
      "176870    34\n",
      "3738      34\n",
      "137970    33\n",
      "130938    22\n",
      "171772    22\n",
      "Name: gmap_id, dtype: int64\n"
     ]
    }
   ],
   "source": [
    "print((df_metadatosCA['gmap_id']==' ').sum())\n",
    "print(df_metadatosCA['gmap_id'][df_metadatosCA['gmap_id'].apply(len).idxmin()])\n",
    "print(df_metadatosCA['gmap_id'][df_metadatosCA['gmap_id'].apply(len).idxmax()])\n",
    "print(df_metadatosCA['gmap_id'].apply(len).sort_values(ascending=False).head(5))\n",
    "print(df_metadatosCA['gmap_id'].apply(len).sort_values(ascending=False).tail(5))"
   ]
  },
  {
   "cell_type": "markdown",
   "metadata": {},
   "source": [
    "#### description"
   ]
  },
  {
   "cell_type": "code",
   "execution_count": 44,
   "metadata": {},
   "outputs": [
    {
     "name": "stdout",
     "output_type": "stream",
     "text": [
      "0\n",
      "Factory showroom selling\n",
      "Old-school, colorful outpost serving homestyle Mexican dishes at the counter in a compact, no-frills interior.\n",
      "225819    110\n",
      "228380    110\n",
      "213016    110\n",
      "265524    109\n",
      "71814     109\n",
      "Name: description, dtype: int64\n",
      "218734    50\n",
      "153301    48\n",
      "151928    43\n",
      "195624    35\n",
      "115459    24\n",
      "Name: description, dtype: int64\n"
     ]
    }
   ],
   "source": [
    "print((df_metadatosCA['description']==' ').sum())\n",
    "print(df_metadatosCA['description'][df_metadatosCA['description'].dropna().apply(len).idxmin()])\n",
    "print(df_metadatosCA['description'][df_metadatosCA['description'].dropna().apply(len).idxmax()])\n",
    "print(df_metadatosCA['description'].dropna().apply(len).sort_values(ascending=False).head(5))\n",
    "print(df_metadatosCA['description'].dropna().apply(len).sort_values(ascending=False).tail(5))"
   ]
  },
  {
   "cell_type": "code",
   "execution_count": 31,
   "metadata": {},
   "outputs": [
    {
     "data": {
      "text/plain": [
       "array([ 76,  98,  89,  95,  99,  80,  92,  86,  82,  85,  84,  91,  97,\n",
       "       100,  68,  96,  90,  93,  60,  88,  94,  83,  70,  77,  87,  67,\n",
       "        81,  61,  72,  79,  57,  75,  78,  69,  62,  74,  73,  66, 101,\n",
       "        56, 103,  63,  65, 109,  50,  59,  71, 108,  24,  43,  48,  53,\n",
       "        35,  64,  55, 110, 107, 105], dtype=int64)"
      ]
     },
     "execution_count": 31,
     "metadata": {},
     "output_type": "execute_result"
    }
   ],
   "source": [
    "df_metadatosCA['description'].dropna().apply(len).unique()"
   ]
  },
  {
   "cell_type": "markdown",
   "metadata": {},
   "source": [
    "#### latitude"
   ]
  },
  {
   "cell_type": "code",
   "execution_count": 45,
   "metadata": {},
   "outputs": [
    {
     "name": "stdout",
     "output_type": "stream",
     "text": [
      "<class 'pandas.core.series.Series'>\n",
      "RangeIndex: 294593 entries, 0 to 294592\n",
      "Series name: latitude\n",
      "Non-Null Count   Dtype  \n",
      "--------------   -----  \n",
      "294593 non-null  float64\n",
      "dtypes: float64(1)\n",
      "memory usage: 2.2 MB\n"
     ]
    }
   ],
   "source": [
    "df_metadatosCA['latitude'].info()"
   ]
  },
  {
   "cell_type": "code",
   "execution_count": 46,
   "metadata": {},
   "outputs": [
    {
     "data": {
      "text/plain": [
       "0         34.018891\n",
       "1         34.058092\n",
       "2         34.023669\n",
       "3         34.036694\n",
       "4         34.015505\n",
       "            ...    \n",
       "294588    33.611202\n",
       "294589    33.713194\n",
       "294590    33.163214\n",
       "294591    33.644645\n",
       "294592    33.643829\n",
       "Name: latitude, Length: 294593, dtype: float64"
      ]
     },
     "execution_count": 46,
     "metadata": {},
     "output_type": "execute_result"
    }
   ],
   "source": [
    "df_metadatosCA['latitude']"
   ]
  },
  {
   "cell_type": "markdown",
   "metadata": {},
   "source": [
    "#### longitude"
   ]
  },
  {
   "cell_type": "code",
   "execution_count": 47,
   "metadata": {},
   "outputs": [
    {
     "data": {
      "text/plain": [
       "0        -118.215290\n",
       "1        -118.292130\n",
       "2        -118.232930\n",
       "3        -118.249421\n",
       "4        -118.181839\n",
       "             ...    \n",
       "294588   -117.864362\n",
       "294589   -117.932468\n",
       "294590   -117.345829\n",
       "294591   -117.919316\n",
       "294592   -117.928050\n",
       "Name: longitude, Length: 294593, dtype: float64"
      ]
     },
     "execution_count": 47,
     "metadata": {},
     "output_type": "execute_result"
    }
   ],
   "source": [
    "df_metadatosCA['longitude']"
   ]
  },
  {
   "cell_type": "markdown",
   "metadata": {},
   "source": [
    "#### category"
   ]
  },
  {
   "cell_type": "code",
   "execution_count": 50,
   "metadata": {},
   "outputs": [
    {
     "name": "stdout",
     "output_type": "stream",
     "text": [
      "0\n",
      "['Textile exporter']\n",
      "<class 'list'>\n",
      "['Non-profit organization', 'After school program', 'Child care agency', 'Computer training school', 'Convention center', 'Economic development agency', 'Family service center', 'Food bank', 'HIV testing center', 'Recreation center', 'Senior citizen center', 'STD testing service', 'Volunteer organization', 'Youth center']\n",
      "101797    14\n",
      "210979    13\n",
      "222674    13\n",
      "164787    12\n",
      "223596    12\n",
      "Name: category, dtype: int64\n",
      "119851    1\n",
      "119852    1\n",
      "119856    1\n",
      "119858    1\n",
      "294592    1\n",
      "Name: category, dtype: int64\n"
     ]
    }
   ],
   "source": [
    "print((df_metadatosCA['category']==' ').sum())\n",
    "print(df_metadatosCA['category'][df_metadatosCA['category'].dropna().apply(len).idxmin()])\n",
    "print(type(df_metadatosCA['category'][df_metadatosCA['category'].dropna().apply(len).idxmax()]))\n",
    "print(df_metadatosCA['category'][df_metadatosCA['category'].dropna().apply(len).idxmax()])\n",
    "print(df_metadatosCA['category'].dropna().apply(len).sort_values(ascending=False).head(5))\n",
    "print(df_metadatosCA['category'].dropna().apply(len).sort_values(ascending=False).tail(5))"
   ]
  },
  {
   "cell_type": "code",
   "execution_count": 49,
   "metadata": {},
   "outputs": [
    {
     "name": "stdout",
     "output_type": "stream",
     "text": [
      "<class 'list'>\n"
     ]
    }
   ],
   "source": [
    "print(type(df_metadatosCA['category'][df_metadatosCA['category'].dropna().apply(len).idxmax()]))"
   ]
  },
  {
   "cell_type": "code",
   "execution_count": 76,
   "metadata": {},
   "outputs": [
    {
     "name": "stdout",
     "output_type": "stream",
     "text": [
      "248837    272\n",
      "81090     267\n",
      "77440     267\n",
      "101797    267\n",
      "33366     263\n",
      "Name: category, dtype: int64\n"
     ]
    }
   ],
   "source": [
    "print(df_metadatosCA['category'].dropna().apply(lambda lst: sum(len(str(item)) for item in lst)).sort_values(ascending=False).head(5))"
   ]
  },
  {
   "cell_type": "code",
   "execution_count": 77,
   "metadata": {},
   "outputs": [
    {
     "data": {
      "text/plain": [
       "248837"
      ]
     },
     "execution_count": 77,
     "metadata": {},
     "output_type": "execute_result"
    }
   ],
   "source": [
    "df_metadatosCA['category'].dropna().apply(lambda lst: sum(len(str(item)) for item in lst)).idxmax()"
   ]
  },
  {
   "cell_type": "code",
   "execution_count": 78,
   "metadata": {},
   "outputs": [
    {
     "data": {
      "text/plain": [
       "['Musical instrument store',\n",
       " 'Audio visual consultant',\n",
       " 'Audio visual equipment rental service',\n",
       " 'Audio visual equipment repair service',\n",
       " 'Audio visual equipment supplier',\n",
       " 'Music instructor',\n",
       " 'Music school',\n",
       " 'Musical instrument rental service',\n",
       " 'Musical instrument repair shop',\n",
       " 'Used musical instrument store']"
      ]
     },
     "execution_count": 78,
     "metadata": {},
     "output_type": "execute_result"
    }
   ],
   "source": [
    "df_metadatosCA['category'][248837]"
   ]
  },
  {
   "cell_type": "code",
   "execution_count": 91,
   "metadata": {},
   "outputs": [],
   "source": [
    "# Eliminar valores nulos y aplanar las listas en una sola lista de categorías\n",
    "all_categories = df_metadatosCA['category'].dropna().explode()\n",
    "\n",
    "# Contar la frecuencia de cada categoría\n",
    "category_counts = Counter(all_categories)\n",
    "\n",
    "# Convertir el resultado a un DataFrame para una visualización más clara\n",
    "category_counts_df = pd.DataFrame(category_counts.items(), columns=['Category', 'Count'])"
   ]
  },
  {
   "cell_type": "code",
   "execution_count": 107,
   "metadata": {},
   "outputs": [],
   "source": [
    "del all_categories\n",
    "del category_counts"
   ]
  },
  {
   "cell_type": "code",
   "execution_count": 96,
   "metadata": {},
   "outputs": [
    {
     "data": {
      "text/html": [
       "<div>\n",
       "<style scoped>\n",
       "    .dataframe tbody tr th:only-of-type {\n",
       "        vertical-align: middle;\n",
       "    }\n",
       "\n",
       "    .dataframe tbody tr th {\n",
       "        vertical-align: top;\n",
       "    }\n",
       "\n",
       "    .dataframe thead th {\n",
       "        text-align: right;\n",
       "    }\n",
       "</style>\n",
       "<table border=\"1\" class=\"dataframe\">\n",
       "  <thead>\n",
       "    <tr style=\"text-align: right;\">\n",
       "      <th></th>\n",
       "      <th>Category</th>\n",
       "      <th>Count</th>\n",
       "    </tr>\n",
       "  </thead>\n",
       "  <tbody>\n",
       "    <tr>\n",
       "      <th>0</th>\n",
       "      <td>Textile exporter</td>\n",
       "      <td>2</td>\n",
       "    </tr>\n",
       "    <tr>\n",
       "      <th>1</th>\n",
       "      <td>Korean restaurant</td>\n",
       "      <td>319</td>\n",
       "    </tr>\n",
       "    <tr>\n",
       "      <th>2</th>\n",
       "      <td>Fabric store</td>\n",
       "      <td>276</td>\n",
       "    </tr>\n",
       "    <tr>\n",
       "      <th>3</th>\n",
       "      <td>Restaurant</td>\n",
       "      <td>11505</td>\n",
       "    </tr>\n",
       "    <tr>\n",
       "      <th>4</th>\n",
       "      <td>Ski rental service</td>\n",
       "      <td>53</td>\n",
       "    </tr>\n",
       "    <tr>\n",
       "      <th>...</th>\n",
       "      <td>...</td>\n",
       "      <td>...</td>\n",
       "    </tr>\n",
       "    <tr>\n",
       "      <th>3849</th>\n",
       "      <td>Takoyaki restaurant</td>\n",
       "      <td>1</td>\n",
       "    </tr>\n",
       "    <tr>\n",
       "      <th>3850</th>\n",
       "      <td>Co-ed school</td>\n",
       "      <td>1</td>\n",
       "    </tr>\n",
       "    <tr>\n",
       "      <th>3851</th>\n",
       "      <td>Match box manufacturer</td>\n",
       "      <td>1</td>\n",
       "    </tr>\n",
       "    <tr>\n",
       "      <th>3852</th>\n",
       "      <td>Japanese cheap sweets shop</td>\n",
       "      <td>2</td>\n",
       "    </tr>\n",
       "    <tr>\n",
       "      <th>3853</th>\n",
       "      <td>Residential area</td>\n",
       "      <td>1</td>\n",
       "    </tr>\n",
       "  </tbody>\n",
       "</table>\n",
       "<p>3854 rows × 2 columns</p>\n",
       "</div>"
      ],
      "text/plain": [
       "                        Category  Count\n",
       "0               Textile exporter      2\n",
       "1              Korean restaurant    319\n",
       "2                   Fabric store    276\n",
       "3                     Restaurant  11505\n",
       "4             Ski rental service     53\n",
       "...                          ...    ...\n",
       "3849         Takoyaki restaurant      1\n",
       "3850                Co-ed school      1\n",
       "3851      Match box manufacturer      1\n",
       "3852  Japanese cheap sweets shop      2\n",
       "3853            Residential area      1\n",
       "\n",
       "[3854 rows x 2 columns]"
      ]
     },
     "execution_count": 96,
     "metadata": {},
     "output_type": "execute_result"
    }
   ],
   "source": [
    "category_counts_df"
   ]
  },
  {
   "cell_type": "code",
   "execution_count": 98,
   "metadata": {},
   "outputs": [],
   "source": [
    "category_counts_df.sort_values(by='Count', ascending=False, inplace=True)"
   ]
  },
  {
   "cell_type": "code",
   "execution_count": 106,
   "metadata": {},
   "outputs": [
    {
     "data": {
      "text/plain": [
       "2855"
      ]
     },
     "execution_count": 106,
     "metadata": {},
     "output_type": "execute_result"
    }
   ],
   "source": [
    "len(category_counts_df[category_counts_df['Count']<100])"
   ]
  },
  {
   "cell_type": "markdown",
   "metadata": {},
   "source": [
    "#### avg_rating"
   ]
  },
  {
   "cell_type": "code",
   "execution_count": 52,
   "metadata": {},
   "outputs": [
    {
     "data": {
      "text/plain": [
       "0         4.5\n",
       "1         4.4\n",
       "2         3.3\n",
       "3         4.3\n",
       "4         3.5\n",
       "         ... \n",
       "294588    3.8\n",
       "294589    3.7\n",
       "294590    2.1\n",
       "294591    3.0\n",
       "294592    2.6\n",
       "Name: avg_rating, Length: 294593, dtype: float64"
      ]
     },
     "execution_count": 52,
     "metadata": {},
     "output_type": "execute_result"
    }
   ],
   "source": [
    "df_metadatosCA['avg_rating']"
   ]
  },
  {
   "cell_type": "markdown",
   "metadata": {},
   "source": [
    "#### num_of_reviews"
   ]
  },
  {
   "cell_type": "code",
   "execution_count": 54,
   "metadata": {},
   "outputs": [
    {
     "name": "stdout",
     "output_type": "stream",
     "text": [
      "<class 'pandas.core.frame.DataFrame'>\n",
      "RangeIndex: 294593 entries, 0 to 294592\n",
      "Data columns (total 16 columns):\n",
      " #   Column            Non-Null Count   Dtype  \n",
      "---  ------            --------------   -----  \n",
      " 0   name              294593 non-null  object \n",
      " 1   address           294593 non-null  object \n",
      " 2   gmap_id           294593 non-null  object \n",
      " 3   description       31729 non-null   object \n",
      " 4   latitude          294593 non-null  float64\n",
      " 5   longitude         294593 non-null  float64\n",
      " 6   category          292712 non-null  object \n",
      " 7   avg_rating        294593 non-null  float64\n",
      " 8   num_of_reviews    294593 non-null  int64  \n",
      " 9   price             31438 non-null   object \n",
      " 10  hours             228087 non-null  object \n",
      " 11  MISC              242093 non-null  object \n",
      " 12  state             231355 non-null  object \n",
      " 13  relative_results  270853 non-null  object \n",
      " 14  url               294593 non-null  object \n",
      " 15  estado            294593 non-null  object \n",
      "dtypes: float64(3), int64(1), object(12)\n",
      "memory usage: 36.0+ MB\n"
     ]
    }
   ],
   "source": [
    "df_metadatosCA.info()"
   ]
  },
  {
   "cell_type": "code",
   "execution_count": 58,
   "metadata": {},
   "outputs": [
    {
     "data": {
      "text/plain": [
       "1"
      ]
     },
     "execution_count": 58,
     "metadata": {},
     "output_type": "execute_result"
    }
   ],
   "source": [
    "df_metadatosCA['num_of_reviews'].unique().min()"
   ]
  },
  {
   "cell_type": "markdown",
   "metadata": {},
   "source": [
    "#### price"
   ]
  },
  {
   "cell_type": "code",
   "execution_count": 62,
   "metadata": {},
   "outputs": [
    {
     "data": {
      "text/plain": [
       "array(['$', '$$', '$$$', '$$$$', '₩', '₩₩', '₩₩₩', '₩₩₩₩'], dtype=object)"
      ]
     },
     "execution_count": 62,
     "metadata": {},
     "output_type": "execute_result"
    }
   ],
   "source": [
    "df_metadatosCA['price'].dropna().unique()"
   ]
  },
  {
   "cell_type": "markdown",
   "metadata": {},
   "source": [
    "#### hours"
   ]
  },
  {
   "cell_type": "code",
   "execution_count": 72,
   "metadata": {},
   "outputs": [
    {
     "data": {
      "text/plain": [
       "[['Monday', '8AM–6PM'],\n",
       " ['Tuesday', '8AM–6PM'],\n",
       " ['Wednesday', '8AM–6PM'],\n",
       " ['Thursday', '8AM–6PM'],\n",
       " ['Friday', '8AM–6PM'],\n",
       " ['Saturday', '8AM–6PM'],\n",
       " ['Sunday', '8AM–5PM']]"
      ]
     },
     "execution_count": 72,
     "metadata": {},
     "output_type": "execute_result"
    }
   ],
   "source": [
    "df_metadatosCA['hours'][200803]"
   ]
  },
  {
   "cell_type": "code",
   "execution_count": 71,
   "metadata": {},
   "outputs": [
    {
     "name": "stdout",
     "output_type": "stream",
     "text": [
      "0\n",
      "[['Thursday', '6:30AM–6PM'], ['Friday', '6:30AM–6PM'], ['Saturday', '6:30AM–6PM'], ['Sunday', '7AM–12PM'], ['Monday', 'Closed'], ['Tuesday', '6:30AM–6PM'], ['Wednesday', '6:30AM–6PM']]\n",
      "<class 'list'>\n",
      "[['Thursday', '6:30AM–6PM'], ['Friday', '6:30AM–6PM'], ['Saturday', '6:30AM–6PM'], ['Sunday', '7AM–12PM'], ['Monday', 'Closed'], ['Tuesday', '6:30AM–6PM'], ['Wednesday', '6:30AM–6PM']]\n",
      "1         7\n",
      "200820    7\n",
      "200803    7\n",
      "200804    7\n",
      "200806    7\n",
      "Name: hours, dtype: int64\n",
      "102875    7\n",
      "102876    7\n",
      "102878    7\n",
      "102879    7\n",
      "294592    7\n",
      "Name: hours, dtype: int64\n"
     ]
    }
   ],
   "source": [
    "print((df_metadatosCA['hours']==' ').sum())\n",
    "print(df_metadatosCA['hours'][df_metadatosCA['hours'].dropna().apply(len).idxmin()])\n",
    "print(type(df_metadatosCA['hours'][df_metadatosCA['hours'].dropna().apply(len).idxmax()]))\n",
    "print(df_metadatosCA['hours'][df_metadatosCA['hours'].dropna().apply(len).idxmax()])\n",
    "print(df_metadatosCA['hours'].dropna().apply(len).sort_values(ascending=False).head(5))\n",
    "print(df_metadatosCA['hours'].dropna().apply(len).sort_values(ascending=False).tail(5))"
   ]
  },
  {
   "cell_type": "code",
   "execution_count": 75,
   "metadata": {},
   "outputs": [
    {
     "name": "stdout",
     "output_type": "stream",
     "text": [
      "104826    211\n",
      "73985     211\n",
      "74030     211\n",
      "16492     211\n",
      "20595     211\n",
      "Name: hours, dtype: int64\n"
     ]
    }
   ],
   "source": [
    "print(df_metadatosCA['hours'].dropna().apply(lambda lst: sum(len(str(item)) for item in lst)).sort_values(ascending=False).head(5))"
   ]
  },
  {
   "cell_type": "code",
   "execution_count": null,
   "metadata": {},
   "outputs": [],
   "source": [
    "df_metadatosCA['hours'].dropna().apply(lambda lst: sum(len(str(item)) for item in lst)).id"
   ]
  },
  {
   "cell_type": "code",
   "execution_count": 79,
   "metadata": {},
   "outputs": [
    {
     "data": {
      "text/plain": [
       "[['Saturday', '12:01AM–11:59PM'],\n",
       " ['Sunday', '12:01AM–11:59PM'],\n",
       " ['Monday', '12:01AM–11:59PM'],\n",
       " ['Tuesday', '12:01AM–11:59PM'],\n",
       " ['Wednesday', '12:01AM–11:59PM'],\n",
       " ['Thursday', '12:01AM–11:59PM'],\n",
       " ['Friday', '12:01AM–11:59PM']]"
      ]
     },
     "execution_count": 79,
     "metadata": {},
     "output_type": "execute_result"
    }
   ],
   "source": [
    "df_metadatosCA['hours'][104826]"
   ]
  },
  {
   "cell_type": "markdown",
   "metadata": {},
   "source": [
    "#### MISC"
   ]
  },
  {
   "cell_type": "code",
   "execution_count": 80,
   "metadata": {},
   "outputs": [
    {
     "name": "stdout",
     "output_type": "stream",
     "text": [
      "0\n",
      "{'Service options': ['In-store pickup']}\n",
      "<class 'dict'>\n",
      "{'From the business': ['Identifies as women-led'], 'Service options': ['Curbside pickup', 'No-contact delivery', 'Delivery', 'Takeout', 'Dine-in'], 'Health & safety': ['Mask required', 'Staff wear masks', 'Staff get temperature checks', 'Staff required to disinfect surfaces between visits'], 'Highlights': ['LGBTQ friendly', 'Transgender safespace'], 'Popular for': ['Lunch', 'Dinner', 'Solo dining'], 'Accessibility': ['Wheelchair accessible entrance', 'Wheelchair accessible parking lot', 'Wheelchair accessible restroom', 'Wheelchair accessible seating'], 'Offerings': ['Comfort food', 'Late-night food', 'Quick bite', 'Small plates', 'Vegetarian options'], 'Dining options': ['Breakfast', 'Lunch', 'Dinner', 'Catering', 'Dessert', 'Seating'], 'Amenities': ['Bar onsite', 'Good for kids', 'High chairs', 'Restroom', 'Wi-Fi'], 'Atmosphere': ['Casual'], 'Crowd': ['Family-friendly', 'Groups'], 'Planning': ['Accepts reservations'], 'Payments': ['Debit cards', 'NFC mobile payments', 'Credit cards']}\n",
      "271589    13\n",
      "191513    13\n",
      "209866    13\n",
      "265347    13\n",
      "38788     13\n",
      "Name: MISC, dtype: int64\n",
      "186133    1\n",
      "186132    1\n",
      "186131    1\n",
      "186130    1\n",
      "58457     1\n",
      "Name: MISC, dtype: int64\n"
     ]
    }
   ],
   "source": [
    "print((df_metadatosCA['MISC']==' ').sum())\n",
    "print(df_metadatosCA['MISC'][df_metadatosCA['MISC'].dropna().apply(len).idxmin()])\n",
    "print(type(df_metadatosCA['MISC'][df_metadatosCA['MISC'].dropna().apply(len).idxmax()]))\n",
    "print(df_metadatosCA['MISC'][df_metadatosCA['MISC'].dropna().apply(len).idxmax()])\n",
    "print(df_metadatosCA['MISC'].dropna().apply(len).sort_values(ascending=False).head(5))\n",
    "print(df_metadatosCA['MISC'].dropna().apply(len).sort_values(ascending=False).tail(5))"
   ]
  },
  {
   "cell_type": "code",
   "execution_count": 81,
   "metadata": {},
   "outputs": [
    {
     "data": {
      "text/plain": [
       "{'From the business': ['Identifies as women-led'],\n",
       " 'Service options': ['Outdoor seating',\n",
       "  'Curbside pickup',\n",
       "  'Delivery',\n",
       "  'Takeout',\n",
       "  'Dine-in'],\n",
       " 'Health & safety': ['Mask required',\n",
       "  'Staff wear masks',\n",
       "  'Staff required to disinfect surfaces between visits'],\n",
       " 'Highlights': ['Great coffee',\n",
       "  'Great dessert',\n",
       "  'LGBTQ friendly',\n",
       "  'Transgender safespace'],\n",
       " 'Popular for': ['Breakfast', 'Lunch', 'Dinner', 'Solo dining'],\n",
       " 'Accessibility': ['Wheelchair accessible entrance',\n",
       "  'Wheelchair accessible seating',\n",
       "  'Wheelchair accessible parking lot'],\n",
       " 'Offerings': ['Alcohol',\n",
       "  'Beer',\n",
       "  'Coffee',\n",
       "  'Comfort food',\n",
       "  'Healthy options',\n",
       "  'Organic dishes',\n",
       "  'Quick bite',\n",
       "  'Small plates',\n",
       "  'Vegetarian options',\n",
       "  'Wine'],\n",
       " 'Dining options': ['Breakfast',\n",
       "  'Lunch',\n",
       "  'Dinner',\n",
       "  'Catering',\n",
       "  'Dessert',\n",
       "  'Seating'],\n",
       " 'Amenities': ['Bar onsite',\n",
       "  'Good for kids',\n",
       "  'High chairs',\n",
       "  'Restroom',\n",
       "  'Wi-Fi'],\n",
       " 'Atmosphere': ['Casual', 'Cozy'],\n",
       " 'Crowd': ['Family-friendly'],\n",
       " 'Planning': ['Accepts reservations'],\n",
       " 'Payments': ['Debit cards', 'NFC mobile payments', 'Credit cards']}"
      ]
     },
     "execution_count": 81,
     "metadata": {},
     "output_type": "execute_result"
    }
   ],
   "source": [
    "df_metadatosCA['MISC'][271589]"
   ]
  },
  {
   "cell_type": "code",
   "execution_count": 82,
   "metadata": {},
   "outputs": [
    {
     "data": {
      "text/plain": [
       "dict"
      ]
     },
     "execution_count": 82,
     "metadata": {},
     "output_type": "execute_result"
    }
   ],
   "source": [
    "type(df_metadatosCA['MISC'][271589])"
   ]
  },
  {
   "cell_type": "code",
   "execution_count": 83,
   "metadata": {},
   "outputs": [
    {
     "data": {
      "text/plain": [
       "202512"
      ]
     },
     "execution_count": 83,
     "metadata": {},
     "output_type": "execute_result"
    }
   ],
   "source": [
    "#ver el que tiene mas caracteres\n",
    "df_metadatosCA['MISC'].dropna().apply(lambda d: sum(len(str(item)) for sublist in d.values() for item in sublist)).idxmax()"
   ]
  },
  {
   "cell_type": "code",
   "execution_count": 85,
   "metadata": {},
   "outputs": [
    {
     "name": "stdout",
     "output_type": "stream",
     "text": [
      "{'Service options': ['Outdoor seating', 'Curbside pickup', 'No-contact delivery', 'Delivery', 'Takeaway', 'Dine-in'], 'Health and safety': ['Mask required', 'Staff wear masks', 'Staff get temperature checks', 'Staff required to disinfect surfaces between visits'], 'Highlights': ['Fireplace', 'Great beer selection', 'Great cocktails', 'Great coffee', 'Great dessert', 'Great wine list', 'LGBTQ-friendly', 'Transgender safe space'], 'Popular for': ['Lunch', 'Dinner'], 'Accessibility': ['Wheelchair-accessible car park', 'Wheelchair-accessible entrance', 'Wheelchair-accessible seating', 'Wheelchair-accessible toilet'], 'Offerings': ['Alcohol', 'Beer', 'Cocktails', 'Coffee', 'Comfort food', 'Happy-hour drinks', 'Happy-hour food', \"Kids' menu\", 'Late-night food', 'Organic dishes', 'Small plates', 'Spirits', 'Wine'], 'Dining options': ['Lunch', 'Dinner', 'Catering', 'Dessert', 'Seating'], 'Amenities': ['Bar on site', 'Good for kids', 'High chairs', 'Toilets', 'Wi-Fi'], 'Atmosphere': ['Cosy', 'Historic', 'Romantic', 'Upmarket'], 'Crowd': ['Family friendly', 'Groups', 'Tourists'], 'Planning': ['Lunch reservations recommended', 'Dinner reservations recommended', 'Accepts reservations', 'Usually a wait'], 'Payments': ['Debit cards', 'NFC mobile payments', 'Credit cards']}\n"
     ]
    }
   ],
   "source": [
    "print(df_metadatosCA['MISC'][202512])"
   ]
  },
  {
   "cell_type": "markdown",
   "metadata": {},
   "source": [
    "#### state"
   ]
  },
  {
   "cell_type": "code",
   "execution_count": 86,
   "metadata": {},
   "outputs": [
    {
     "name": "stdout",
     "output_type": "stream",
     "text": [
      "0\n",
      "Closed\n",
      "<class 'str'>\n",
      "Closes soon ⋅ 10:30PM ⋅ Opens 11:30AM Thu\n",
      "64359     41\n",
      "231564    41\n",
      "275739    41\n",
      "254600    40\n",
      "288754    40\n",
      "Name: state, dtype: int64\n",
      "184277    6\n",
      "254864    6\n",
      "248782    6\n",
      "145686    6\n",
      "174266    6\n",
      "Name: state, dtype: int64\n"
     ]
    }
   ],
   "source": [
    "print((df_metadatosCA['state']==' ').sum())\n",
    "print(df_metadatosCA['state'][df_metadatosCA['state'].dropna().apply(len).idxmin()])\n",
    "print(type(df_metadatosCA['state'][df_metadatosCA['state'].dropna().apply(len).idxmax()]))\n",
    "print(df_metadatosCA['state'][df_metadatosCA['state'].dropna().apply(len).idxmax()])\n",
    "print(df_metadatosCA['state'].dropna().apply(len).sort_values(ascending=False).head(5))\n",
    "print(df_metadatosCA['state'].dropna().apply(len).sort_values(ascending=False).tail(5))"
   ]
  },
  {
   "cell_type": "markdown",
   "metadata": {},
   "source": [
    "#### relative_results "
   ]
  },
  {
   "cell_type": "code",
   "execution_count": 88,
   "metadata": {},
   "outputs": [
    {
     "name": "stdout",
     "output_type": "stream",
     "text": [
      "0\n",
      "['0x808f7d903888260d:0x846a0c7caf8e80e2']\n",
      "<class 'list'>\n",
      "['0x80c2c78249aba68f:0x35bf16ce61be751d', '0x80c2c79998f75fff:0xd7ca5c67e96fb778', '0x80c2b899146d7507:0xf4162c12c9cf65f8', '0x80c2c77f2d419951:0x26285631b21e324c', '0x80c2b8add9016015:0x15836f81a963b35f']\n",
      "101816    5\n",
      "130836    5\n",
      "130838    5\n",
      "130839    5\n",
      "130840    5\n",
      "Name: relative_results, dtype: int64\n",
      "230235    1\n",
      "138010    1\n",
      "96067     1\n",
      "187418    1\n",
      "19353     1\n",
      "Name: relative_results, dtype: int64\n"
     ]
    }
   ],
   "source": [
    "print((df_metadatosCA['relative_results']==' ').sum())\n",
    "print(df_metadatosCA['relative_results'][df_metadatosCA['relative_results'].dropna().apply(len).idxmin()])\n",
    "print(type(df_metadatosCA['relative_results'][df_metadatosCA['relative_results'].dropna().apply(len).idxmax()]))\n",
    "print(df_metadatosCA['relative_results'][df_metadatosCA['relative_results'].dropna().apply(len).idxmax()])\n",
    "print(df_metadatosCA['relative_results'].dropna().apply(len).sort_values(ascending=False).head(5))\n",
    "print(df_metadatosCA['relative_results'].dropna().apply(len).sort_values(ascending=False).tail(5))"
   ]
  },
  {
   "cell_type": "markdown",
   "metadata": {},
   "source": [
    "#### url"
   ]
  },
  {
   "cell_type": "code",
   "execution_count": 89,
   "metadata": {},
   "outputs": [
    {
     "name": "stdout",
     "output_type": "stream",
     "text": [
      "0\n",
      "https://www.google.com/maps/place//data=!4m2!3m1!1s0x0:0x13154eabf70b4b93?authuser=-1&hl=en&gl=us\n",
      "<class 'str'>\n",
      "https://www.google.com/maps/place/Point+Reyes+National+Seashore,+Point+Reyes+Station,+CA+94956/data=!4m2!3m1!1s0x8085da4972d11a1d:0x3568b993a474528f?authuser=-1&hl=en&gl=us\n",
      "277970    172\n",
      "186611    167\n",
      "202402    167\n",
      "15248     161\n",
      "3241      159\n",
      "Name: url, dtype: int64\n",
      "192036    107\n",
      "194950    107\n",
      "194056    107\n",
      "130938     97\n",
      "171772     97\n",
      "Name: url, dtype: int64\n"
     ]
    }
   ],
   "source": [
    "print((df_metadatosCA['url']==' ').sum())\n",
    "print(df_metadatosCA['url'][df_metadatosCA['url'].dropna().apply(len).idxmin()])\n",
    "print(type(df_metadatosCA['url'][df_metadatosCA['url'].dropna().apply(len).idxmax()]))\n",
    "print(df_metadatosCA['url'][df_metadatosCA['url'].dropna().apply(len).idxmax()])\n",
    "print(df_metadatosCA['url'].dropna().apply(len).sort_values(ascending=False).head(5))\n",
    "print(df_metadatosCA['url'].dropna().apply(len).sort_values(ascending=False).tail(5))"
   ]
  },
  {
   "cell_type": "markdown",
   "metadata": {},
   "source": [
    "### Category"
   ]
  },
  {
   "cell_type": "code",
   "execution_count": null,
   "metadata": {},
   "outputs": [],
   "source": [
    "# la columna figura con listas, pero con formato str. Paso primero a lista los str, para luego poder trabajar sobre ellos.\n",
    "# Esto sucede sólo cuando lo importamos del csv \n",
    "\n",
    "def safe_literal_eval(val):\n",
    "    try:\n",
    "        return ast.literal_eval(val)\n",
    "    except (ValueError, SyntaxError):\n",
    "        return val\n",
    "\n",
    "\n",
    "df_metadatosCA['category'] = df_metadatosCA['category'].apply(safe_literal_eval)\n",
    "\n",
    "# Expandir las listas en filas individuales\n",
    "categorias_expandidas = df_metadatosCA['category'].explode()\n",
    "\n",
    "# Contar las ocurrencias de cada categoría\n",
    "conteo_categorias = categorias_expandidas.value_counts()"
   ]
  },
  {
   "cell_type": "code",
   "execution_count": 24,
   "metadata": {},
   "outputs": [],
   "source": [
    "# si se extrae desde el json directamente, usar este código\n",
    "\n",
    "# Expandir las listas en filas individuales\n",
    "categorias_expandidas = df_metadatosCA['category'].explode()\n",
    "\n",
    "# Contar las ocurrencias de cada categoría\n",
    "conteo_categorias = categorias_expandidas.value_counts()"
   ]
  },
  {
   "cell_type": "code",
   "execution_count": 25,
   "metadata": {},
   "outputs": [
    {
     "data": {
      "text/plain": [
       "category\n",
       "Restaurant                 11505\n",
       "Auto repair shop            8729\n",
       "Beauty salon                7846\n",
       "Hair salon                  5526\n",
       "Nail salon                  5419\n",
       "Convenience store           4892\n",
       "Gas station                 4770\n",
       "Park                        4047\n",
       "Clothing store              3991\n",
       "Barber shop                 3879\n",
       "Dentist                     3836\n",
       "Church                      3684\n",
       "ATM                         3684\n",
       "Tourist attraction          3415\n",
       "Mexican restaurant          3395\n",
       "Cell phone store            3353\n",
       "Grocery store               3328\n",
       "Fast food restaurant        3040\n",
       "Tire shop                   2955\n",
       "Cafe                        2946\n",
       "Massage therapist           2895\n",
       "Doctor                      2881\n",
       "Non-profit organization     2866\n",
       "Coffee shop                 2823\n",
       "Corporate office            2768\n",
       "Insurance agency            2721\n",
       "Sandwich shop               2686\n",
       "Gift shop                   2534\n",
       "Brake shop                  2513\n",
       "Women's clothing store      2505\n",
       "Auto body shop              2490\n",
       "Liquor store                2474\n",
       "Gym                         2421\n",
       "Caterer                     2420\n",
       "Shoe store                  2382\n",
       "Takeout Restaurant          2374\n",
       "Bank                        2360\n",
       "Electronics store           2298\n",
       "Oil change service          2255\n",
       "Pizza restaurant            2187\n",
       "Name: count, dtype: int64"
      ]
     },
     "execution_count": 25,
     "metadata": {},
     "output_type": "execute_result"
    }
   ],
   "source": [
    "conteo_categorias.head(40)"
   ]
  },
  {
   "cell_type": "markdown",
   "metadata": {},
   "source": [
    "##### Agrupacion por categoría"
   ]
  },
  {
   "cell_type": "code",
   "execution_count": 28,
   "metadata": {},
   "outputs": [
    {
     "name": "stderr",
     "output_type": "stream",
     "text": [
      "C:\\Users\\feder\\AppData\\Local\\Temp\\ipykernel_3556\\285765597.py:2: SettingWithCopyWarning: \n",
      "A value is trying to be set on a copy of a slice from a DataFrame.\n",
      "Try using .loc[row_indexer,col_indexer] = value instead\n",
      "\n",
      "See the caveats in the documentation: https://pandas.pydata.org/pandas-docs/stable/user_guide/indexing.html#returning-a-view-versus-a-copy\n",
      "  df_metadatosCA['category'] = df_metadatosCA['category'].apply(lambda x: x if isinstance(x, list) else [x] if x is not None else [])\n",
      "C:\\Users\\feder\\AppData\\Local\\Temp\\ipykernel_3556\\285765597.py:4: SettingWithCopyWarning: \n",
      "A value is trying to be set on a copy of a slice from a DataFrame.\n",
      "Try using .loc[row_indexer,col_indexer] = value instead\n",
      "\n",
      "See the caveats in the documentation: https://pandas.pydata.org/pandas-docs/stable/user_guide/indexing.html#returning-a-view-versus-a-copy\n",
      "  df_metadatosCA['category'] = df_metadatosCA['category'].apply(lambda x: ', '.join(x) if isinstance(x, list) else str(x))\n"
     ]
    }
   ],
   "source": [
    "#cambio a lista para poder convertir todo en texto\n",
    "df_metadatosCA['category'] = df_metadatosCA['category'].apply(lambda x: x if isinstance(x, list) else [x] if x is not None else [])\n",
    "#cambio todo a texto\n",
    "df_metadatosCA['category'] = df_metadatosCA['category'].apply(lambda x: ', '.join(x) if isinstance(x, list) else str(x))"
   ]
  },
  {
   "cell_type": "code",
   "execution_count": 31,
   "metadata": {},
   "outputs": [],
   "source": [
    "df_categories=df_metadatosCA.groupby('category').agg({\n",
    "    'gmap_id':'count', \n",
    "    'avg_rating': 'mean',\n",
    "    'num_of_reviews': 'sum',\n",
    "}).reset_index()"
   ]
  },
  {
   "cell_type": "code",
   "execution_count": 32,
   "metadata": {},
   "outputs": [],
   "source": [
    "df_categories.columns = ['category', 'stores', 'avg_rating', 'num_of_reviews']"
   ]
  },
  {
   "cell_type": "code",
   "execution_count": 33,
   "metadata": {},
   "outputs": [
    {
     "data": {
      "text/plain": [
       "54162"
      ]
     },
     "execution_count": 33,
     "metadata": {},
     "output_type": "execute_result"
    }
   ],
   "source": [
    "df_categories['category'].nunique()"
   ]
  },
  {
   "cell_type": "code",
   "execution_count": 34,
   "metadata": {},
   "outputs": [
    {
     "data": {
      "text/plain": [
       "array(['',\n",
       "       '3D printing service, Architectural and engineering model maker, Industrial design company, Manufacturer, Model design company',\n",
       "       'ATM', ..., 'Zoo, Tourist attraction',\n",
       "       'Zoo, Tourist attraction, Wildlife refuge', 'Zoo, Wildlife refuge'],\n",
       "      dtype=object)"
      ]
     },
     "execution_count": 34,
     "metadata": {},
     "output_type": "execute_result"
    }
   ],
   "source": [
    "df_categories['category'].unique()"
   ]
  },
  {
   "cell_type": "code",
   "execution_count": 35,
   "metadata": {},
   "outputs": [
    {
     "data": {
      "text/html": [
       "<div>\n",
       "<style scoped>\n",
       "    .dataframe tbody tr th:only-of-type {\n",
       "        vertical-align: middle;\n",
       "    }\n",
       "\n",
       "    .dataframe tbody tr th {\n",
       "        vertical-align: top;\n",
       "    }\n",
       "\n",
       "    .dataframe thead th {\n",
       "        text-align: right;\n",
       "    }\n",
       "</style>\n",
       "<table border=\"1\" class=\"dataframe\">\n",
       "  <thead>\n",
       "    <tr style=\"text-align: right;\">\n",
       "      <th></th>\n",
       "      <th>category</th>\n",
       "      <th>stores</th>\n",
       "      <th>avg_rating</th>\n",
       "      <th>num_of_reviews</th>\n",
       "    </tr>\n",
       "  </thead>\n",
       "  <tbody>\n",
       "    <tr>\n",
       "      <th>42634</th>\n",
       "      <td>Restaurant</td>\n",
       "      <td>4494</td>\n",
       "      <td>4.300401</td>\n",
       "      <td>157380</td>\n",
       "    </tr>\n",
       "    <tr>\n",
       "      <th>3760</th>\n",
       "      <td>Auto repair shop</td>\n",
       "      <td>3482</td>\n",
       "      <td>4.519070</td>\n",
       "      <td>90818</td>\n",
       "    </tr>\n",
       "    <tr>\n",
       "      <th>35455</th>\n",
       "      <td>Nail salon</td>\n",
       "      <td>3350</td>\n",
       "      <td>4.160328</td>\n",
       "      <td>149266</td>\n",
       "    </tr>\n",
       "    <tr>\n",
       "      <th>6817</th>\n",
       "      <td>Beauty salon</td>\n",
       "      <td>3001</td>\n",
       "      <td>4.563912</td>\n",
       "      <td>64366</td>\n",
       "    </tr>\n",
       "    <tr>\n",
       "      <th>6498</th>\n",
       "      <td>Barber shop</td>\n",
       "      <td>2787</td>\n",
       "      <td>4.504665</td>\n",
       "      <td>112639</td>\n",
       "    </tr>\n",
       "    <tr>\n",
       "      <th>37547</th>\n",
       "      <td>Park</td>\n",
       "      <td>2580</td>\n",
       "      <td>4.384302</td>\n",
       "      <td>77535</td>\n",
       "    </tr>\n",
       "    <tr>\n",
       "      <th>23092</th>\n",
       "      <td>Gas station</td>\n",
       "      <td>2394</td>\n",
       "      <td>3.970259</td>\n",
       "      <td>88387</td>\n",
       "    </tr>\n",
       "    <tr>\n",
       "      <th>14937</th>\n",
       "      <td>Corporate office</td>\n",
       "      <td>2253</td>\n",
       "      <td>4.048202</td>\n",
       "      <td>37048</td>\n",
       "    </tr>\n",
       "    <tr>\n",
       "      <th>12201</th>\n",
       "      <td>Church</td>\n",
       "      <td>2236</td>\n",
       "      <td>4.661807</td>\n",
       "      <td>27921</td>\n",
       "    </tr>\n",
       "    <tr>\n",
       "      <th>33981</th>\n",
       "      <td>Mexican restaurant</td>\n",
       "      <td>1914</td>\n",
       "      <td>4.284169</td>\n",
       "      <td>163364</td>\n",
       "    </tr>\n",
       "  </tbody>\n",
       "</table>\n",
       "</div>"
      ],
      "text/plain": [
       "                 category  stores  avg_rating  num_of_reviews\n",
       "42634          Restaurant    4494    4.300401          157380\n",
       "3760     Auto repair shop    3482    4.519070           90818\n",
       "35455          Nail salon    3350    4.160328          149266\n",
       "6817         Beauty salon    3001    4.563912           64366\n",
       "6498          Barber shop    2787    4.504665          112639\n",
       "37547                Park    2580    4.384302           77535\n",
       "23092         Gas station    2394    3.970259           88387\n",
       "14937    Corporate office    2253    4.048202           37048\n",
       "12201              Church    2236    4.661807           27921\n",
       "33981  Mexican restaurant    1914    4.284169          163364"
      ]
     },
     "execution_count": 35,
     "metadata": {},
     "output_type": "execute_result"
    }
   ],
   "source": [
    "df_categories.sort_values(by='stores', ascending=False).head(10)"
   ]
  },
  {
   "cell_type": "code",
   "execution_count": 38,
   "metadata": {},
   "outputs": [
    {
     "data": {
      "text/html": [
       "<div>\n",
       "<style scoped>\n",
       "    .dataframe tbody tr th:only-of-type {\n",
       "        vertical-align: middle;\n",
       "    }\n",
       "\n",
       "    .dataframe tbody tr th {\n",
       "        vertical-align: top;\n",
       "    }\n",
       "\n",
       "    .dataframe thead th {\n",
       "        text-align: right;\n",
       "    }\n",
       "</style>\n",
       "<table border=\"1\" class=\"dataframe\">\n",
       "  <thead>\n",
       "    <tr style=\"text-align: right;\">\n",
       "      <th></th>\n",
       "      <th>category</th>\n",
       "      <th>stores</th>\n",
       "      <th>avg_rating</th>\n",
       "      <th>num_of_reviews</th>\n",
       "    </tr>\n",
       "  </thead>\n",
       "  <tbody>\n",
       "    <tr>\n",
       "      <th>45178</th>\n",
       "      <td>Shopping mall</td>\n",
       "      <td>1125</td>\n",
       "      <td>4.247378</td>\n",
       "      <td>188114</td>\n",
       "    </tr>\n",
       "    <tr>\n",
       "      <th>33981</th>\n",
       "      <td>Mexican restaurant</td>\n",
       "      <td>1914</td>\n",
       "      <td>4.284169</td>\n",
       "      <td>163364</td>\n",
       "    </tr>\n",
       "    <tr>\n",
       "      <th>42634</th>\n",
       "      <td>Restaurant</td>\n",
       "      <td>4494</td>\n",
       "      <td>4.300401</td>\n",
       "      <td>157380</td>\n",
       "    </tr>\n",
       "    <tr>\n",
       "      <th>35455</th>\n",
       "      <td>Nail salon</td>\n",
       "      <td>3350</td>\n",
       "      <td>4.160328</td>\n",
       "      <td>149266</td>\n",
       "    </tr>\n",
       "    <tr>\n",
       "      <th>37626</th>\n",
       "      <td>Park, Tourist attraction</td>\n",
       "      <td>1191</td>\n",
       "      <td>4.363392</td>\n",
       "      <td>139206</td>\n",
       "    </tr>\n",
       "    <tr>\n",
       "      <th>6498</th>\n",
       "      <td>Barber shop</td>\n",
       "      <td>2787</td>\n",
       "      <td>4.504665</td>\n",
       "      <td>112639</td>\n",
       "    </tr>\n",
       "    <tr>\n",
       "      <th>3760</th>\n",
       "      <td>Auto repair shop</td>\n",
       "      <td>3482</td>\n",
       "      <td>4.519070</td>\n",
       "      <td>90818</td>\n",
       "    </tr>\n",
       "    <tr>\n",
       "      <th>23092</th>\n",
       "      <td>Gas station</td>\n",
       "      <td>2394</td>\n",
       "      <td>3.970259</td>\n",
       "      <td>88387</td>\n",
       "    </tr>\n",
       "    <tr>\n",
       "      <th>37547</th>\n",
       "      <td>Park</td>\n",
       "      <td>2580</td>\n",
       "      <td>4.384302</td>\n",
       "      <td>77535</td>\n",
       "    </tr>\n",
       "    <tr>\n",
       "      <th>24387</th>\n",
       "      <td>Grocery store</td>\n",
       "      <td>1796</td>\n",
       "      <td>4.268987</td>\n",
       "      <td>70561</td>\n",
       "    </tr>\n",
       "  </tbody>\n",
       "</table>\n",
       "</div>"
      ],
      "text/plain": [
       "                       category  stores  avg_rating  num_of_reviews\n",
       "45178             Shopping mall    1125    4.247378          188114\n",
       "33981        Mexican restaurant    1914    4.284169          163364\n",
       "42634                Restaurant    4494    4.300401          157380\n",
       "35455                Nail salon    3350    4.160328          149266\n",
       "37626  Park, Tourist attraction    1191    4.363392          139206\n",
       "6498                Barber shop    2787    4.504665          112639\n",
       "3760           Auto repair shop    3482    4.519070           90818\n",
       "23092               Gas station    2394    3.970259           88387\n",
       "37547                      Park    2580    4.384302           77535\n",
       "24387             Grocery store    1796    4.268987           70561"
      ]
     },
     "execution_count": 38,
     "metadata": {},
     "output_type": "execute_result"
    }
   ],
   "source": [
    "df_categories.sort_values(by='num_of_reviews', ascending=False).head(10)"
   ]
  },
  {
   "cell_type": "code",
   "execution_count": 39,
   "metadata": {},
   "outputs": [
    {
     "data": {
      "text/html": [
       "<div>\n",
       "<style scoped>\n",
       "    .dataframe tbody tr th:only-of-type {\n",
       "        vertical-align: middle;\n",
       "    }\n",
       "\n",
       "    .dataframe tbody tr th {\n",
       "        vertical-align: top;\n",
       "    }\n",
       "\n",
       "    .dataframe thead th {\n",
       "        text-align: right;\n",
       "    }\n",
       "</style>\n",
       "<table border=\"1\" class=\"dataframe\">\n",
       "  <thead>\n",
       "    <tr style=\"text-align: right;\">\n",
       "      <th></th>\n",
       "      <th>category</th>\n",
       "      <th>stores</th>\n",
       "      <th>avg_rating</th>\n",
       "      <th>num_of_reviews</th>\n",
       "    </tr>\n",
       "  </thead>\n",
       "  <tbody>\n",
       "    <tr>\n",
       "      <th>12201</th>\n",
       "      <td>Church</td>\n",
       "      <td>2236</td>\n",
       "      <td>4.661807</td>\n",
       "      <td>27921</td>\n",
       "    </tr>\n",
       "    <tr>\n",
       "      <th>25275</th>\n",
       "      <td>Hair salon</td>\n",
       "      <td>1530</td>\n",
       "      <td>4.602941</td>\n",
       "      <td>38055</td>\n",
       "    </tr>\n",
       "    <tr>\n",
       "      <th>6817</th>\n",
       "      <td>Beauty salon</td>\n",
       "      <td>3001</td>\n",
       "      <td>4.563912</td>\n",
       "      <td>64366</td>\n",
       "    </tr>\n",
       "    <tr>\n",
       "      <th>38627</th>\n",
       "      <td>Pet groomer</td>\n",
       "      <td>1001</td>\n",
       "      <td>4.548751</td>\n",
       "      <td>33299</td>\n",
       "    </tr>\n",
       "    <tr>\n",
       "      <th>7176</th>\n",
       "      <td>Beauty salon, Hair salon</td>\n",
       "      <td>1155</td>\n",
       "      <td>4.543810</td>\n",
       "      <td>36245</td>\n",
       "    </tr>\n",
       "    <tr>\n",
       "      <th>16764</th>\n",
       "      <td>Dentist</td>\n",
       "      <td>1463</td>\n",
       "      <td>4.533356</td>\n",
       "      <td>61441</td>\n",
       "    </tr>\n",
       "    <tr>\n",
       "      <th>3760</th>\n",
       "      <td>Auto repair shop</td>\n",
       "      <td>3482</td>\n",
       "      <td>4.519070</td>\n",
       "      <td>90818</td>\n",
       "    </tr>\n",
       "    <tr>\n",
       "      <th>6498</th>\n",
       "      <td>Barber shop</td>\n",
       "      <td>2787</td>\n",
       "      <td>4.504665</td>\n",
       "      <td>112639</td>\n",
       "    </tr>\n",
       "    <tr>\n",
       "      <th>2957</th>\n",
       "      <td>Auto body shop</td>\n",
       "      <td>1124</td>\n",
       "      <td>4.477936</td>\n",
       "      <td>26939</td>\n",
       "    </tr>\n",
       "    <tr>\n",
       "      <th>48814</th>\n",
       "      <td>Tire shop</td>\n",
       "      <td>1005</td>\n",
       "      <td>4.422587</td>\n",
       "      <td>45280</td>\n",
       "    </tr>\n",
       "  </tbody>\n",
       "</table>\n",
       "</div>"
      ],
      "text/plain": [
       "                       category  stores  avg_rating  num_of_reviews\n",
       "12201                    Church    2236    4.661807           27921\n",
       "25275                Hair salon    1530    4.602941           38055\n",
       "6817               Beauty salon    3001    4.563912           64366\n",
       "38627               Pet groomer    1001    4.548751           33299\n",
       "7176   Beauty salon, Hair salon    1155    4.543810           36245\n",
       "16764                   Dentist    1463    4.533356           61441\n",
       "3760           Auto repair shop    3482    4.519070           90818\n",
       "6498                Barber shop    2787    4.504665          112639\n",
       "2957             Auto body shop    1124    4.477936           26939\n",
       "48814                 Tire shop    1005    4.422587           45280"
      ]
     },
     "execution_count": 39,
     "metadata": {},
     "output_type": "execute_result"
    }
   ],
   "source": [
    "df_categories[df_categories['stores'] > 1000].sort_values(by='avg_rating', ascending=False).head(10)"
   ]
  },
  {
   "cell_type": "markdown",
   "metadata": {},
   "source": [
    "### Rating vs reviews"
   ]
  },
  {
   "cell_type": "code",
   "execution_count": 42,
   "metadata": {},
   "outputs": [],
   "source": [
    "x=df_metadatosCA['num_of_reviews']\n",
    "y=df_metadatosCA['avg_rating']"
   ]
  },
  {
   "cell_type": "code",
   "execution_count": 43,
   "metadata": {},
   "outputs": [
    {
     "data": {
      "image/png": "[encoded data removed]",
      "text/plain": [
       "<Figure size 1000x600 with 1 Axes>"
      ]
     },
     "metadata": {},
     "output_type": "display_data"
    }
   ],
   "source": [
    "plt.figure(figsize=(10, 6))  # Adjust the figure size as needed\n",
    "plt.scatter(x, y, alpha=0.5)  # Create scatter plot with transparency\n",
    "\n",
    "plt.title('Number of Reviews vs Average Rating')\n",
    "plt.xlabel('Number of Reviews')\n",
    "plt.ylabel('Average Rating')\n",
    "\n",
    "plt.grid(True)  # Add gridlines for better readability\n",
    "plt.show()"
   ]
  },
  {
   "cell_type": "markdown",
   "metadata": {},
   "source": [
    "## Business - YELP"
   ]
  },
  {
   "cell_type": "markdown",
   "metadata": {},
   "source": [
    "## User - YELP"
   ]
  },
  {
   "cell_type": "markdown",
   "metadata": {},
   "source": [
    "## Review - YELP"
   ]
  },
  {
   "cell_type": "markdown",
   "metadata": {},
   "source": [
    "## Tips/Checkin - YELP"
   ]
  }
 ],
 "metadata": {
  "kernelspec": {
   "display_name": "Python 3",
   "language": "python",
   "name": "python3"
  },
  "language_info": {
   "codemirror_mode": {
    "name": "ipython",
    "version": 3
   },
   "file_extension": ".py",
   "mimetype": "text/x-python",
   "name": "python",
   "nbconvert_exporter": "python",
   "pygments_lexer": "ipython3",
   "version": "3.11.4"
  }
 },
 "nbformat": 4,
 "nbformat_minor": 2
}
