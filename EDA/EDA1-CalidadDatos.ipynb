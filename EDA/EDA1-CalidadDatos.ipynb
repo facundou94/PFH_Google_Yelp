{
 "cells": [
  {
   "cell_type": "markdown",
   "metadata": {},
   "source": [
    "# Importación Librerías"
   ]
  },
  {
   "cell_type": "code",
   "execution_count": 2,
   "metadata": {},
   "outputs": [],
   "source": [
    "import pandas as pd\n",
    "from io import StringIO\n",
    "import gdown\n",
    "import json\n",
    "import os\n",
    "import matplotlib.pyplot as plt\n",
    "import matplotlib.ticker as ticker\n",
    "import ast\n",
    "from collections import Counter\n",
    "from datetime import datetime\n",
    "import seaborn as sns\n",
    "import numpy as np\n",
    "import reverse_geocoder as rg"
   ]
  },
  {
   "cell_type": "markdown",
   "metadata": {},
   "source": [
    "# Importación Archivos"
   ]
  },
  {
   "cell_type": "code",
   "execution_count": 3,
   "metadata": {},
   "outputs": [],
   "source": [
    "df_reviewsGoogle_CA=pd.read_parquet('../Archivos/ReviewsGoogle_CA.parquet')"
   ]
  },
  {
   "cell_type": "code",
   "execution_count": null,
   "metadata": {},
   "outputs": [],
   "source": [
    "df_reviewsGoogle_CA.info()"
   ]
  },
  {
   "cell_type": "markdown",
   "metadata": {},
   "source": [
    "Espacio que ocupa Reviews - Google: 228 Mb en parquet, 165 Mb en Dataframe"
   ]
  },
  {
   "cell_type": "code",
   "execution_count": 4,
   "metadata": {},
   "outputs": [],
   "source": [
    "df_metadatos_CA=pd.read_parquet('../Archivos/metadatos_CA.parquet')"
   ]
  },
  {
   "cell_type": "code",
   "execution_count": null,
   "metadata": {},
   "outputs": [],
   "source": [
    "df_metadatos_CA.info()"
   ]
  },
  {
   "cell_type": "markdown",
   "metadata": {},
   "source": [
    "Espacio que ocupa Metadatos\n",
    "Parquet: 85 Mb\n",
    "Dataframe: 36,3 Mb"
   ]
  },
  {
   "cell_type": "code",
   "execution_count": 57,
   "metadata": {},
   "outputs": [],
   "source": [
    "# Leer el archivo pickle en un DataFrame de pandas\n",
    "df_businessYelp = pd.read_pickle('../Archivos/business.pkl')\n"
   ]
  },
  {
   "cell_type": "code",
   "execution_count": null,
   "metadata": {},
   "outputs": [],
   "source": [
    "df_businessYelp.info()"
   ]
  },
  {
   "cell_type": "markdown",
   "metadata": {},
   "source": [
    "Espacio que ocupa Business - Yelp: Archivo pickle 113,6 Mb, df 33,6 Mb\n",
    "\n"
   ]
  },
  {
   "cell_type": "markdown",
   "metadata": {},
   "source": [
    "# Reviews Estados - Google"
   ]
  },
  {
   "cell_type": "code",
   "execution_count": 64,
   "metadata": {},
   "outputs": [
    {
     "name": "stdout",
     "output_type": "stream",
     "text": [
      "<class 'pandas.core.frame.DataFrame'>\n",
      "RangeIndex: 2700000 entries, 0 to 2699999\n",
      "Data columns (total 8 columns):\n",
      " #   Column   Dtype  \n",
      "---  ------   -----  \n",
      " 0   user_id  float64\n",
      " 1   name     object \n",
      " 2   time     int64  \n",
      " 3   rating   int64  \n",
      " 4   text     object \n",
      " 5   pics     object \n",
      " 6   resp     object \n",
      " 7   gmap_id  object \n",
      "dtypes: float64(1), int64(2), object(5)\n",
      "memory usage: 164.8+ MB\n"
     ]
    }
   ],
   "source": [
    "df_reviewsGoogle_CA.info()"
   ]
  },
  {
   "cell_type": "markdown",
   "metadata": {},
   "source": [
    "#### user_id"
   ]
  },
  {
   "cell_type": "markdown",
   "metadata": {},
   "source": [
    "Es una entero de 21 cifras. No lo soporta en int de pandas, hay que pasar al int nativo de Python.\n",
    "Para Pandas va a ser un object entonces, pero para Python un entero.\n",
    "Sin nulos."
   ]
  },
  {
   "cell_type": "code",
   "execution_count": 65,
   "metadata": {},
   "outputs": [
    {
     "data": {
      "text/plain": [
       "0          1.089912e+20\n",
       "1          1.112903e+20\n",
       "2          1.126404e+20\n",
       "3          1.174403e+20\n",
       "4          1.005808e+20\n",
       "               ...     \n",
       "2699995    1.139124e+20\n",
       "2699996    1.180461e+20\n",
       "2699997    1.071072e+20\n",
       "2699998    1.172404e+20\n",
       "2699999    1.117537e+20\n",
       "Name: user_id, Length: 2700000, dtype: float64"
      ]
     },
     "execution_count": 65,
     "metadata": {},
     "output_type": "execute_result"
    }
   ],
   "source": [
    "df_reviewsGoogle_CA['user_id']"
   ]
  },
  {
   "cell_type": "code",
   "execution_count": null,
   "metadata": {},
   "outputs": [],
   "source": [
    "df_reviewsGoogle_CA['user_id']=df_reviewsGoogle_CA['user_id'].apply(int)"
   ]
  },
  {
   "cell_type": "code",
   "execution_count": 66,
   "metadata": {},
   "outputs": [
    {
     "data": {
      "text/plain": [
       "0"
      ]
     },
     "execution_count": 66,
     "metadata": {},
     "output_type": "execute_result"
    }
   ],
   "source": [
    "df_reviewsGoogle_CA['user_id'].isna().sum()"
   ]
  },
  {
   "cell_type": "markdown",
   "metadata": {},
   "source": [
    "#### name"
   ]
  },
  {
   "cell_type": "markdown",
   "metadata": {},
   "source": [
    "Es un texto. El que más valor tiene, tiene 77 caracteres.\n",
    "Hay caracteres en todos los idiomas (chino, japonés, etc).\n",
    "Sin nulos."
   ]
  },
  {
   "cell_type": "code",
   "execution_count": 67,
   "metadata": {},
   "outputs": [],
   "source": [
    "cual=df_reviewsGoogle_CA['name'].apply(len)"
   ]
  },
  {
   "cell_type": "code",
   "execution_count": 68,
   "metadata": {},
   "outputs": [
    {
     "data": {
      "text/plain": [
       "181901     77\n",
       "864517     74\n",
       "1574832    74\n",
       "658053     74\n",
       "1720881    74\n",
       "           ..\n",
       "1580582     1\n",
       "1669924     1\n",
       "1540558     1\n",
       "2091968     1\n",
       "133906      1\n",
       "Name: name, Length: 2700000, dtype: int64"
      ]
     },
     "execution_count": 68,
     "metadata": {},
     "output_type": "execute_result"
    }
   ],
   "source": [
    "cual.sort_values(ascending=False)"
   ]
  },
  {
   "cell_type": "code",
   "execution_count": 69,
   "metadata": {},
   "outputs": [
    {
     "data": {
      "text/plain": [
       "'image system photographie Cruseilles Annecy Genève (Photographe Haute Savoie)'"
      ]
     },
     "execution_count": 69,
     "metadata": {},
     "output_type": "execute_result"
    }
   ],
   "source": [
    "df_reviewsGoogle_CA['name'][181901]"
   ]
  },
  {
   "cell_type": "code",
   "execution_count": 70,
   "metadata": {},
   "outputs": [
    {
     "data": {
      "text/plain": [
       "0"
      ]
     },
     "execution_count": 70,
     "metadata": {},
     "output_type": "execute_result"
    }
   ],
   "source": [
    "df_reviewsGoogle_CA['name'].isna().sum()"
   ]
  },
  {
   "cell_type": "code",
   "execution_count": 71,
   "metadata": {},
   "outputs": [
    {
     "name": "stdout",
     "output_type": "stream",
     "text": [
      "<class 'pandas.core.series.Series'>\n",
      "RangeIndex: 2700000 entries, 0 to 2699999\n",
      "Series name: name\n",
      "Non-Null Count    Dtype \n",
      "--------------    ----- \n",
      "2700000 non-null  object\n",
      "dtypes: object(1)\n",
      "memory usage: 20.6+ MB\n"
     ]
    }
   ],
   "source": [
    "df_reviewsGoogle_CA['name'].info()"
   ]
  },
  {
   "cell_type": "markdown",
   "metadata": {},
   "source": [
    "#### time"
   ]
  },
  {
   "cell_type": "markdown",
   "metadata": {},
   "source": [
    "Valores enteros de 13 cifras.\n",
    "Marcas de tiempo en milisegundos desde la época Unix (1970-01-01).\n",
    "Sin nulos."
   ]
  },
  {
   "cell_type": "code",
   "execution_count": 72,
   "metadata": {},
   "outputs": [
    {
     "data": {
      "text/plain": [
       "0          1609909927056\n",
       "1          1612849648663\n",
       "2          1583643882296\n",
       "3          1551938216355\n",
       "4          1494910901933\n",
       "               ...      \n",
       "2699995    1553382802382\n",
       "2699996    1509453169393\n",
       "2699997    1614453586811\n",
       "2699998    1569739943903\n",
       "2699999    1521661727317\n",
       "Name: time, Length: 2700000, dtype: int64"
      ]
     },
     "execution_count": 72,
     "metadata": {},
     "output_type": "execute_result"
    }
   ],
   "source": [
    "df_reviewsGoogle_CA['time']"
   ]
  },
  {
   "cell_type": "code",
   "execution_count": 73,
   "metadata": {},
   "outputs": [
    {
     "data": {
      "text/plain": [
       "0"
      ]
     },
     "execution_count": 73,
     "metadata": {},
     "output_type": "execute_result"
    }
   ],
   "source": [
    "df_reviewsGoogle_CA['time'].isna().sum()"
   ]
  },
  {
   "cell_type": "code",
   "execution_count": 74,
   "metadata": {},
   "outputs": [
    {
     "name": "stdout",
     "output_type": "stream",
     "text": [
      "<class 'pandas.core.series.Series'>\n",
      "RangeIndex: 2700000 entries, 0 to 2699999\n",
      "Series name: time\n",
      "Non-Null Count    Dtype\n",
      "--------------    -----\n",
      "2700000 non-null  int64\n",
      "dtypes: int64(1)\n",
      "memory usage: 20.6 MB\n"
     ]
    }
   ],
   "source": [
    "df_reviewsGoogle_CA['time'].info()"
   ]
  },
  {
   "cell_type": "markdown",
   "metadata": {},
   "source": [
    "#### rating"
   ]
  },
  {
   "cell_type": "markdown",
   "metadata": {},
   "source": [
    "Enteros del 1 al 5.\n",
    "Sin nulos."
   ]
  },
  {
   "cell_type": "code",
   "execution_count": 75,
   "metadata": {},
   "outputs": [
    {
     "data": {
      "text/plain": [
       "array([5, 4, 1, 2, 3], dtype=int64)"
      ]
     },
     "execution_count": 75,
     "metadata": {},
     "output_type": "execute_result"
    }
   ],
   "source": [
    "df_reviewsGoogle_CA['rating'].unique()"
   ]
  },
  {
   "cell_type": "code",
   "execution_count": 76,
   "metadata": {},
   "outputs": [
    {
     "data": {
      "text/plain": [
       "0"
      ]
     },
     "execution_count": 76,
     "metadata": {},
     "output_type": "execute_result"
    }
   ],
   "source": [
    "df_reviewsGoogle_CA['rating'].isna().sum()"
   ]
  },
  {
   "cell_type": "code",
   "execution_count": 77,
   "metadata": {},
   "outputs": [
    {
     "name": "stdout",
     "output_type": "stream",
     "text": [
      "<class 'pandas.core.series.Series'>\n",
      "RangeIndex: 2700000 entries, 0 to 2699999\n",
      "Series name: rating\n",
      "Non-Null Count    Dtype\n",
      "--------------    -----\n",
      "2700000 non-null  int64\n",
      "dtypes: int64(1)\n",
      "memory usage: 20.6 MB\n"
     ]
    }
   ],
   "source": [
    "df_reviewsGoogle_CA['rating'].info()"
   ]
  },
  {
   "cell_type": "markdown",
   "metadata": {},
   "source": [
    "#### text"
   ]
  },
  {
   "cell_type": "markdown",
   "metadata": {},
   "source": [
    "1170964 nulos (previo a eliminar los datos duplicados)"
   ]
  },
  {
   "cell_type": "code",
   "execution_count": 78,
   "metadata": {},
   "outputs": [
    {
     "data": {
      "text/html": [
       "<div>\n",
       "<style scoped>\n",
       "    .dataframe tbody tr th:only-of-type {\n",
       "        vertical-align: middle;\n",
       "    }\n",
       "\n",
       "    .dataframe tbody tr th {\n",
       "        vertical-align: top;\n",
       "    }\n",
       "\n",
       "    .dataframe thead th {\n",
       "        text-align: right;\n",
       "    }\n",
       "</style>\n",
       "<table border=\"1\" class=\"dataframe\">\n",
       "  <thead>\n",
       "    <tr style=\"text-align: right;\">\n",
       "      <th></th>\n",
       "      <th>user_id</th>\n",
       "      <th>name</th>\n",
       "      <th>time</th>\n",
       "      <th>rating</th>\n",
       "      <th>text</th>\n",
       "      <th>pics</th>\n",
       "      <th>resp</th>\n",
       "      <th>gmap_id</th>\n",
       "    </tr>\n",
       "  </thead>\n",
       "  <tbody>\n",
       "  </tbody>\n",
       "</table>\n",
       "</div>"
      ],
      "text/plain": [
       "Empty DataFrame\n",
       "Columns: [user_id, name, time, rating, text, pics, resp, gmap_id]\n",
       "Index: []"
      ]
     },
     "execution_count": 78,
     "metadata": {},
     "output_type": "execute_result"
    }
   ],
   "source": [
    "df_reviewsGoogle_CA[df_reviewsGoogle_CA['text']==' ']"
   ]
  },
  {
   "cell_type": "code",
   "execution_count": 79,
   "metadata": {},
   "outputs": [],
   "source": [
    "cual = df_reviewsGoogle_CA['text'].fillna('').apply(len)"
   ]
  },
  {
   "cell_type": "code",
   "execution_count": 80,
   "metadata": {},
   "outputs": [
    {
     "data": {
      "text/plain": [
       "739381     8360\n",
       "1123967    6558\n",
       "379508     5706\n",
       "982612     5357\n",
       "457539     4901\n",
       "2440085    4847\n",
       "83241      4558\n",
       "869971     4513\n",
       "1899203    4501\n",
       "310166     4441\n",
       "2176644    4423\n",
       "187057     4362\n",
       "1171707    4357\n",
       "1780872    4353\n",
       "1780879    4353\n",
       "271700     4328\n",
       "85666      4299\n",
       "2622263    4298\n",
       "2094237    4289\n",
       "2119331    4266\n",
       "Name: text, dtype: int64"
      ]
     },
     "execution_count": 80,
     "metadata": {},
     "output_type": "execute_result"
    }
   ],
   "source": [
    "cual.sort_values(ascending= False).head(20)"
   ]
  },
  {
   "cell_type": "code",
   "execution_count": 81,
   "metadata": {},
   "outputs": [],
   "source": [
    "cual=cual[cual != 0]"
   ]
  },
  {
   "cell_type": "code",
   "execution_count": 82,
   "metadata": {},
   "outputs": [
    {
     "data": {
      "text/plain": [
       "count    1.529036e+06\n",
       "mean     1.324193e+02\n",
       "std      2.007083e+02\n",
       "min      1.000000e+00\n",
       "25%      3.200000e+01\n",
       "50%      7.000000e+01\n",
       "75%      1.540000e+02\n",
       "max      8.360000e+03\n",
       "Name: text, dtype: float64"
      ]
     },
     "execution_count": 82,
     "metadata": {},
     "output_type": "execute_result"
    }
   ],
   "source": [
    "cual.describe()"
   ]
  },
  {
   "cell_type": "code",
   "execution_count": 83,
   "metadata": {},
   "outputs": [
    {
     "data": {
      "text/plain": [
       "1170964"
      ]
     },
     "execution_count": 83,
     "metadata": {},
     "output_type": "execute_result"
    }
   ],
   "source": [
    "df_reviewsGoogle_CA['text'].isna().sum()"
   ]
  },
  {
   "cell_type": "code",
   "execution_count": 84,
   "metadata": {},
   "outputs": [
    {
     "name": "stdout",
     "output_type": "stream",
     "text": [
      "<class 'pandas.core.series.Series'>\n",
      "RangeIndex: 2700000 entries, 0 to 2699999\n",
      "Series name: text\n",
      "Non-Null Count    Dtype \n",
      "--------------    ----- \n",
      "1529036 non-null  object\n",
      "dtypes: object(1)\n",
      "memory usage: 20.6+ MB\n"
     ]
    }
   ],
   "source": [
    "df_reviewsGoogle_CA['text'].info()"
   ]
  },
  {
   "cell_type": "markdown",
   "metadata": {},
   "source": [
    "#### pics"
   ]
  },
  {
   "cell_type": "code",
   "execution_count": 85,
   "metadata": {},
   "outputs": [
    {
     "data": {
      "text/plain": [
       "24         [{'url': ['https://lh5.googleusercontent.com/p...\n",
       "126        [{'url': ['https://lh5.googleusercontent.com/p...\n",
       "128        [{'url': ['https://lh5.googleusercontent.com/p...\n",
       "129        [{'url': ['https://lh5.googleusercontent.com/p...\n",
       "130        [{'url': ['https://lh5.googleusercontent.com/p...\n",
       "                                 ...                        \n",
       "2699573    [{'url': ['https://lh5.googleusercontent.com/p...\n",
       "2699656    [{'url': ['https://lh5.googleusercontent.com/p...\n",
       "2699919    [{'url': ['https://lh5.googleusercontent.com/p...\n",
       "2699939    [{'url': ['https://lh5.googleusercontent.com/p...\n",
       "2699960    [{'url': ['https://lh5.googleusercontent.com/p...\n",
       "Name: pics, Length: 99290, dtype: object"
      ]
     },
     "execution_count": 85,
     "metadata": {},
     "output_type": "execute_result"
    }
   ],
   "source": [
    "df_reviewsGoogle_CA['pics'][df_reviewsGoogle_CA['pics'].isna() == False]"
   ]
  },
  {
   "cell_type": "code",
   "execution_count": 86,
   "metadata": {},
   "outputs": [
    {
     "data": {
      "text/plain": [
       "array([{'url': array(['https://lh5.googleusercontent.com/p/AF1QipNBpj0NUQ3GblfewsZxQX_OrXs9QlW8R2yHB2eP=w150-h150-k-no-p'],\n",
       "             dtype=object)}                                                                                                ],\n",
       "      dtype=object)"
      ]
     },
     "execution_count": 86,
     "metadata": {},
     "output_type": "execute_result"
    }
   ],
   "source": [
    "df_reviewsGoogle_CA['pics'][24]"
   ]
  },
  {
   "cell_type": "code",
   "execution_count": 87,
   "metadata": {},
   "outputs": [
    {
     "data": {
      "text/plain": [
       "2600710"
      ]
     },
     "execution_count": 87,
     "metadata": {},
     "output_type": "execute_result"
    }
   ],
   "source": [
    "df_reviewsGoogle_CA['pics'].isna().sum()"
   ]
  },
  {
   "cell_type": "code",
   "execution_count": 88,
   "metadata": {},
   "outputs": [],
   "source": [
    "cual2 = df_reviewsGoogle_CA['pics'].fillna('').apply(lambda x: len(str(x)))"
   ]
  },
  {
   "cell_type": "code",
   "execution_count": 89,
   "metadata": {},
   "outputs": [
    {
     "data": {
      "text/plain": [
       "array([7096, 7045, 6956, 6816, 6676, 6536, 6396, 6350, 6256, 6116, 5976,\n",
       "       5933, 5836, 5696, 5556, 5416, 5276, 5136, 4996, 4856, 4716, 4576,\n",
       "       4436, 4404, 4296, 4156, 4016, 3876, 3848, 3736, 3709, 3596, 3456,\n",
       "       3431, 3316, 3176, 3153, 3036, 3014, 2896, 2875, 2756, 2736, 2616,\n",
       "       2597, 2476, 2458, 2336, 2319, 2196, 2180, 2056, 2041, 1916, 1902,\n",
       "       1776, 1763, 1636, 1624, 1496, 1485, 1356, 1346, 1336, 1216, 1207,\n",
       "       1076, 1068, 1060,  936,  929,  922,  908,  796,  790,  784,  656,\n",
       "        651,  516,  512,  508,  500,  376,  373,  370,  236,  234,  232,\n",
       "          0], dtype=int64)"
      ]
     },
     "execution_count": 89,
     "metadata": {},
     "output_type": "execute_result"
    }
   ],
   "source": [
    "cual2.sort_values(ascending=False).unique()"
   ]
  },
  {
   "cell_type": "code",
   "execution_count": 90,
   "metadata": {},
   "outputs": [
    {
     "data": {
      "text/plain": [
       "count    99290.000000\n",
       "mean       518.283312\n",
       "std        624.701521\n",
       "min        232.000000\n",
       "25%        236.000000\n",
       "50%        376.000000\n",
       "75%        516.000000\n",
       "max       7096.000000\n",
       "Name: pics, dtype: float64"
      ]
     },
     "execution_count": 90,
     "metadata": {},
     "output_type": "execute_result"
    }
   ],
   "source": [
    "cual2[cual2 != 0].describe()"
   ]
  },
  {
   "cell_type": "markdown",
   "metadata": {},
   "source": [
    "#### resp"
   ]
  },
  {
   "cell_type": "code",
   "execution_count": 97,
   "metadata": {},
   "outputs": [
    {
     "data": {
      "text/plain": [
       "{'text': 'Thanks so much for your business and for taking the time to post a great review. Glad to hear our crew was so helpful and friendly and that we were able to get the family outfitted quickly and efficiently. Look forward to hearing from you in the future.',\n",
       " 'time': 1631072651706.0}"
      ]
     },
     "execution_count": 97,
     "metadata": {},
     "output_type": "execute_result"
    }
   ],
   "source": [
    "df_reviewsGoogle_CA['resp'][df_reviewsGoogle_CA['resp'].isna() == False][30]"
   ]
  },
  {
   "cell_type": "code",
   "execution_count": 98,
   "metadata": {},
   "outputs": [
    {
     "data": {
      "text/plain": [
       "2454831"
      ]
     },
     "execution_count": 98,
     "metadata": {},
     "output_type": "execute_result"
    }
   ],
   "source": [
    "df_reviewsGoogle_CA['resp'].isna().sum()"
   ]
  },
  {
   "cell_type": "code",
   "execution_count": 99,
   "metadata": {},
   "outputs": [],
   "source": [
    "cual2 = df_reviewsGoogle_CA['resp'].fillna('').apply(lambda x: len(str(x)))"
   ]
  },
  {
   "cell_type": "code",
   "execution_count": 100,
   "metadata": {},
   "outputs": [
    {
     "data": {
      "text/plain": [
       "132531     4043\n",
       "90668      4042\n",
       "237605     4019\n",
       "692469     4003\n",
       "1358752    3925\n",
       "1033090    3875\n",
       "259455     3821\n",
       "1150136    3800\n",
       "330673     3796\n",
       "506628     3777\n",
       "1083758    3770\n",
       "657500     3767\n",
       "532441     3726\n",
       "1670422    3708\n",
       "247223     3702\n",
       "334364     3641\n",
       "835899     3581\n",
       "880217     3433\n",
       "1537546    3423\n",
       "291859     3322\n",
       "Name: resp, dtype: int64"
      ]
     },
     "execution_count": 100,
     "metadata": {},
     "output_type": "execute_result"
    }
   ],
   "source": [
    "cual2.sort_values(ascending=False).head(20)"
   ]
  },
  {
   "cell_type": "code",
   "execution_count": 101,
   "metadata": {},
   "outputs": [
    {
     "data": {
      "text/plain": [
       "count    245169.000000\n",
       "mean        176.725773\n",
       "std         147.989795\n",
       "min          38.000000\n",
       "25%          85.000000\n",
       "50%         138.000000\n",
       "75%         225.000000\n",
       "max        4043.000000\n",
       "Name: resp, dtype: float64"
      ]
     },
     "execution_count": 101,
     "metadata": {},
     "output_type": "execute_result"
    }
   ],
   "source": [
    "cual2[cual2 != 0].describe()"
   ]
  },
  {
   "cell_type": "markdown",
   "metadata": {},
   "source": [
    "#### gmap_id"
   ]
  },
  {
   "cell_type": "code",
   "execution_count": 103,
   "metadata": {},
   "outputs": [
    {
     "data": {
      "text/plain": [
       "0"
      ]
     },
     "execution_count": 103,
     "metadata": {},
     "output_type": "execute_result"
    }
   ],
   "source": [
    "df_reviewsGoogle_CA['gmap_id'].isna().sum()"
   ]
  },
  {
   "cell_type": "code",
   "execution_count": 104,
   "metadata": {},
   "outputs": [],
   "source": [
    "cual2 = df_reviewsGoogle_CA['gmap_id'].apply(len)"
   ]
  },
  {
   "cell_type": "code",
   "execution_count": 105,
   "metadata": {},
   "outputs": [
    {
     "data": {
      "text/plain": [
       "array([37, 36, 35, 34, 22, 33], dtype=int64)"
      ]
     },
     "execution_count": 105,
     "metadata": {},
     "output_type": "execute_result"
    }
   ],
   "source": [
    "cual2.unique()"
   ]
  },
  {
   "cell_type": "code",
   "execution_count": 106,
   "metadata": {},
   "outputs": [],
   "source": [
    "del cual\n",
    "del cual2\n",
    "del i"
   ]
  },
  {
   "cell_type": "markdown",
   "metadata": {},
   "source": [
    "# Metadatos - Google"
   ]
  },
  {
   "cell_type": "code",
   "execution_count": 40,
   "metadata": {},
   "outputs": [
    {
     "name": "stdout",
     "output_type": "stream",
     "text": [
      "<class 'pandas.core.frame.DataFrame'>\n",
      "RangeIndex: 297293 entries, 0 to 297292\n",
      "Data columns (total 16 columns):\n",
      " #   Column            Non-Null Count   Dtype  \n",
      "---  ------            --------------   -----  \n",
      " 0   name              297293 non-null  object \n",
      " 1   address           297293 non-null  object \n",
      " 2   gmap_id           297293 non-null  object \n",
      " 3   description       31902 non-null   object \n",
      " 4   latitude          297293 non-null  float64\n",
      " 5   longitude         297293 non-null  float64\n",
      " 6   category          295387 non-null  object \n",
      " 7   avg_rating        297293 non-null  float64\n",
      " 8   num_of_reviews    297293 non-null  int64  \n",
      " 9   price             31580 non-null   object \n",
      " 10  hours             230103 non-null  object \n",
      " 11  MISC              244162 non-null  object \n",
      " 12  state             233398 non-null  object \n",
      " 13  relative_results  273256 non-null  object \n",
      " 14  url               297293 non-null  object \n",
      " 15  estado            297293 non-null  object \n",
      "dtypes: float64(3), int64(1), object(12)\n",
      "memory usage: 36.3+ MB\n"
     ]
    }
   ],
   "source": [
    "df_metadatos_CA.info()"
   ]
  },
  {
   "cell_type": "markdown",
   "metadata": {},
   "source": [
    "#### name"
   ]
  },
  {
   "cell_type": "code",
   "execution_count": 41,
   "metadata": {},
   "outputs": [
    {
     "data": {
      "text/plain": [
       "0"
      ]
     },
     "execution_count": 41,
     "metadata": {},
     "output_type": "execute_result"
    }
   ],
   "source": [
    "(df_metadatos_CA['name']==' ').sum()"
   ]
  },
  {
   "cell_type": "code",
   "execution_count": 42,
   "metadata": {},
   "outputs": [
    {
     "data": {
      "text/plain": [
       "66683     246\n",
       "144499    245\n",
       "154437    240\n",
       "61097     230\n",
       "117616    215\n",
       "62992     215\n",
       "88562     212\n",
       "147578    212\n",
       "226146    210\n",
       "126532    209\n",
       "242518    209\n",
       "93873     208\n",
       "118446    204\n",
       "63941     201\n",
       "238318    177\n",
       "Name: name, dtype: int64"
      ]
     },
     "execution_count": 42,
     "metadata": {},
     "output_type": "execute_result"
    }
   ],
   "source": [
    "df_metadatos_CA['name'].apply(len).sort_values(ascending=False).head(15)"
   ]
  },
  {
   "cell_type": "markdown",
   "metadata": {},
   "source": [
    "#### address"
   ]
  },
  {
   "cell_type": "code",
   "execution_count": 43,
   "metadata": {},
   "outputs": [
    {
     "name": "stdout",
     "output_type": "stream",
     "text": [
      "0\n",
      "Weed, CA 96094\n"
     ]
    }
   ],
   "source": [
    "print((df_metadatos_CA['address']==' ').sum())\n",
    "df_metadatos_CA['address'].apply(len).sort_values(ascending=False).head(5)\n",
    "print(df_metadatos_CA['address'][df_metadatos_CA['address'].apply(len).idxmin()])"
   ]
  },
  {
   "cell_type": "code",
   "execution_count": 44,
   "metadata": {},
   "outputs": [
    {
     "name": "stdout",
     "output_type": "stream",
     "text": [
      "Weed, CA 96094\n"
     ]
    }
   ],
   "source": [
    "print(df_metadatos_CA['address'][df_metadatos_CA['address'].apply(len).idxmin()])"
   ]
  },
  {
   "cell_type": "code",
   "execution_count": 45,
   "metadata": {},
   "outputs": [
    {
     "data": {
      "text/plain": [
       "'Cheviot Hills AC Repair & Installation, 1833 S La Cienega Blvd, Los Angeles, CA 90035'"
      ]
     },
     "execution_count": 45,
     "metadata": {},
     "output_type": "execute_result"
    }
   ],
   "source": [
    "df_metadatos_CA['address'][294423]"
   ]
  },
  {
   "cell_type": "code",
   "execution_count": 48,
   "metadata": {},
   "outputs": [],
   "source": [
    "comas = df_metadatos_CA['address'].apply(lambda x: str(x).count(','))"
   ]
  },
  {
   "cell_type": "code",
   "execution_count": 51,
   "metadata": {},
   "outputs": [
    {
     "data": {
      "text/plain": [
       "'Imperial Jewelry & Loan Pawn Shop Norwalk CA (Loan, Sell & Buy Gold, Silver, Diamonds, Coins, Bullion, Jewelry, Watches, Guns, Hand Bags, Guitars & Musical Instruments, Electronics, Sports Equipment, Power Tools), 11405 Firestone Blvd E, Norwalk, CA 90650'"
      ]
     },
     "execution_count": 51,
     "metadata": {},
     "output_type": "execute_result"
    }
   ],
   "source": [
    "df_metadatos_CA['address'][comas.idxmax()]"
   ]
  },
  {
   "cell_type": "code",
   "execution_count": 52,
   "metadata": {},
   "outputs": [
    {
     "name": "stdout",
     "output_type": "stream",
     "text": [
      "0: 0\n",
      "1: 70\n",
      "2: 8565\n",
      "3: 268220\n",
      "4: 18591\n",
      "5: 1470\n",
      "6: 256\n",
      "7: 66\n",
      "8: 24\n",
      "9: 15\n",
      "10: 3\n",
      "11: 5\n",
      "12: 3\n",
      "13: 1\n",
      "14: 1\n",
      "15: 2\n",
      "16: 1\n",
      "17: 0\n",
      "18: 0\n",
      "19: 0\n"
     ]
    }
   ],
   "source": [
    "for i in range(20):\n",
    "    print(str(i)+': '+str((comas == i).sum()))"
   ]
  },
  {
   "cell_type": "code",
   "execution_count": 107,
   "metadata": {},
   "outputs": [],
   "source": [
    "del comas"
   ]
  },
  {
   "cell_type": "markdown",
   "metadata": {},
   "source": [
    "#### gmap_id"
   ]
  },
  {
   "cell_type": "code",
   "execution_count": null,
   "metadata": {},
   "outputs": [
    {
     "name": "stdout",
     "output_type": "stream",
     "text": [
      "0\n",
      "0x0:0x13154eabf70b4b93\n",
      "0x80c2c98c0e3c16fd:0x29ec8a728764fdf9\n",
      "0         37\n",
      "193271    37\n",
      "193278    37\n",
      "193277    37\n",
      "193276    37\n",
      "Name: gmap_id, dtype: int64\n",
      "176870    34\n",
      "3738      34\n",
      "137970    33\n",
      "130938    22\n",
      "171772    22\n",
      "Name: gmap_id, dtype: int64\n"
     ]
    }
   ],
   "source": [
    "print((df_metadatos_CA['gmap_id']==' ').sum())\n",
    "print(df_metadatos_CA['gmap_id'][df_metadatos_CA['gmap_id'].apply(len).idxmin()])\n",
    "print(df_metadatos_CA['gmap_id'][df_metadatos_CA['gmap_id'].apply(len).idxmax()])\n",
    "print(df_metadatos_CA['gmap_id'].apply(len).sort_values(ascending=False).head(5))\n",
    "print(df_metadatos_CA['gmap_id'].apply(len).sort_values(ascending=False).tail(5))"
   ]
  },
  {
   "cell_type": "markdown",
   "metadata": {},
   "source": [
    "#### description"
   ]
  },
  {
   "cell_type": "code",
   "execution_count": null,
   "metadata": {},
   "outputs": [
    {
     "name": "stdout",
     "output_type": "stream",
     "text": [
      "0\n",
      "Factory showroom selling\n",
      "Old-school, colorful outpost serving homestyle Mexican dishes at the counter in a compact, no-frills interior.\n",
      "225819    110\n",
      "228380    110\n",
      "213016    110\n",
      "265524    109\n",
      "71814     109\n",
      "Name: description, dtype: int64\n",
      "218734    50\n",
      "153301    48\n",
      "151928    43\n",
      "195624    35\n",
      "115459    24\n",
      "Name: description, dtype: int64\n"
     ]
    }
   ],
   "source": [
    "print((df_metadatos_CA['description']==' ').sum())\n",
    "print(df_metadatos_CA['description'][df_metadatos_CA['description'].dropna().apply(len).idxmin()])\n",
    "print(df_metadatos_CA['description'][df_metadatos_CA['description'].dropna().apply(len).idxmax()])\n",
    "print(df_metadatos_CA['description'].dropna().apply(len).sort_values(ascending=False).head(5))\n",
    "print(df_metadatos_CA['description'].dropna().apply(len).sort_values(ascending=False).tail(5))"
   ]
  },
  {
   "cell_type": "code",
   "execution_count": null,
   "metadata": {},
   "outputs": [
    {
     "data": {
      "text/plain": [
       "array([ 76,  98,  89,  95,  99,  80,  92,  86,  82,  85,  84,  91,  97,\n",
       "       100,  68,  96,  90,  93,  60,  88,  94,  83,  70,  77,  87,  67,\n",
       "        81,  61,  72,  79,  57,  75,  78,  69,  62,  74,  73,  66, 101,\n",
       "        56, 103,  63,  65, 109,  50,  59,  71, 108,  24,  43,  48,  53,\n",
       "        35,  64,  55, 110, 107, 105], dtype=int64)"
      ]
     },
     "execution_count": 31,
     "metadata": {},
     "output_type": "execute_result"
    }
   ],
   "source": [
    "df_metadatos_CA['description'].dropna().apply(len).unique()"
   ]
  },
  {
   "cell_type": "markdown",
   "metadata": {},
   "source": [
    "#### latitude"
   ]
  },
  {
   "cell_type": "code",
   "execution_count": null,
   "metadata": {},
   "outputs": [
    {
     "name": "stdout",
     "output_type": "stream",
     "text": [
      "<class 'pandas.core.series.Series'>\n",
      "RangeIndex: 294593 entries, 0 to 294592\n",
      "Series name: latitude\n",
      "Non-Null Count   Dtype  \n",
      "--------------   -----  \n",
      "294593 non-null  float64\n",
      "dtypes: float64(1)\n",
      "memory usage: 2.2 MB\n"
     ]
    }
   ],
   "source": [
    "df_metadatos_CA['latitude'].info()"
   ]
  },
  {
   "cell_type": "code",
   "execution_count": null,
   "metadata": {},
   "outputs": [
    {
     "data": {
      "text/plain": [
       "0         34.018891\n",
       "1         34.058092\n",
       "2         34.023669\n",
       "3         34.036694\n",
       "4         34.015505\n",
       "            ...    \n",
       "294588    33.611202\n",
       "294589    33.713194\n",
       "294590    33.163214\n",
       "294591    33.644645\n",
       "294592    33.643829\n",
       "Name: latitude, Length: 294593, dtype: float64"
      ]
     },
     "execution_count": 46,
     "metadata": {},
     "output_type": "execute_result"
    }
   ],
   "source": [
    "df_metadatos_CA['latitude']"
   ]
  },
  {
   "cell_type": "markdown",
   "metadata": {},
   "source": [
    "#### longitude"
   ]
  },
  {
   "cell_type": "code",
   "execution_count": null,
   "metadata": {},
   "outputs": [
    {
     "data": {
      "text/plain": [
       "0        -118.215290\n",
       "1        -118.292130\n",
       "2        -118.232930\n",
       "3        -118.249421\n",
       "4        -118.181839\n",
       "             ...    \n",
       "294588   -117.864362\n",
       "294589   -117.932468\n",
       "294590   -117.345829\n",
       "294591   -117.919316\n",
       "294592   -117.928050\n",
       "Name: longitude, Length: 294593, dtype: float64"
      ]
     },
     "execution_count": 47,
     "metadata": {},
     "output_type": "execute_result"
    }
   ],
   "source": [
    "df_metadatos_CA['longitude']"
   ]
  },
  {
   "cell_type": "markdown",
   "metadata": {},
   "source": [
    "#### category"
   ]
  },
  {
   "cell_type": "code",
   "execution_count": null,
   "metadata": {},
   "outputs": [
    {
     "name": "stdout",
     "output_type": "stream",
     "text": [
      "0\n",
      "['Textile exporter']\n",
      "<class 'list'>\n",
      "['Non-profit organization', 'After school program', 'Child care agency', 'Computer training school', 'Convention center', 'Economic development agency', 'Family service center', 'Food bank', 'HIV testing center', 'Recreation center', 'Senior citizen center', 'STD testing service', 'Volunteer organization', 'Youth center']\n",
      "101797    14\n",
      "210979    13\n",
      "222674    13\n",
      "164787    12\n",
      "223596    12\n",
      "Name: category, dtype: int64\n",
      "119851    1\n",
      "119852    1\n",
      "119856    1\n",
      "119858    1\n",
      "294592    1\n",
      "Name: category, dtype: int64\n"
     ]
    }
   ],
   "source": [
    "print((df_metadatos_CA['category']==' ').sum())\n",
    "print(df_metadatos_CA['category'][df_metadatos_CA['category'].dropna().apply(len).idxmin()])\n",
    "print(type(df_metadatos_CA['category'][df_metadatos_CA['category'].dropna().apply(len).idxmax()]))\n",
    "print(df_metadatos_CA['category'][df_metadatos_CA['category'].dropna().apply(len).idxmax()])\n",
    "print(df_metadatos_CA['category'].dropna().apply(len).sort_values(ascending=False).head(5))\n",
    "print(df_metadatos_CA['category'].dropna().apply(len).sort_values(ascending=False).tail(5))"
   ]
  },
  {
   "cell_type": "code",
   "execution_count": null,
   "metadata": {},
   "outputs": [
    {
     "name": "stdout",
     "output_type": "stream",
     "text": [
      "<class 'list'>\n"
     ]
    }
   ],
   "source": [
    "print(type(df_metadatos_CA['category'][df_metadatos_CA['category'].dropna().apply(len).idxmax()]))"
   ]
  },
  {
   "cell_type": "code",
   "execution_count": null,
   "metadata": {},
   "outputs": [
    {
     "name": "stdout",
     "output_type": "stream",
     "text": [
      "248837    272\n",
      "81090     267\n",
      "77440     267\n",
      "101797    267\n",
      "33366     263\n",
      "Name: category, dtype: int64\n"
     ]
    }
   ],
   "source": [
    "print(df_metadatos_CA['category'].dropna().apply(lambda lst: sum(len(str(item)) for item in lst)).sort_values(ascending=False).head(5))"
   ]
  },
  {
   "cell_type": "code",
   "execution_count": null,
   "metadata": {},
   "outputs": [
    {
     "data": {
      "text/plain": [
       "248837"
      ]
     },
     "execution_count": 77,
     "metadata": {},
     "output_type": "execute_result"
    }
   ],
   "source": [
    "df_metadatos_CA['category'].dropna().apply(lambda lst: sum(len(str(item)) for item in lst)).idxmax()"
   ]
  },
  {
   "cell_type": "code",
   "execution_count": null,
   "metadata": {},
   "outputs": [
    {
     "data": {
      "text/plain": [
       "['Musical instrument store',\n",
       " 'Audio visual consultant',\n",
       " 'Audio visual equipment rental service',\n",
       " 'Audio visual equipment repair service',\n",
       " 'Audio visual equipment supplier',\n",
       " 'Music instructor',\n",
       " 'Music school',\n",
       " 'Musical instrument rental service',\n",
       " 'Musical instrument repair shop',\n",
       " 'Used musical instrument store']"
      ]
     },
     "execution_count": 78,
     "metadata": {},
     "output_type": "execute_result"
    }
   ],
   "source": [
    "df_metadatos_CA['category'][248837]"
   ]
  },
  {
   "cell_type": "code",
   "execution_count": null,
   "metadata": {},
   "outputs": [],
   "source": [
    "# Eliminar valores nulos y aplanar las listas en una sola lista de categorías\n",
    "all_categories = df_metadatos_CA['category'].dropna().explode()\n",
    "\n",
    "# Contar la frecuencia de cada categoría\n",
    "category_counts = Counter(all_categories)\n",
    "\n",
    "# Convertir el resultado a un DataFrame para una visualización más clara\n",
    "category_counts_df = pd.DataFrame(category_counts.items(), columns=['Category', 'Count'])"
   ]
  },
  {
   "cell_type": "code",
   "execution_count": null,
   "metadata": {},
   "outputs": [],
   "source": [
    "del all_categories\n",
    "del category_counts"
   ]
  },
  {
   "cell_type": "code",
   "execution_count": null,
   "metadata": {},
   "outputs": [
    {
     "data": {
      "text/html": [
       "<div>\n",
       "<style scoped>\n",
       "    .dataframe tbody tr th:only-of-type {\n",
       "        vertical-align: middle;\n",
       "    }\n",
       "\n",
       "    .dataframe tbody tr th {\n",
       "        vertical-align: top;\n",
       "    }\n",
       "\n",
       "    .dataframe thead th {\n",
       "        text-align: right;\n",
       "    }\n",
       "</style>\n",
       "<table border=\"1\" class=\"dataframe\">\n",
       "  <thead>\n",
       "    <tr style=\"text-align: right;\">\n",
       "      <th></th>\n",
       "      <th>Category</th>\n",
       "      <th>Count</th>\n",
       "    </tr>\n",
       "  </thead>\n",
       "  <tbody>\n",
       "    <tr>\n",
       "      <th>0</th>\n",
       "      <td>Textile exporter</td>\n",
       "      <td>2</td>\n",
       "    </tr>\n",
       "    <tr>\n",
       "      <th>1</th>\n",
       "      <td>Korean restaurant</td>\n",
       "      <td>319</td>\n",
       "    </tr>\n",
       "    <tr>\n",
       "      <th>2</th>\n",
       "      <td>Fabric store</td>\n",
       "      <td>276</td>\n",
       "    </tr>\n",
       "    <tr>\n",
       "      <th>3</th>\n",
       "      <td>Restaurant</td>\n",
       "      <td>11505</td>\n",
       "    </tr>\n",
       "    <tr>\n",
       "      <th>4</th>\n",
       "      <td>Ski rental service</td>\n",
       "      <td>53</td>\n",
       "    </tr>\n",
       "    <tr>\n",
       "      <th>...</th>\n",
       "      <td>...</td>\n",
       "      <td>...</td>\n",
       "    </tr>\n",
       "    <tr>\n",
       "      <th>3849</th>\n",
       "      <td>Takoyaki restaurant</td>\n",
       "      <td>1</td>\n",
       "    </tr>\n",
       "    <tr>\n",
       "      <th>3850</th>\n",
       "      <td>Co-ed school</td>\n",
       "      <td>1</td>\n",
       "    </tr>\n",
       "    <tr>\n",
       "      <th>3851</th>\n",
       "      <td>Match box manufacturer</td>\n",
       "      <td>1</td>\n",
       "    </tr>\n",
       "    <tr>\n",
       "      <th>3852</th>\n",
       "      <td>Japanese cheap sweets shop</td>\n",
       "      <td>2</td>\n",
       "    </tr>\n",
       "    <tr>\n",
       "      <th>3853</th>\n",
       "      <td>Residential area</td>\n",
       "      <td>1</td>\n",
       "    </tr>\n",
       "  </tbody>\n",
       "</table>\n",
       "<p>3854 rows × 2 columns</p>\n",
       "</div>"
      ],
      "text/plain": [
       "                        Category  Count\n",
       "0               Textile exporter      2\n",
       "1              Korean restaurant    319\n",
       "2                   Fabric store    276\n",
       "3                     Restaurant  11505\n",
       "4             Ski rental service     53\n",
       "...                          ...    ...\n",
       "3849         Takoyaki restaurant      1\n",
       "3850                Co-ed school      1\n",
       "3851      Match box manufacturer      1\n",
       "3852  Japanese cheap sweets shop      2\n",
       "3853            Residential area      1\n",
       "\n",
       "[3854 rows x 2 columns]"
      ]
     },
     "execution_count": 96,
     "metadata": {},
     "output_type": "execute_result"
    }
   ],
   "source": [
    "category_counts_df"
   ]
  },
  {
   "cell_type": "code",
   "execution_count": null,
   "metadata": {},
   "outputs": [],
   "source": [
    "category_counts_df.sort_values(by='Count', ascending=False, inplace=True)"
   ]
  },
  {
   "cell_type": "code",
   "execution_count": null,
   "metadata": {},
   "outputs": [
    {
     "data": {
      "text/plain": [
       "2855"
      ]
     },
     "execution_count": 106,
     "metadata": {},
     "output_type": "execute_result"
    }
   ],
   "source": [
    "len(category_counts_df[category_counts_df['Count']<100])"
   ]
  },
  {
   "cell_type": "markdown",
   "metadata": {},
   "source": [
    "#### avg_rating"
   ]
  },
  {
   "cell_type": "code",
   "execution_count": null,
   "metadata": {},
   "outputs": [
    {
     "data": {
      "text/plain": [
       "0         4.5\n",
       "1         4.4\n",
       "2         3.3\n",
       "3         4.3\n",
       "4         3.5\n",
       "         ... \n",
       "294588    3.8\n",
       "294589    3.7\n",
       "294590    2.1\n",
       "294591    3.0\n",
       "294592    2.6\n",
       "Name: avg_rating, Length: 294593, dtype: float64"
      ]
     },
     "execution_count": 52,
     "metadata": {},
     "output_type": "execute_result"
    }
   ],
   "source": [
    "df_metadatos_CA['avg_rating']"
   ]
  },
  {
   "cell_type": "markdown",
   "metadata": {},
   "source": [
    "#### num_of_reviews"
   ]
  },
  {
   "cell_type": "code",
   "execution_count": null,
   "metadata": {},
   "outputs": [
    {
     "name": "stdout",
     "output_type": "stream",
     "text": [
      "<class 'pandas.core.frame.DataFrame'>\n",
      "RangeIndex: 294593 entries, 0 to 294592\n",
      "Data columns (total 16 columns):\n",
      " #   Column            Non-Null Count   Dtype  \n",
      "---  ------            --------------   -----  \n",
      " 0   name              294593 non-null  object \n",
      " 1   address           294593 non-null  object \n",
      " 2   gmap_id           294593 non-null  object \n",
      " 3   description       31729 non-null   object \n",
      " 4   latitude          294593 non-null  float64\n",
      " 5   longitude         294593 non-null  float64\n",
      " 6   category          292712 non-null  object \n",
      " 7   avg_rating        294593 non-null  float64\n",
      " 8   num_of_reviews    294593 non-null  int64  \n",
      " 9   price             31438 non-null   object \n",
      " 10  hours             228087 non-null  object \n",
      " 11  MISC              242093 non-null  object \n",
      " 12  state             231355 non-null  object \n",
      " 13  relative_results  270853 non-null  object \n",
      " 14  url               294593 non-null  object \n",
      " 15  estado            294593 non-null  object \n",
      "dtypes: float64(3), int64(1), object(12)\n",
      "memory usage: 36.0+ MB\n"
     ]
    }
   ],
   "source": [
    "df_metadatos_CA.info()"
   ]
  },
  {
   "cell_type": "code",
   "execution_count": null,
   "metadata": {},
   "outputs": [
    {
     "data": {
      "text/plain": [
       "1"
      ]
     },
     "execution_count": 58,
     "metadata": {},
     "output_type": "execute_result"
    }
   ],
   "source": [
    "df_metadatos_CA['num_of_reviews'].unique().min()"
   ]
  },
  {
   "cell_type": "markdown",
   "metadata": {},
   "source": [
    "#### price"
   ]
  },
  {
   "cell_type": "code",
   "execution_count": null,
   "metadata": {},
   "outputs": [
    {
     "data": {
      "text/plain": [
       "array(['$', '$$', '$$$', '$$$$', '₩', '₩₩', '₩₩₩', '₩₩₩₩'], dtype=object)"
      ]
     },
     "execution_count": 62,
     "metadata": {},
     "output_type": "execute_result"
    }
   ],
   "source": [
    "df_metadatos_CA['price'].dropna().unique()"
   ]
  },
  {
   "cell_type": "markdown",
   "metadata": {},
   "source": [
    "#### hours"
   ]
  },
  {
   "cell_type": "code",
   "execution_count": null,
   "metadata": {},
   "outputs": [
    {
     "data": {
      "text/plain": [
       "[['Monday', '8AM–6PM'],\n",
       " ['Tuesday', '8AM–6PM'],\n",
       " ['Wednesday', '8AM–6PM'],\n",
       " ['Thursday', '8AM–6PM'],\n",
       " ['Friday', '8AM–6PM'],\n",
       " ['Saturday', '8AM–6PM'],\n",
       " ['Sunday', '8AM–5PM']]"
      ]
     },
     "execution_count": 72,
     "metadata": {},
     "output_type": "execute_result"
    }
   ],
   "source": [
    "df_metadatos_CA['hours'][200803]"
   ]
  },
  {
   "cell_type": "code",
   "execution_count": null,
   "metadata": {},
   "outputs": [
    {
     "name": "stdout",
     "output_type": "stream",
     "text": [
      "0\n",
      "[['Thursday', '6:30AM–6PM'], ['Friday', '6:30AM–6PM'], ['Saturday', '6:30AM–6PM'], ['Sunday', '7AM–12PM'], ['Monday', 'Closed'], ['Tuesday', '6:30AM–6PM'], ['Wednesday', '6:30AM–6PM']]\n",
      "<class 'list'>\n",
      "[['Thursday', '6:30AM–6PM'], ['Friday', '6:30AM–6PM'], ['Saturday', '6:30AM–6PM'], ['Sunday', '7AM–12PM'], ['Monday', 'Closed'], ['Tuesday', '6:30AM–6PM'], ['Wednesday', '6:30AM–6PM']]\n",
      "1         7\n",
      "200820    7\n",
      "200803    7\n",
      "200804    7\n",
      "200806    7\n",
      "Name: hours, dtype: int64\n",
      "102875    7\n",
      "102876    7\n",
      "102878    7\n",
      "102879    7\n",
      "294592    7\n",
      "Name: hours, dtype: int64\n"
     ]
    }
   ],
   "source": [
    "print((df_metadatos_CA['hours']==' ').sum())\n",
    "print(df_metadatos_CA['hours'][df_metadatos_CA['hours'].dropna().apply(len).idxmin()])\n",
    "print(type(df_metadatos_CA['hours'][df_metadatos_CA['hours'].dropna().apply(len).idxmax()]))\n",
    "print(df_metadatos_CA['hours'][df_metadatos_CA['hours'].dropna().apply(len).idxmax()])\n",
    "print(df_metadatos_CA['hours'].dropna().apply(len).sort_values(ascending=False).head(5))\n",
    "print(df_metadatos_CA['hours'].dropna().apply(len).sort_values(ascending=False).tail(5))"
   ]
  },
  {
   "cell_type": "code",
   "execution_count": null,
   "metadata": {},
   "outputs": [
    {
     "name": "stdout",
     "output_type": "stream",
     "text": [
      "104826    211\n",
      "73985     211\n",
      "74030     211\n",
      "16492     211\n",
      "20595     211\n",
      "Name: hours, dtype: int64\n"
     ]
    }
   ],
   "source": [
    "print(df_metadatos_CA['hours'].dropna().apply(lambda lst: sum(len(str(item)) for item in lst)).sort_values(ascending=False).head(5))"
   ]
  },
  {
   "cell_type": "code",
   "execution_count": null,
   "metadata": {},
   "outputs": [],
   "source": [
    "df_metadatos_CA['hours'].dropna().apply(lambda lst: sum(len(str(item)) for item in lst)).id"
   ]
  },
  {
   "cell_type": "code",
   "execution_count": null,
   "metadata": {},
   "outputs": [
    {
     "data": {
      "text/plain": [
       "[['Saturday', '12:01AM–11:59PM'],\n",
       " ['Sunday', '12:01AM–11:59PM'],\n",
       " ['Monday', '12:01AM–11:59PM'],\n",
       " ['Tuesday', '12:01AM–11:59PM'],\n",
       " ['Wednesday', '12:01AM–11:59PM'],\n",
       " ['Thursday', '12:01AM–11:59PM'],\n",
       " ['Friday', '12:01AM–11:59PM']]"
      ]
     },
     "execution_count": 79,
     "metadata": {},
     "output_type": "execute_result"
    }
   ],
   "source": [
    "df_metadatos_CA['hours'][104826]"
   ]
  },
  {
   "cell_type": "markdown",
   "metadata": {},
   "source": [
    "#### MISC"
   ]
  },
  {
   "cell_type": "code",
   "execution_count": null,
   "metadata": {},
   "outputs": [
    {
     "name": "stdout",
     "output_type": "stream",
     "text": [
      "0\n",
      "{'Service options': ['In-store pickup']}\n",
      "<class 'dict'>\n",
      "{'From the business': ['Identifies as women-led'], 'Service options': ['Curbside pickup', 'No-contact delivery', 'Delivery', 'Takeout', 'Dine-in'], 'Health & safety': ['Mask required', 'Staff wear masks', 'Staff get temperature checks', 'Staff required to disinfect surfaces between visits'], 'Highlights': ['LGBTQ friendly', 'Transgender safespace'], 'Popular for': ['Lunch', 'Dinner', 'Solo dining'], 'Accessibility': ['Wheelchair accessible entrance', 'Wheelchair accessible parking lot', 'Wheelchair accessible restroom', 'Wheelchair accessible seating'], 'Offerings': ['Comfort food', 'Late-night food', 'Quick bite', 'Small plates', 'Vegetarian options'], 'Dining options': ['Breakfast', 'Lunch', 'Dinner', 'Catering', 'Dessert', 'Seating'], 'Amenities': ['Bar onsite', 'Good for kids', 'High chairs', 'Restroom', 'Wi-Fi'], 'Atmosphere': ['Casual'], 'Crowd': ['Family-friendly', 'Groups'], 'Planning': ['Accepts reservations'], 'Payments': ['Debit cards', 'NFC mobile payments', 'Credit cards']}\n",
      "271589    13\n",
      "191513    13\n",
      "209866    13\n",
      "265347    13\n",
      "38788     13\n",
      "Name: MISC, dtype: int64\n",
      "186133    1\n",
      "186132    1\n",
      "186131    1\n",
      "186130    1\n",
      "58457     1\n",
      "Name: MISC, dtype: int64\n"
     ]
    }
   ],
   "source": [
    "print((df_metadatos_CA['MISC']==' ').sum())\n",
    "print(df_metadatos_CA['MISC'][df_metadatos_CA['MISC'].dropna().apply(len).idxmin()])\n",
    "print(type(df_metadatos_CA['MISC'][df_metadatos_CA['MISC'].dropna().apply(len).idxmax()]))\n",
    "print(df_metadatos_CA['MISC'][df_metadatos_CA['MISC'].dropna().apply(len).idxmax()])\n",
    "print(df_metadatos_CA['MISC'].dropna().apply(len).sort_values(ascending=False).head(5))\n",
    "print(df_metadatos_CA['MISC'].dropna().apply(len).sort_values(ascending=False).tail(5))"
   ]
  },
  {
   "cell_type": "code",
   "execution_count": null,
   "metadata": {},
   "outputs": [
    {
     "data": {
      "text/plain": [
       "dict"
      ]
     },
     "execution_count": 82,
     "metadata": {},
     "output_type": "execute_result"
    }
   ],
   "source": [
    "type(df_metadatos_CA['MISC'][271589])"
   ]
  },
  {
   "cell_type": "code",
   "execution_count": null,
   "metadata": {},
   "outputs": [
    {
     "data": {
      "text/plain": [
       "202512"
      ]
     },
     "execution_count": 83,
     "metadata": {},
     "output_type": "execute_result"
    }
   ],
   "source": [
    "#ver el que tiene mas caracteres\n",
    "df_metadatos_CA['MISC'].dropna().apply(lambda d: sum(len(str(item)) for sublist in d.values() for item in sublist)).idxmax()"
   ]
  },
  {
   "cell_type": "code",
   "execution_count": null,
   "metadata": {},
   "outputs": [
    {
     "name": "stdout",
     "output_type": "stream",
     "text": [
      "{'Service options': ['Outdoor seating', 'Curbside pickup', 'No-contact delivery', 'Delivery', 'Takeaway', 'Dine-in'], 'Health and safety': ['Mask required', 'Staff wear masks', 'Staff get temperature checks', 'Staff required to disinfect surfaces between visits'], 'Highlights': ['Fireplace', 'Great beer selection', 'Great cocktails', 'Great coffee', 'Great dessert', 'Great wine list', 'LGBTQ-friendly', 'Transgender safe space'], 'Popular for': ['Lunch', 'Dinner'], 'Accessibility': ['Wheelchair-accessible car park', 'Wheelchair-accessible entrance', 'Wheelchair-accessible seating', 'Wheelchair-accessible toilet'], 'Offerings': ['Alcohol', 'Beer', 'Cocktails', 'Coffee', 'Comfort food', 'Happy-hour drinks', 'Happy-hour food', \"Kids' menu\", 'Late-night food', 'Organic dishes', 'Small plates', 'Spirits', 'Wine'], 'Dining options': ['Lunch', 'Dinner', 'Catering', 'Dessert', 'Seating'], 'Amenities': ['Bar on site', 'Good for kids', 'High chairs', 'Toilets', 'Wi-Fi'], 'Atmosphere': ['Cosy', 'Historic', 'Romantic', 'Upmarket'], 'Crowd': ['Family friendly', 'Groups', 'Tourists'], 'Planning': ['Lunch reservations recommended', 'Dinner reservations recommended', 'Accepts reservations', 'Usually a wait'], 'Payments': ['Debit cards', 'NFC mobile payments', 'Credit cards']}\n"
     ]
    }
   ],
   "source": [
    "print(df_metadatos_CA['MISC'][202512])"
   ]
  },
  {
   "cell_type": "code",
   "execution_count": 122,
   "metadata": {},
   "outputs": [
    {
     "data": {
      "text/plain": [
       "{'Accessibility': array(['Wheelchair accessible entrance'], dtype=object),\n",
       " 'Activities': None,\n",
       " 'Amenities': array(['Good for kids'], dtype=object),\n",
       " 'Atmosphere': array(['Casual'], dtype=object),\n",
       " 'Crowd': None,\n",
       " 'Dining options': None,\n",
       " 'From the business': None,\n",
       " 'Getting here': None,\n",
       " 'Health & safety': None,\n",
       " 'Health and safety': None,\n",
       " 'Highlights': None,\n",
       " 'Offerings': array(['Comfort food'], dtype=object),\n",
       " 'Payments': None,\n",
       " 'Planning': None,\n",
       " 'Popular for': None,\n",
       " 'Recycling': None,\n",
       " 'Service options': array(['Takeout', 'Dine-in', 'Delivery'], dtype=object)}"
      ]
     },
     "execution_count": 122,
     "metadata": {},
     "output_type": "execute_result"
    }
   ],
   "source": [
    "df_metadatos_CA['MISC'][1]"
   ]
  },
  {
   "cell_type": "markdown",
   "metadata": {},
   "source": [
    "##### Detalle MISC"
   ]
  },
  {
   "cell_type": "code",
   "execution_count": 6,
   "metadata": {},
   "outputs": [],
   "source": [
    "def expand_dict_to_columns(row):\n",
    "    if pd.isnull(row):\n",
    "        return pd.Series()\n",
    "    \n",
    "    expanded_dict = {}\n",
    "    for key, value in row.items():\n",
    "        if isinstance(value, np.ndarray):\n",
    "            expanded_dict[key] = list(value)\n",
    "        else:\n",
    "            expanded_dict[key] = value\n",
    "    \n",
    "    return pd.Series(expanded_dict)\n",
    "\n",
    "# Aplicar la función a la columna 'MISC'\n",
    "df_misc_expanded = df_metadatos_CA['MISC'].apply(expand_dict_to_columns)\n",
    "\n",
    "# Combinar con el DataFrame original\n",
    "df_metadatos_CA = pd.concat([df_metadatos_CA, df_misc_expanded], axis=1)\n",
    "\n",
    "# Eliminar la columna original 'MISC' si ya no es necesaria\n",
    "df_metadatos_CA.drop(columns=['MISC'], inplace=True)\n",
    "\n",
    "del df_misc_expanded"
   ]
  },
  {
   "cell_type": "code",
   "execution_count": 12,
   "metadata": {},
   "outputs": [
    {
     "name": "stdout",
     "output_type": "stream",
     "text": [
      "Datos de la columna :Accessibility\n",
      "Accessibility\n",
      "[Wheelchair accessible entrance]                                                                                                      183771\n",
      "[Wheelchair accessible entrance, Wheelchair accessible parking lot]                                                                    11793\n",
      "[Wheelchair accessible entrance, Wheelchair accessible restroom]                                                                        5322\n",
      "[Wheelchair accessible entrance, Wheelchair accessible parking lot, Wheelchair accessible restroom]                                     2363\n",
      "[Wheelchair accessible entrance, Wheelchair accessible parking lot, Wheelchair accessible restroom, Wheelchair accessible seating]      2037\n",
      "Name: count, dtype: int64\n",
      "Datos de la columna :Activities\n",
      "Activities\n",
      "[Bicycle rental]    72\n",
      "[Bicycle hire]       2\n",
      "Name: count, dtype: int64\n",
      "Datos de la columna :Amenities\n",
      "Amenities\n",
      "[Good for kids]                 21985\n",
      "[Mechanic]                       8568\n",
      "[Restroom]                       6621\n",
      "[Wi-Fi]                          3514\n",
      "[Good for kids, High chairs]     2606\n",
      "Name: count, dtype: int64\n",
      "Datos de la columna :Atmosphere\n",
      "Atmosphere\n",
      "[Casual]                    14542\n",
      "[Casual, Cozy]               7638\n",
      "[Casual, Cosy]                596\n",
      "[Casual, Quiet]               129\n",
      "[Casual, Cozy, Romantic]      103\n",
      "Name: count, dtype: int64\n",
      "Datos de la columna :Crowd\n",
      "Crowd\n",
      "[Groups]                     5872\n",
      "[Groups, Tourists]           2608\n",
      "[Family-friendly]            2499\n",
      "[Tourists]                   1224\n",
      "[Family-friendly, Groups]     945\n",
      "Name: count, dtype: int64\n",
      "Datos de la columna :Dining options\n",
      "Dining options\n",
      "[Dessert]                                      5979\n",
      "[Lunch, Dinner]                                1520\n",
      "[Lunch, Dinner, Catering, Dessert, Seating]     842\n",
      "[Lunch, Catering]                               634\n",
      "[Lunch, Dinner, Dessert]                        566\n",
      "Name: count, dtype: int64\n",
      "Datos de la columna :From the business\n",
      "From the business\n",
      "[Identifies as women-led]                               6533\n",
      "[Identifies as veteran-led]                              961\n",
      "[Identifies as veteran-led, Identifies as women-led]     598\n",
      "[Identifies as Black-owned]                              267\n",
      "[Identifies as Black-owned, Identifies as women-led]     253\n",
      "Name: count, dtype: int64\n",
      "Datos de la columna :Getting here\n",
      "Getting here\n",
      "[24-hour transit available]    122\n",
      "Name: count, dtype: int64\n",
      "Datos de la columna :Health & safety\n",
      "Health & safety\n",
      "[Mask required]                                                                           8706\n",
      "[Mask required, Staff required to disinfect surfaces between visits]                      4368\n",
      "[Mask required, Safety dividers at checkout]                                              2608\n",
      "[Mask required, Staff wear masks, Staff required to disinfect surfaces between visits]    2561\n",
      "[Appointment required]                                                                    2474\n",
      "Name: count, dtype: int64\n",
      "Datos de la columna :Health and safety\n",
      "Health and safety\n",
      "[Mask required, Staff required to disinfect surfaces between visits]                                                    460\n",
      "[Mask required, Staff required to disinfect surfaces between visits, Safety dividers at checkout]                       255\n",
      "[Mask required]                                                                                                         200\n",
      "[Mask required, Staff wear masks, Staff get temperature checks, Staff required to disinfect surfaces between visits]    148\n",
      "[Mask required, Staff wear masks, Staff required to disinfect surfaces between visits]                                   76\n",
      "Name: count, dtype: int64\n",
      "Datos de la columna :Highlights\n",
      "Highlights\n",
      "[LGBTQ friendly]                           7794\n",
      "[Fast service]                             2327\n",
      "[Great produce]                            1577\n",
      "[LGBTQ friendly, Transgender safespace]    1577\n",
      "[Great dessert]                            1507\n",
      "Name: count, dtype: int64\n",
      "Datos de la columna :Offerings\n",
      "Offerings\n",
      "[Oil change]                                7983\n",
      "[Repair services]                           2597\n",
      "[Coffee]                                    2084\n",
      "[Comfort food, Quick bite, Small plates]    2012\n",
      "[Comfort food, Quick bite]                  1942\n",
      "Name: count, dtype: int64\n",
      "Datos de la columna :Payments\n",
      "Payments\n",
      "[NFC mobile payments]                               11716\n",
      "[Debit cards]                                        7088\n",
      "[Debit cards, Credit cards]                          5570\n",
      "[Debit cards, NFC mobile payments, Credit cards]     5486\n",
      "[Debit cards, NFC mobile payments]                   4176\n",
      "Name: count, dtype: int64\n",
      "Datos de la columna :Planning\n",
      "Planning\n",
      "[Quick visit]                                              38980\n",
      "[Appointments recommended]                                 36503\n",
      "[Accepts reservations]                                      3739\n",
      "[Membership required]                                        494\n",
      "[Dinner reservations recommended, Accepts reservations]      394\n",
      "Name: count, dtype: int64\n",
      "Datos de la columna :Popular for\n",
      "Popular for\n",
      "[Lunch, Dinner, Solo dining]               10117\n",
      "[Solo dining]                               2431\n",
      "[Breakfast, Lunch, Dinner, Solo dining]     1601\n",
      "[Lunch, Solo dining]                        1423\n",
      "[Dinner, Solo dining]                        913\n",
      "Name: count, dtype: int64\n",
      "Datos de la columna :Recycling\n",
      "Recycling\n",
      "[Electronics]                                   83\n",
      "[Batteries, Ink cartridges]                     47\n",
      "[Glass bottles, Metal cans, Plastic bottles]     4\n",
      "[Glass bottles, Plastic bottles]                 2\n",
      "[Batteries, Electronics, Light bulbs]            1\n",
      "Name: count, dtype: int64\n",
      "Datos de la columna :Service options\n",
      "Service options\n",
      "[In-store shopping, Delivery]           13394\n",
      "[In-store shopping]                     10166\n",
      "[Delivery]                               9223\n",
      "[Takeout, Delivery]                      4532\n",
      "[In-store pickup, In-store shopping]     3129\n",
      "Name: count, dtype: int64\n"
     ]
    }
   ],
   "source": [
    "columnas=['Accessibility', 'Activities',\n",
    "       'Amenities', 'Atmosphere', 'Crowd', 'Dining options',\n",
    "       'From the business', 'Getting here', 'Health & safety',\n",
    "       'Health and safety', 'Highlights', 'Offerings', 'Payments', 'Planning',\n",
    "       'Popular for', 'Recycling', 'Service options']\n",
    "\n",
    "for i in columnas:\n",
    "    print('Datos de la columna :'+str(i))\n",
    "    print(df_metadatos_CA[i].value_counts().head(5))"
   ]
  },
  {
   "cell_type": "code",
   "execution_count": 9,
   "metadata": {},
   "outputs": [
    {
     "data": {
      "text/plain": [
       "Index(['name', 'address', 'gmap_id', 'description', 'latitude', 'longitude',\n",
       "       'category', 'avg_rating', 'num_of_reviews', 'price', 'hours', 'state',\n",
       "       'relative_results', 'url', 'estado', 'Accessibility', 'Activities',\n",
       "       'Amenities', 'Atmosphere', 'Crowd', 'Dining options',\n",
       "       'From the business', 'Getting here', 'Health & safety',\n",
       "       'Health and safety', 'Highlights', 'Offerings', 'Payments', 'Planning',\n",
       "       'Popular for', 'Recycling', 'Service options'],\n",
       "      dtype='object')"
      ]
     },
     "execution_count": 9,
     "metadata": {},
     "output_type": "execute_result"
    }
   ],
   "source": [
    "df_metadatos_CA.columns"
   ]
  },
  {
   "cell_type": "markdown",
   "metadata": {},
   "source": [
    "#### state"
   ]
  },
  {
   "cell_type": "code",
   "execution_count": null,
   "metadata": {},
   "outputs": [
    {
     "name": "stdout",
     "output_type": "stream",
     "text": [
      "0\n",
      "Closed\n",
      "<class 'str'>\n",
      "Closes soon ⋅ 10:30PM ⋅ Opens 11:30AM Thu\n",
      "64359     41\n",
      "231564    41\n",
      "275739    41\n",
      "254600    40\n",
      "288754    40\n",
      "Name: state, dtype: int64\n",
      "184277    6\n",
      "254864    6\n",
      "248782    6\n",
      "145686    6\n",
      "174266    6\n",
      "Name: state, dtype: int64\n"
     ]
    }
   ],
   "source": [
    "print((df_metadatos_CA['state']==' ').sum())\n",
    "print(df_metadatos_CA['state'][df_metadatos_CA['state'].dropna().apply(len).idxmin()])\n",
    "print(type(df_metadatos_CA['state'][df_metadatos_CA['state'].dropna().apply(len).idxmax()]))\n",
    "print(df_metadatos_CA['state'][df_metadatos_CA['state'].dropna().apply(len).idxmax()])\n",
    "print(df_metadatos_CA['state'].dropna().apply(len).sort_values(ascending=False).head(5))\n",
    "print(df_metadatos_CA['state'].dropna().apply(len).sort_values(ascending=False).tail(5))"
   ]
  },
  {
   "cell_type": "markdown",
   "metadata": {},
   "source": [
    "#### relative_results "
   ]
  },
  {
   "cell_type": "code",
   "execution_count": null,
   "metadata": {},
   "outputs": [
    {
     "name": "stdout",
     "output_type": "stream",
     "text": [
      "0\n",
      "['0x808f7d903888260d:0x846a0c7caf8e80e2']\n",
      "<class 'list'>\n",
      "['0x80c2c78249aba68f:0x35bf16ce61be751d', '0x80c2c79998f75fff:0xd7ca5c67e96fb778', '0x80c2b899146d7507:0xf4162c12c9cf65f8', '0x80c2c77f2d419951:0x26285631b21e324c', '0x80c2b8add9016015:0x15836f81a963b35f']\n",
      "101816    5\n",
      "130836    5\n",
      "130838    5\n",
      "130839    5\n",
      "130840    5\n",
      "Name: relative_results, dtype: int64\n",
      "230235    1\n",
      "138010    1\n",
      "96067     1\n",
      "187418    1\n",
      "19353     1\n",
      "Name: relative_results, dtype: int64\n"
     ]
    }
   ],
   "source": [
    "print((df_metadatos_CA['relative_results']==' ').sum())\n",
    "print(df_metadatos_CA['relative_results'][df_metadatos_CA['relative_results'].dropna().apply(len).idxmin()])\n",
    "print(type(df_metadatos_CA['relative_results'][df_metadatos_CA['relative_results'].dropna().apply(len).idxmax()]))\n",
    "print(df_metadatos_CA['relative_results'][df_metadatos_CA['relative_results'].dropna().apply(len).idxmax()])\n",
    "print(df_metadatos_CA['relative_results'].dropna().apply(len).sort_values(ascending=False).head(5))\n",
    "print(df_metadatos_CA['relative_results'].dropna().apply(len).sort_values(ascending=False).tail(5))"
   ]
  },
  {
   "cell_type": "markdown",
   "metadata": {},
   "source": [
    "#### url"
   ]
  },
  {
   "cell_type": "code",
   "execution_count": null,
   "metadata": {},
   "outputs": [
    {
     "name": "stdout",
     "output_type": "stream",
     "text": [
      "0\n",
      "https://www.google.com/maps/place//data=!4m2!3m1!1s0x0:0x13154eabf70b4b93?authuser=-1&hl=en&gl=us\n",
      "<class 'str'>\n",
      "https://www.google.com/maps/place/Point+Reyes+National+Seashore,+Point+Reyes+Station,+CA+94956/data=!4m2!3m1!1s0x8085da4972d11a1d:0x3568b993a474528f?authuser=-1&hl=en&gl=us\n",
      "277970    172\n",
      "186611    167\n",
      "202402    167\n",
      "15248     161\n",
      "3241      159\n",
      "Name: url, dtype: int64\n",
      "192036    107\n",
      "194950    107\n",
      "194056    107\n",
      "130938     97\n",
      "171772     97\n",
      "Name: url, dtype: int64\n"
     ]
    }
   ],
   "source": [
    "print((df_metadatos_CA['url']==' ').sum())\n",
    "print(df_metadatos_CA['url'][df_metadatos_CA['url'].dropna().apply(len).idxmin()])\n",
    "print(type(df_metadatos_CA['url'][df_metadatos_CA['url'].dropna().apply(len).idxmax()]))\n",
    "print(df_metadatos_CA['url'][df_metadatos_CA['url'].dropna().apply(len).idxmax()])\n",
    "print(df_metadatos_CA['url'].dropna().apply(len).sort_values(ascending=False).head(5))\n",
    "print(df_metadatos_CA['url'].dropna().apply(len).sort_values(ascending=False).tail(5))"
   ]
  },
  {
   "cell_type": "markdown",
   "metadata": {},
   "source": [
    "# Business - YELP"
   ]
  },
  {
   "cell_type": "code",
   "execution_count": 11,
   "metadata": {},
   "outputs": [
    {
     "data": {
      "text/plain": [
       "Index(['business_id', 'name', 'address', 'city', 'state', 'postal_code',\n",
       "       'latitude', 'longitude', 'stars', 'review_count', 'is_open',\n",
       "       'attributes', 'categories', 'hours', 'business_id', 'name', 'address',\n",
       "       'city', 'state', 'postal_code', 'latitude', 'longitude', 'stars',\n",
       "       'review_count', 'is_open', 'attributes', 'categories', 'hours'],\n",
       "      dtype='object')"
      ]
     },
     "execution_count": 11,
     "metadata": {},
     "output_type": "execute_result"
    }
   ],
   "source": [
    "df_businessYelp.columns"
   ]
  },
  {
   "cell_type": "code",
   "execution_count": 13,
   "metadata": {},
   "outputs": [
    {
     "data": {
      "text/html": [
       "<div>\n",
       "<style scoped>\n",
       "    .dataframe tbody tr th:only-of-type {\n",
       "        vertical-align: middle;\n",
       "    }\n",
       "\n",
       "    .dataframe tbody tr th {\n",
       "        vertical-align: top;\n",
       "    }\n",
       "\n",
       "    .dataframe thead th {\n",
       "        text-align: right;\n",
       "    }\n",
       "</style>\n",
       "<table border=\"1\" class=\"dataframe\">\n",
       "  <thead>\n",
       "    <tr style=\"text-align: right;\">\n",
       "      <th></th>\n",
       "      <th>business_id</th>\n",
       "      <th>name</th>\n",
       "      <th>address</th>\n",
       "      <th>city</th>\n",
       "      <th>state</th>\n",
       "      <th>postal_code</th>\n",
       "      <th>latitude</th>\n",
       "      <th>longitude</th>\n",
       "      <th>stars</th>\n",
       "      <th>review_count</th>\n",
       "      <th>...</th>\n",
       "      <th>state</th>\n",
       "      <th>postal_code</th>\n",
       "      <th>latitude</th>\n",
       "      <th>longitude</th>\n",
       "      <th>stars</th>\n",
       "      <th>review_count</th>\n",
       "      <th>is_open</th>\n",
       "      <th>attributes</th>\n",
       "      <th>categories</th>\n",
       "      <th>hours</th>\n",
       "    </tr>\n",
       "  </thead>\n",
       "  <tbody>\n",
       "    <tr>\n",
       "      <th>0</th>\n",
       "      <td>Pns2l4eNsfO8kk83dixA6A</td>\n",
       "      <td>Abby Rappoport, LAC, CMQ</td>\n",
       "      <td>1616 Chapala St, Ste 2</td>\n",
       "      <td>Santa Barbara</td>\n",
       "      <td>NaN</td>\n",
       "      <td>93101</td>\n",
       "      <td>34.426679</td>\n",
       "      <td>-119.711197</td>\n",
       "      <td>5.0</td>\n",
       "      <td>7</td>\n",
       "      <td>...</td>\n",
       "      <td>NaN</td>\n",
       "      <td>NaN</td>\n",
       "      <td>NaN</td>\n",
       "      <td>NaN</td>\n",
       "      <td>NaN</td>\n",
       "      <td>NaN</td>\n",
       "      <td>NaN</td>\n",
       "      <td>NaN</td>\n",
       "      <td>NaN</td>\n",
       "      <td>NaN</td>\n",
       "    </tr>\n",
       "    <tr>\n",
       "      <th>1</th>\n",
       "      <td>mpf3x-BjTdTEA3yCZrAYPw</td>\n",
       "      <td>The UPS Store</td>\n",
       "      <td>87 Grasso Plaza Shopping Center</td>\n",
       "      <td>Affton</td>\n",
       "      <td>NaN</td>\n",
       "      <td>63123</td>\n",
       "      <td>38.551126</td>\n",
       "      <td>-90.335695</td>\n",
       "      <td>3.0</td>\n",
       "      <td>15</td>\n",
       "      <td>...</td>\n",
       "      <td>NaN</td>\n",
       "      <td>NaN</td>\n",
       "      <td>NaN</td>\n",
       "      <td>NaN</td>\n",
       "      <td>NaN</td>\n",
       "      <td>NaN</td>\n",
       "      <td>NaN</td>\n",
       "      <td>NaN</td>\n",
       "      <td>NaN</td>\n",
       "      <td>NaN</td>\n",
       "    </tr>\n",
       "    <tr>\n",
       "      <th>2</th>\n",
       "      <td>tUFrWirKiKi_TAnsVWINQQ</td>\n",
       "      <td>Target</td>\n",
       "      <td>5255 E Broadway Blvd</td>\n",
       "      <td>Tucson</td>\n",
       "      <td>NaN</td>\n",
       "      <td>85711</td>\n",
       "      <td>32.223236</td>\n",
       "      <td>-110.880452</td>\n",
       "      <td>3.5</td>\n",
       "      <td>22</td>\n",
       "      <td>...</td>\n",
       "      <td>NaN</td>\n",
       "      <td>NaN</td>\n",
       "      <td>NaN</td>\n",
       "      <td>NaN</td>\n",
       "      <td>NaN</td>\n",
       "      <td>NaN</td>\n",
       "      <td>NaN</td>\n",
       "      <td>NaN</td>\n",
       "      <td>NaN</td>\n",
       "      <td>NaN</td>\n",
       "    </tr>\n",
       "    <tr>\n",
       "      <th>3</th>\n",
       "      <td>MTSW4McQd7CbVtyjqoe9mw</td>\n",
       "      <td>St Honore Pastries</td>\n",
       "      <td>935 Race St</td>\n",
       "      <td>Philadelphia</td>\n",
       "      <td>CA</td>\n",
       "      <td>19107</td>\n",
       "      <td>39.955505</td>\n",
       "      <td>-75.155564</td>\n",
       "      <td>4.0</td>\n",
       "      <td>80</td>\n",
       "      <td>...</td>\n",
       "      <td>NaN</td>\n",
       "      <td>NaN</td>\n",
       "      <td>NaN</td>\n",
       "      <td>NaN</td>\n",
       "      <td>NaN</td>\n",
       "      <td>NaN</td>\n",
       "      <td>NaN</td>\n",
       "      <td>NaN</td>\n",
       "      <td>NaN</td>\n",
       "      <td>NaN</td>\n",
       "    </tr>\n",
       "    <tr>\n",
       "      <th>4</th>\n",
       "      <td>mWMc6_wTdE0EUBKIGXDVfA</td>\n",
       "      <td>Perkiomen Valley Brewery</td>\n",
       "      <td>101 Walnut St</td>\n",
       "      <td>Green Lane</td>\n",
       "      <td>MO</td>\n",
       "      <td>18054</td>\n",
       "      <td>40.338183</td>\n",
       "      <td>-75.471659</td>\n",
       "      <td>4.5</td>\n",
       "      <td>13</td>\n",
       "      <td>...</td>\n",
       "      <td>NaN</td>\n",
       "      <td>NaN</td>\n",
       "      <td>NaN</td>\n",
       "      <td>NaN</td>\n",
       "      <td>NaN</td>\n",
       "      <td>NaN</td>\n",
       "      <td>NaN</td>\n",
       "      <td>NaN</td>\n",
       "      <td>NaN</td>\n",
       "      <td>NaN</td>\n",
       "    </tr>\n",
       "  </tbody>\n",
       "</table>\n",
       "<p>5 rows × 28 columns</p>\n",
       "</div>"
      ],
      "text/plain": [
       "              business_id                      name  \\\n",
       "0  Pns2l4eNsfO8kk83dixA6A  Abby Rappoport, LAC, CMQ   \n",
       "1  mpf3x-BjTdTEA3yCZrAYPw             The UPS Store   \n",
       "2  tUFrWirKiKi_TAnsVWINQQ                    Target   \n",
       "3  MTSW4McQd7CbVtyjqoe9mw        St Honore Pastries   \n",
       "4  mWMc6_wTdE0EUBKIGXDVfA  Perkiomen Valley Brewery   \n",
       "\n",
       "                           address           city state postal_code  \\\n",
       "0           1616 Chapala St, Ste 2  Santa Barbara   NaN       93101   \n",
       "1  87 Grasso Plaza Shopping Center         Affton   NaN       63123   \n",
       "2             5255 E Broadway Blvd         Tucson   NaN       85711   \n",
       "3                      935 Race St   Philadelphia    CA       19107   \n",
       "4                    101 Walnut St     Green Lane    MO       18054   \n",
       "\n",
       "    latitude   longitude stars review_count  ... state postal_code latitude  \\\n",
       "0  34.426679 -119.711197   5.0            7  ...   NaN         NaN      NaN   \n",
       "1  38.551126  -90.335695   3.0           15  ...   NaN         NaN      NaN   \n",
       "2  32.223236 -110.880452   3.5           22  ...   NaN         NaN      NaN   \n",
       "3  39.955505  -75.155564   4.0           80  ...   NaN         NaN      NaN   \n",
       "4  40.338183  -75.471659   4.5           13  ...   NaN         NaN      NaN   \n",
       "\n",
       "  longitude stars review_count is_open attributes categories hours  \n",
       "0       NaN   NaN          NaN     NaN        NaN        NaN   NaN  \n",
       "1       NaN   NaN          NaN     NaN        NaN        NaN   NaN  \n",
       "2       NaN   NaN          NaN     NaN        NaN        NaN   NaN  \n",
       "3       NaN   NaN          NaN     NaN        NaN        NaN   NaN  \n",
       "4       NaN   NaN          NaN     NaN        NaN        NaN   NaN  \n",
       "\n",
       "[5 rows x 28 columns]"
      ]
     },
     "execution_count": 13,
     "metadata": {},
     "output_type": "execute_result"
    }
   ],
   "source": [
    "df_businessYelp.head(5)"
   ]
  },
  {
   "cell_type": "markdown",
   "metadata": {},
   "source": [
    "Primero se observa una duplicación en las columnas. El segundo set de columnas están duplicadas, con lo que deben eliminarse las mismas."
   ]
  },
  {
   "cell_type": "code",
   "execution_count": 4,
   "metadata": {},
   "outputs": [],
   "source": [
    "# Eliminación de columnas\n",
    "df_businessYelp.columns=['business_id', 'name', 'address', 'city', 'state', 'postal_code',\n",
    "       'latitude', 'longitude', 'stars', 'review_count', 'is_open',\n",
    "       'attributes', 'categories', 'hours', 'business_id2', 'name2', 'address2',\n",
    "       'city2', 'state2', 'postal_code2', 'latitude2', 'longitude2', 'stars2',\n",
    "       'review_count2', 'is_open2', 'attributes2', 'categories2', 'hours2']\n",
    "\n",
    "df_businessYelp.drop(columns=['business_id2', 'name2', 'address2',\n",
    "       'city2', 'state2', 'postal_code2', 'latitude2', 'longitude2', 'stars2',\n",
    "       'review_count2', 'is_open2', 'attributes2', 'categories2', 'hours2'], inplace=True)\n"
   ]
  },
  {
   "cell_type": "markdown",
   "metadata": {},
   "source": [
    "### Ubicaciones"
   ]
  },
  {
   "cell_type": "markdown",
   "metadata": {},
   "source": [
    "Se observan en el dataframe, a simple vista, valores de estado nulo, o ciudades con estados difrentes. Se procede a determinar la veracidad de esos datos.\n",
    "Los Angeles tiene los códigos postales del 90001 al 91609. Y California del 90001 al 96162"
   ]
  },
  {
   "cell_type": "code",
   "execution_count": 7,
   "metadata": {},
   "outputs": [
    {
     "data": {
      "text/plain": [
       "0"
      ]
     },
     "execution_count": 7,
     "metadata": {},
     "output_type": "execute_result"
    }
   ],
   "source": [
    "#vemos que no existen valores nulos del código postal.\n",
    "df_businessYelp['postal_code'].isna().sum()"
   ]
  },
  {
   "cell_type": "code",
   "execution_count": 17,
   "metadata": {},
   "outputs": [
    {
     "name": "stdout",
     "output_type": "stream",
     "text": [
      "7\n"
     ]
    }
   ],
   "source": [
    "# Crear la columna 'LA' basada en 'postal_code'\n",
    "df_businessYelp['LA'] = df_businessYelp['postal_code'].apply(lambda x: 1 if x.isdigit() and 90001 <= int(x) <= 91609 else 0)\n",
    "print(df_businessYelp['LA'].sum())"
   ]
  },
  {
   "cell_type": "code",
   "execution_count": 15,
   "metadata": {},
   "outputs": [
    {
     "data": {
      "text/plain": [
       "city\n",
       "Santa Barbara                       3827\n",
       "Goleta                               798\n",
       "Carpinteria                          298\n",
       "Isla Vista                            94\n",
       "Montecito                             93\n",
       "Summerland                            41\n",
       "Truckee                               11\n",
       "Santa Barbara                          5\n",
       "Santa Barbra                           2\n",
       "Reno                                   2\n",
       "Santa  Barbara                         1\n",
       "Real Goleta                            1\n",
       "Meridian                               1\n",
       "Boise                                  1\n",
       "SANTA BARBARA                          1\n",
       "Sparks                                 1\n",
       "Salinas                                1\n",
       "Santa Barbara & Ventura Counties       1\n",
       "South Lake Tahoe                       1\n",
       "SANTA BARBARA AP                       1\n",
       "Carpinteria                            1\n",
       "Santa Barbara,                         1\n",
       "Costa Mesa                             1\n",
       "Cerritos                               1\n",
       "Valencia                               1\n",
       "San Anselmo                            1\n",
       "Santa Clara                            1\n",
       "Oxnard                                 1\n",
       "Nashville                              1\n",
       "Los Angeles                            1\n",
       "Indianapolis                           1\n",
       "Mission Canyon                         1\n",
       "Kings Beach                            1\n",
       "Santa Ynez                             1\n",
       "West Hill                              1\n",
       "Port Hueneme                           1\n",
       "Lula Lula                              1\n",
       "Ventura                                1\n",
       "santa Barbara                          1\n",
       "Santa Maria                            1\n",
       "Name: count, dtype: int64"
      ]
     },
     "execution_count": 15,
     "metadata": {},
     "output_type": "execute_result"
    }
   ],
   "source": [
    "# Crear la columna 'LA' basada en 'postal_code'\n",
    "df_businessYelp['CA'] = df_businessYelp['postal_code'].apply(lambda x: 1 if x.isdigit() and 90001 <= int(x) <= 96162 else 0)\n",
    "df_businessYelp[df_businessYelp['CA']==1]['city'].value_counts()"
   ]
  },
  {
   "cell_type": "code",
   "execution_count": 21,
   "metadata": {},
   "outputs": [
    {
     "data": {
      "text/plain": [
       "5201"
      ]
     },
     "execution_count": 21,
     "metadata": {},
     "output_type": "execute_result"
    }
   ],
   "source": [
    "#total de negocios en california\n",
    "len(df_businessYelp[df_businessYelp['CA']==1])"
   ]
  },
  {
   "cell_type": "markdown",
   "metadata": {},
   "source": [
    "La mayoría de los negocios (el 94%) se encuentran entre Santa Barbara, Goleta y Carptinteria."
   ]
  },
  {
   "cell_type": "code",
   "execution_count": 22,
   "metadata": {},
   "outputs": [
    {
     "data": {
      "text/html": [
       "<div>\n",
       "<style scoped>\n",
       "    .dataframe tbody tr th:only-of-type {\n",
       "        vertical-align: middle;\n",
       "    }\n",
       "\n",
       "    .dataframe tbody tr th {\n",
       "        vertical-align: top;\n",
       "    }\n",
       "\n",
       "    .dataframe thead th {\n",
       "        text-align: right;\n",
       "    }\n",
       "</style>\n",
       "<table border=\"1\" class=\"dataframe\">\n",
       "  <thead>\n",
       "    <tr style=\"text-align: right;\">\n",
       "      <th></th>\n",
       "      <th>business_id</th>\n",
       "      <th>name</th>\n",
       "      <th>address</th>\n",
       "      <th>city</th>\n",
       "      <th>state</th>\n",
       "      <th>postal_code</th>\n",
       "      <th>latitude</th>\n",
       "      <th>longitude</th>\n",
       "      <th>stars</th>\n",
       "      <th>review_count</th>\n",
       "      <th>is_open</th>\n",
       "      <th>attributes</th>\n",
       "      <th>categories</th>\n",
       "      <th>hours</th>\n",
       "      <th>LA</th>\n",
       "      <th>CA</th>\n",
       "    </tr>\n",
       "  </thead>\n",
       "  <tbody>\n",
       "    <tr>\n",
       "      <th>12258</th>\n",
       "      <td>bw90rjFL02A_8rVE34m5Lg</td>\n",
       "      <td>Cosmetic Solutions</td>\n",
       "      <td>1010 Lula Lula Dr</td>\n",
       "      <td>Lula Lula</td>\n",
       "      <td>TN</td>\n",
       "      <td>90261</td>\n",
       "      <td>38.816486</td>\n",
       "      <td>-90.32175</td>\n",
       "      <td>3.5</td>\n",
       "      <td>17</td>\n",
       "      <td>1</td>\n",
       "      <td>{'BusinessAcceptsCreditCards': 'False', 'Accep...</td>\n",
       "      <td>Cosmetic Surgeons, Pizza, Doctors, Beauty &amp; Sp...</td>\n",
       "      <td>None</td>\n",
       "      <td>1</td>\n",
       "      <td>1</td>\n",
       "    </tr>\n",
       "    <tr>\n",
       "      <th>25883</th>\n",
       "      <td>BZAVgg5ybeX_a4w-FW0mbA</td>\n",
       "      <td>1-800-GOT-JUNK? Central Coast</td>\n",
       "      <td>6520 Platt Ave, Ste 650</td>\n",
       "      <td>West Hill</td>\n",
       "      <td>DE</td>\n",
       "      <td>91307</td>\n",
       "      <td>34.525564</td>\n",
       "      <td>-119.81175</td>\n",
       "      <td>5.0</td>\n",
       "      <td>25</td>\n",
       "      <td>1</td>\n",
       "      <td>{'BusinessAcceptsCreditCards': 'True', 'ByAppo...</td>\n",
       "      <td>Junk Removal &amp; Hauling, Local Services</td>\n",
       "      <td>{'Monday': '7:0-20:0', 'Tuesday': '7:0-20:0', ...</td>\n",
       "      <td>1</td>\n",
       "      <td>1</td>\n",
       "    </tr>\n",
       "    <tr>\n",
       "      <th>40532</th>\n",
       "      <td>l-zztqecz2EO6sCYuyLuag</td>\n",
       "      <td>Hellz Bellz</td>\n",
       "      <td>111 W 7th Street PH16</td>\n",
       "      <td>Los Angeles</td>\n",
       "      <td>PA</td>\n",
       "      <td>90041</td>\n",
       "      <td>39.661034</td>\n",
       "      <td>-75.569746</td>\n",
       "      <td>5.0</td>\n",
       "      <td>5</td>\n",
       "      <td>0</td>\n",
       "      <td>None</td>\n",
       "      <td>Fashion, Women's Clothing, Shopping</td>\n",
       "      <td>None</td>\n",
       "      <td>1</td>\n",
       "      <td>1</td>\n",
       "    </tr>\n",
       "    <tr>\n",
       "      <th>56262</th>\n",
       "      <td>zAhDliPU8xRGGpF17n_lvw</td>\n",
       "      <td>Sears Auto Center</td>\n",
       "      <td>100 Los Cerritos Mall</td>\n",
       "      <td>Cerritos</td>\n",
       "      <td>PA</td>\n",
       "      <td>90703</td>\n",
       "      <td>34.436382</td>\n",
       "      <td>-119.749707</td>\n",
       "      <td>3.0</td>\n",
       "      <td>130</td>\n",
       "      <td>0</td>\n",
       "      <td>{'BusinessAcceptsCreditCards': 'True'}</td>\n",
       "      <td>Automotive, Oil Change Stations, Auto Repair, ...</td>\n",
       "      <td>{'Monday': '8:0-19:0', 'Tuesday': '8:0-19:0', ...</td>\n",
       "      <td>1</td>\n",
       "      <td>1</td>\n",
       "    </tr>\n",
       "    <tr>\n",
       "      <th>74169</th>\n",
       "      <td>2kZ4EpcQ6dl5vtsLZKM2bQ</td>\n",
       "      <td>Farmers Insurance - Maureen Martinez</td>\n",
       "      <td>24510 Town Center Dr, Ste 230</td>\n",
       "      <td>Valencia</td>\n",
       "      <td>AB</td>\n",
       "      <td>91355</td>\n",
       "      <td>34.421845</td>\n",
       "      <td>-119.656752</td>\n",
       "      <td>3.5</td>\n",
       "      <td>8</td>\n",
       "      <td>0</td>\n",
       "      <td>None</td>\n",
       "      <td>Financial Services, Insurance</td>\n",
       "      <td>{'Monday': '9:0-17:0', 'Tuesday': '9:0-17:0', ...</td>\n",
       "      <td>1</td>\n",
       "      <td>1</td>\n",
       "    </tr>\n",
       "    <tr>\n",
       "      <th>115102</th>\n",
       "      <td>LllYcETCcistMoHZuhalXA</td>\n",
       "      <td>Joyful Noise Entertainment</td>\n",
       "      <td></td>\n",
       "      <td>Boise</td>\n",
       "      <td>FL</td>\n",
       "      <td>91390</td>\n",
       "      <td>43.615019</td>\n",
       "      <td>-116.202314</td>\n",
       "      <td>5.0</td>\n",
       "      <td>6</td>\n",
       "      <td>1</td>\n",
       "      <td>{'BusinessAcceptsCreditCards': 'True'}</td>\n",
       "      <td>DJs, Event Planning &amp; Services</td>\n",
       "      <td>None</td>\n",
       "      <td>1</td>\n",
       "      <td>1</td>\n",
       "    </tr>\n",
       "    <tr>\n",
       "      <th>119578</th>\n",
       "      <td>ZG3sntPpL5mEebogPDid_w</td>\n",
       "      <td>So Cal City Group</td>\n",
       "      <td>1100 Santa Barbara St</td>\n",
       "      <td>Santa Barbara</td>\n",
       "      <td>CA</td>\n",
       "      <td>91306</td>\n",
       "      <td>34.424793</td>\n",
       "      <td>-119.700945</td>\n",
       "      <td>4.5</td>\n",
       "      <td>16</td>\n",
       "      <td>1</td>\n",
       "      <td>{'RestaurantsPriceRange2': '2', 'BusinessAccep...</td>\n",
       "      <td>Roofing, Contractors, Home Services, Home &amp; Ga...</td>\n",
       "      <td>{'Monday': '8:0-19:0', 'Tuesday': '8:0-19:0', ...</td>\n",
       "      <td>1</td>\n",
       "      <td>1</td>\n",
       "    </tr>\n",
       "  </tbody>\n",
       "</table>\n",
       "</div>"
      ],
      "text/plain": [
       "                   business_id                                  name  \\\n",
       "12258   bw90rjFL02A_8rVE34m5Lg                    Cosmetic Solutions   \n",
       "25883   BZAVgg5ybeX_a4w-FW0mbA         1-800-GOT-JUNK? Central Coast   \n",
       "40532   l-zztqecz2EO6sCYuyLuag                           Hellz Bellz   \n",
       "56262   zAhDliPU8xRGGpF17n_lvw                     Sears Auto Center   \n",
       "74169   2kZ4EpcQ6dl5vtsLZKM2bQ  Farmers Insurance - Maureen Martinez   \n",
       "115102  LllYcETCcistMoHZuhalXA            Joyful Noise Entertainment   \n",
       "119578  ZG3sntPpL5mEebogPDid_w                     So Cal City Group   \n",
       "\n",
       "                              address           city state postal_code  \\\n",
       "12258               1010 Lula Lula Dr      Lula Lula    TN       90261   \n",
       "25883         6520 Platt Ave, Ste 650      West Hill    DE       91307   \n",
       "40532           111 W 7th Street PH16    Los Angeles    PA       90041   \n",
       "56262           100 Los Cerritos Mall       Cerritos    PA       90703   \n",
       "74169   24510 Town Center Dr, Ste 230       Valencia    AB       91355   \n",
       "115102                                         Boise    FL       91390   \n",
       "119578          1100 Santa Barbara St  Santa Barbara    CA       91306   \n",
       "\n",
       "         latitude   longitude stars review_count is_open  \\\n",
       "12258   38.816486   -90.32175   3.5           17       1   \n",
       "25883   34.525564  -119.81175   5.0           25       1   \n",
       "40532   39.661034  -75.569746   5.0            5       0   \n",
       "56262   34.436382 -119.749707   3.0          130       0   \n",
       "74169   34.421845 -119.656752   3.5            8       0   \n",
       "115102  43.615019 -116.202314   5.0            6       1   \n",
       "119578  34.424793 -119.700945   4.5           16       1   \n",
       "\n",
       "                                               attributes  \\\n",
       "12258   {'BusinessAcceptsCreditCards': 'False', 'Accep...   \n",
       "25883   {'BusinessAcceptsCreditCards': 'True', 'ByAppo...   \n",
       "40532                                                None   \n",
       "56262              {'BusinessAcceptsCreditCards': 'True'}   \n",
       "74169                                                None   \n",
       "115102             {'BusinessAcceptsCreditCards': 'True'}   \n",
       "119578  {'RestaurantsPriceRange2': '2', 'BusinessAccep...   \n",
       "\n",
       "                                               categories  \\\n",
       "12258   Cosmetic Surgeons, Pizza, Doctors, Beauty & Sp...   \n",
       "25883              Junk Removal & Hauling, Local Services   \n",
       "40532                 Fashion, Women's Clothing, Shopping   \n",
       "56262   Automotive, Oil Change Stations, Auto Repair, ...   \n",
       "74169                       Financial Services, Insurance   \n",
       "115102                     DJs, Event Planning & Services   \n",
       "119578  Roofing, Contractors, Home Services, Home & Ga...   \n",
       "\n",
       "                                                    hours  LA  CA  \n",
       "12258                                                None   1   1  \n",
       "25883   {'Monday': '7:0-20:0', 'Tuesday': '7:0-20:0', ...   1   1  \n",
       "40532                                                None   1   1  \n",
       "56262   {'Monday': '8:0-19:0', 'Tuesday': '8:0-19:0', ...   1   1  \n",
       "74169   {'Monday': '9:0-17:0', 'Tuesday': '9:0-17:0', ...   1   1  \n",
       "115102                                               None   1   1  \n",
       "119578  {'Monday': '8:0-19:0', 'Tuesday': '8:0-19:0', ...   1   1  "
      ]
     },
     "execution_count": 22,
     "metadata": {},
     "output_type": "execute_result"
    }
   ],
   "source": [
    "#hay solo 7 valores que figuran con código postal de los Angeles\n",
    "df_businessYelp[df_businessYelp['LA']==1]"
   ]
  },
  {
   "cell_type": "code",
   "execution_count": 26,
   "metadata": {},
   "outputs": [
    {
     "data": {
      "text/plain": [
       "count    4923.000000\n",
       "mean       34.425772\n",
       "std         0.015331\n",
       "min        34.378225\n",
       "25%        34.418476\n",
       "50%        34.423594\n",
       "75%        34.435452\n",
       "max        34.597239\n",
       "Name: latitude, dtype: float64"
      ]
     },
     "execution_count": 26,
     "metadata": {},
     "output_type": "execute_result"
    }
   ],
   "source": [
    "#latitudes de las principales localidades. Parecen ser certeras.\n",
    "df_businessYelp.loc[(df_businessYelp['CA'] == 1) & (df_businessYelp['city'].isin(['Santa Barbara', 'Goleta', 'Carpinteria']))]['latitude'].astype(float).describe()"
   ]
  },
  {
   "cell_type": "code",
   "execution_count": 27,
   "metadata": {},
   "outputs": [
    {
     "data": {
      "text/plain": [
       "count    4923.000000\n",
       "mean     -119.723604\n",
       "std         0.078201\n",
       "min      -119.967185\n",
       "25%      -119.751821\n",
       "50%      -119.707054\n",
       "75%      -119.694833\n",
       "max      -119.466286\n",
       "Name: longitude, dtype: float64"
      ]
     },
     "execution_count": 27,
     "metadata": {},
     "output_type": "execute_result"
    }
   ],
   "source": [
    "#longitudes de las principales localidades. Parecen ser certeras.\n",
    "df_businessYelp.loc[(df_businessYelp['CA'] == 1) & (df_businessYelp['city'].isin(['Santa Barbara', 'Goleta', 'Carpinteria']))]['longitude'].astype(float).describe()"
   ]
  },
  {
   "cell_type": "markdown",
   "metadata": {},
   "source": [
    "Los valores arrojados de longitud y latitud de esas localidades parecen ser certeros, por lo que se entiende que los datos de localidades son correctos."
   ]
  },
  {
   "cell_type": "code",
   "execution_count": 33,
   "metadata": {},
   "outputs": [],
   "source": [
    "# Se evaúan latitudes y longitudes para ver si coinciden con la localidad de los Angeles\n",
    "# Función para evaluar las condiciones y retornar 1 o 0\n",
    "def is_in_LA(row):\n",
    "    try:\n",
    "        longitude = float(row['longitude'])\n",
    "        latitude = float(row['latitude'])\n",
    "        if (-118.5 <= longitude <= -117.96) and (33.7 <= latitude <= 34.13):\n",
    "            return 1\n",
    "        else:\n",
    "            return 0\n",
    "    except ValueError:\n",
    "        return 0  # Si no se puede convertir a float, retornar 0\n",
    "\n",
    "# Crear la columna 'LA_gps' usando apply y la función is_in_LA\n",
    "df_businessYelp['LA_gps'] = df_businessYelp.apply(is_in_LA, axis=1)"
   ]
  },
  {
   "cell_type": "code",
   "execution_count": 34,
   "metadata": {},
   "outputs": [
    {
     "data": {
      "text/plain": [
       "0"
      ]
     },
     "execution_count": 34,
     "metadata": {},
     "output_type": "execute_result"
    }
   ],
   "source": [
    "df_businessYelp['LA_gps'].sum()"
   ]
  },
  {
   "cell_type": "markdown",
   "metadata": {},
   "source": [
    "No existen negocios con ubicación georeferenciada en la ciudad de Los Angeles."
   ]
  }
 ],
 "metadata": {
  "kernelspec": {
   "display_name": "Python 3",
   "language": "python",
   "name": "python3"
  },
  "language_info": {
   "codemirror_mode": {
    "name": "ipython",
    "version": 3
   },
   "file_extension": ".py",
   "mimetype": "text/x-python",
   "name": "python",
   "nbconvert_exporter": "python",
   "pygments_lexer": "ipython3",
   "version": "3.11.4"
  }
 },
 "nbformat": 4,
 "nbformat_minor": 2
}
