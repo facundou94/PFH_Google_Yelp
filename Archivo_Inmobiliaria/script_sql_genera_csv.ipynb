{
 "cells": [
  {
   "cell_type": "code",
   "execution_count": 1,
   "metadata": {},
   "outputs": [
    {
     "name": "stderr",
     "output_type": "stream",
     "text": [
      "C:\\Users\\CIN\\AppData\\Local\\Temp\\ipykernel_5564\\4120761460.py:23: UserWarning: pandas only supports SQLAlchemy connectable (engine/connection) or database string URI or sqlite3 DBAPI2 connection. Other DBAPI2 objects are not tested. Please consider using SQLAlchemy.\n",
      "  df = pd.read_sql(query, cnx)\n"
     ]
    },
    {
     "name": "stdout",
     "output_type": "stream",
     "text": [
      "Archivo Propiedades.csv guardado en D:/usuarios/CIN/MIS DOCUMENTOS/PF_Google_Yelp/.\n",
      "Archivo Publicaciones_Alquileres.csv guardado en D:/usuarios/CIN/MIS DOCUMENTOS/PF_Google_Yelp/.\n",
      "Archivo Inquilinos.csv guardado en D:/usuarios/CIN/MIS DOCUMENTOS/PF_Google_Yelp/.\n",
      "Archivo Contratos.csv guardado en D:/usuarios/CIN/MIS DOCUMENTOS/PF_Google_Yelp/.\n",
      "Todos los archivos CSV han sido guardados en la carpeta local.\n"
     ]
    }
   ],
   "source": [
    "import os\n",
    "import mysql.connector\n",
    "import pandas as pd\n",
    "\n",
    "# Conectar a la base de datos MySQL\n",
    "cnx = mysql.connector.connect(\n",
    "    host='localhost',\n",
    "    user='root',\n",
    "    password='12345',\n",
    "    database='Legacy_Inmobiliaria'\n",
    ")\n",
    "\n",
    "# Ruta donde se guardarán los CSV\n",
    "csv_directory = 'D:/usuarios/CIN/MIS DOCUMENTOS/PF_Google_Yelp/'\n",
    "\n",
    "# Asegurarse de que la carpeta exista\n",
    "os.makedirs(csv_directory, exist_ok=True)\n",
    "\n",
    "# Consultar datos de las tablas y guardar en archivos CSV\n",
    "tables = ['Propiedades', 'Publicaciones_Alquileres', 'Inquilinos', 'Contratos']\n",
    "for table in tables:\n",
    "    query = f'SELECT * FROM {table}'\n",
    "    df = pd.read_sql(query, cnx)\n",
    "    df.to_csv(os.path.join(csv_directory, f'{table}.csv'), index=False)\n",
    "    print(f'Archivo {table}.csv guardado en {csv_directory}.')\n",
    "\n",
    "# Cerrar la conexión\n",
    "cnx.close()\n",
    "\n",
    "print('Todos los archivos CSV han sido guardados en la carpeta local.')\n"
   ]
  }
 ],
 "metadata": {
  "kernelspec": {
   "display_name": "Python 3",
   "language": "python",
   "name": "python3"
  },
  "language_info": {
   "codemirror_mode": {
    "name": "ipython",
    "version": 3
   },
   "file_extension": ".py",
   "mimetype": "text/x-python",
   "name": "python",
   "nbconvert_exporter": "python",
   "pygments_lexer": "ipython3",
   "version": "3.11.0"
  }
 },
 "nbformat": 4,
 "nbformat_minor": 2
}
